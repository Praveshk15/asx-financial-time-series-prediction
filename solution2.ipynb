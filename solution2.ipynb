{
 "cells": [
  {
   "cell_type": "markdown",
   "metadata": {},
   "source": [
    "# Quantitative Research Task"
   ]
  },
  {
   "cell_type": "markdown",
   "metadata": {},
   "source": [
    "The purpose of this test is to give you a feel for the analysis of financial time series, and for us assess your ability in programming, machine learning, and statistical modelling."
   ]
  },
  {
   "cell_type": "markdown",
   "metadata": {},
   "source": [
    "## 1. Data Processing"
   ]
  },
  {
   "cell_type": "markdown",
   "metadata": {},
   "source": [
    "The provided data set contains ASX stock prices from Jan 2015 to June 2018. Each csv file contains end of day (EOD) data in the following format: Ticker, Date, Open, High, Low, Close, and Volume.\n",
    "\n",
    "The first task is converting the EOD data into five seperate time series data frames; one each for Open, High, Low Close and Volume. In each data frame, rows should be indexed by date, and columns by ticker.\n",
    "\n",
    "First, let's read the data from all the text files."
   ]
  },
  {
   "cell_type": "code",
   "execution_count": 80,
   "metadata": {},
   "outputs": [],
   "source": [
    "import glob\n",
    "import pandas as pd\n",
    "\n",
    "# get list of file names from directory\n",
    "directory = \"./ASX-2015-2018/ASX-2015-2018/\"\n",
    "files = glob.glob(directory + '[0-9]*.txt')\n",
    "\n",
    "# generate list of dataframes from each file (or date) respectively\n",
    "cl_name = [\"ticker\", \"date\", \"open\", \"high\", \"low\", \"close\", \"volume\"]\n",
    "dfs = [pd.read_csv(file, \n",
    "                   sep=\",\", \n",
    "                   names = cl_name, \n",
    "                   header = None, \n",
    "                   parse_dates = [\"date\"], \n",
    "                   index_col = \"date\") \n",
    "       for file in files]\n",
    "\n",
    "# concatenate the dataframes into one temporary dataframe\n",
    "df_master = pd.concat(dfs)"
   ]
  },
  {
   "cell_type": "markdown",
   "metadata": {},
   "source": [
    "Let us first understand how many tickers and observations (days) are there in total based on the concatenated dataframe `df_master`."
   ]
  },
  {
   "cell_type": "code",
   "execution_count": 81,
   "metadata": {},
   "outputs": [
    {
     "name": "stdout",
     "output_type": "stream",
     "text": [
      "There are 2773 tickers with obervations over 883 days.\n"
     ]
    }
   ],
   "source": [
    "# number of tickers in dataframe\n",
    "print(\"There are {} tickers with obervations over {} days.\".format(df_master.ticker.unique().size, df_master.index.unique().size))"
   ]
  },
  {
   "cell_type": "markdown",
   "metadata": {},
   "source": [
    "Now, let's build dataframe for open, high, low, close, and volume as desired"
   ]
  },
  {
   "cell_type": "code",
   "execution_count": 82,
   "metadata": {},
   "outputs": [],
   "source": [
    "# using pivot function, for each ticker values, individual dataframes for open, high, low, close, and volume can be built\n",
    "df_open = df_master[[\"ticker\", \"open\"]].pivot(columns = \"ticker\", values = \"open\")\n",
    "df_high = df_master[[\"ticker\", \"high\"]].pivot(columns = \"ticker\", values = \"high\")\n",
    "df_low = df_master[[\"ticker\", \"low\"]].pivot(columns = \"ticker\", values = \"low\")\n",
    "df_close = df_master[[\"ticker\", \"close\"]].pivot(columns = \"ticker\", values = \"close\")\n",
    "df_volume = df_master[[\"ticker\", \"volume\"]].pivot(columns = \"ticker\", values = \"volume\")"
   ]
  },
  {
   "cell_type": "markdown",
   "metadata": {},
   "source": [
    "Below is the close price dataframe (head) for reference."
   ]
  },
  {
   "cell_type": "code",
   "execution_count": 83,
   "metadata": {},
   "outputs": [
    {
     "data": {
      "text/html": [
       "<div>\n",
       "<style scoped>\n",
       "    .dataframe tbody tr th:only-of-type {\n",
       "        vertical-align: middle;\n",
       "    }\n",
       "\n",
       "    .dataframe tbody tr th {\n",
       "        vertical-align: top;\n",
       "    }\n",
       "\n",
       "    .dataframe thead th {\n",
       "        text-align: right;\n",
       "    }\n",
       "</style>\n",
       "<table border=\"1\" class=\"dataframe\">\n",
       "  <thead>\n",
       "    <tr style=\"text-align: right;\">\n",
       "      <th>ticker</th>\n",
       "      <th>1AD</th>\n",
       "      <th>1AG</th>\n",
       "      <th>1AL</th>\n",
       "      <th>1PG</th>\n",
       "      <th>1ST</th>\n",
       "      <th>3DM</th>\n",
       "      <th>3DP</th>\n",
       "      <th>3PL</th>\n",
       "      <th>4CE</th>\n",
       "      <th>4DS</th>\n",
       "      <th>...</th>\n",
       "      <th>ZNO</th>\n",
       "      <th>ZNT</th>\n",
       "      <th>ZNZ</th>\n",
       "      <th>ZOZI</th>\n",
       "      <th>ZRL</th>\n",
       "      <th>ZTA</th>\n",
       "      <th>ZUSD</th>\n",
       "      <th>ZYB</th>\n",
       "      <th>ZYL</th>\n",
       "      <th>ZYUS</th>\n",
       "    </tr>\n",
       "    <tr>\n",
       "      <th>date</th>\n",
       "      <th></th>\n",
       "      <th></th>\n",
       "      <th></th>\n",
       "      <th></th>\n",
       "      <th></th>\n",
       "      <th></th>\n",
       "      <th></th>\n",
       "      <th></th>\n",
       "      <th></th>\n",
       "      <th></th>\n",
       "      <th></th>\n",
       "      <th></th>\n",
       "      <th></th>\n",
       "      <th></th>\n",
       "      <th></th>\n",
       "      <th></th>\n",
       "      <th></th>\n",
       "      <th></th>\n",
       "      <th></th>\n",
       "      <th></th>\n",
       "      <th></th>\n",
       "    </tr>\n",
       "  </thead>\n",
       "  <tbody>\n",
       "    <tr>\n",
       "      <th>2015-01-02</th>\n",
       "      <td>NaN</td>\n",
       "      <td>NaN</td>\n",
       "      <td>NaN</td>\n",
       "      <td>1.215</td>\n",
       "      <td>NaN</td>\n",
       "      <td>NaN</td>\n",
       "      <td>NaN</td>\n",
       "      <td>2.26</td>\n",
       "      <td>NaN</td>\n",
       "      <td>NaN</td>\n",
       "      <td>...</td>\n",
       "      <td>NaN</td>\n",
       "      <td>NaN</td>\n",
       "      <td>NaN</td>\n",
       "      <td>NaN</td>\n",
       "      <td>0.067</td>\n",
       "      <td>NaN</td>\n",
       "      <td>NaN</td>\n",
       "      <td>NaN</td>\n",
       "      <td>NaN</td>\n",
       "      <td>NaN</td>\n",
       "    </tr>\n",
       "    <tr>\n",
       "      <th>2015-01-05</th>\n",
       "      <td>NaN</td>\n",
       "      <td>NaN</td>\n",
       "      <td>NaN</td>\n",
       "      <td>1.265</td>\n",
       "      <td>NaN</td>\n",
       "      <td>NaN</td>\n",
       "      <td>NaN</td>\n",
       "      <td>2.07</td>\n",
       "      <td>NaN</td>\n",
       "      <td>NaN</td>\n",
       "      <td>...</td>\n",
       "      <td>NaN</td>\n",
       "      <td>NaN</td>\n",
       "      <td>4.40</td>\n",
       "      <td>NaN</td>\n",
       "      <td>0.070</td>\n",
       "      <td>NaN</td>\n",
       "      <td>NaN</td>\n",
       "      <td>NaN</td>\n",
       "      <td>NaN</td>\n",
       "      <td>NaN</td>\n",
       "    </tr>\n",
       "    <tr>\n",
       "      <th>2015-01-06</th>\n",
       "      <td>NaN</td>\n",
       "      <td>NaN</td>\n",
       "      <td>NaN</td>\n",
       "      <td>1.245</td>\n",
       "      <td>NaN</td>\n",
       "      <td>NaN</td>\n",
       "      <td>NaN</td>\n",
       "      <td>2.08</td>\n",
       "      <td>NaN</td>\n",
       "      <td>NaN</td>\n",
       "      <td>...</td>\n",
       "      <td>NaN</td>\n",
       "      <td>NaN</td>\n",
       "      <td>4.39</td>\n",
       "      <td>NaN</td>\n",
       "      <td>NaN</td>\n",
       "      <td>NaN</td>\n",
       "      <td>NaN</td>\n",
       "      <td>NaN</td>\n",
       "      <td>NaN</td>\n",
       "      <td>NaN</td>\n",
       "    </tr>\n",
       "    <tr>\n",
       "      <th>2015-01-07</th>\n",
       "      <td>NaN</td>\n",
       "      <td>NaN</td>\n",
       "      <td>NaN</td>\n",
       "      <td>1.250</td>\n",
       "      <td>NaN</td>\n",
       "      <td>NaN</td>\n",
       "      <td>NaN</td>\n",
       "      <td>2.05</td>\n",
       "      <td>NaN</td>\n",
       "      <td>NaN</td>\n",
       "      <td>...</td>\n",
       "      <td>NaN</td>\n",
       "      <td>NaN</td>\n",
       "      <td>NaN</td>\n",
       "      <td>NaN</td>\n",
       "      <td>NaN</td>\n",
       "      <td>0.003</td>\n",
       "      <td>NaN</td>\n",
       "      <td>NaN</td>\n",
       "      <td>NaN</td>\n",
       "      <td>NaN</td>\n",
       "    </tr>\n",
       "    <tr>\n",
       "      <th>2015-01-08</th>\n",
       "      <td>NaN</td>\n",
       "      <td>NaN</td>\n",
       "      <td>NaN</td>\n",
       "      <td>1.255</td>\n",
       "      <td>NaN</td>\n",
       "      <td>NaN</td>\n",
       "      <td>NaN</td>\n",
       "      <td>2.08</td>\n",
       "      <td>NaN</td>\n",
       "      <td>NaN</td>\n",
       "      <td>...</td>\n",
       "      <td>NaN</td>\n",
       "      <td>NaN</td>\n",
       "      <td>NaN</td>\n",
       "      <td>NaN</td>\n",
       "      <td>NaN</td>\n",
       "      <td>NaN</td>\n",
       "      <td>NaN</td>\n",
       "      <td>NaN</td>\n",
       "      <td>NaN</td>\n",
       "      <td>NaN</td>\n",
       "    </tr>\n",
       "  </tbody>\n",
       "</table>\n",
       "<p>5 rows × 2773 columns</p>\n",
       "</div>"
      ],
      "text/plain": [
       "ticker      1AD  1AG  1AL    1PG  1ST  3DM  3DP   3PL  4CE  4DS  ...   ZNO  \\\n",
       "date                                                             ...         \n",
       "2015-01-02  NaN  NaN  NaN  1.215  NaN  NaN  NaN  2.26  NaN  NaN  ...   NaN   \n",
       "2015-01-05  NaN  NaN  NaN  1.265  NaN  NaN  NaN  2.07  NaN  NaN  ...   NaN   \n",
       "2015-01-06  NaN  NaN  NaN  1.245  NaN  NaN  NaN  2.08  NaN  NaN  ...   NaN   \n",
       "2015-01-07  NaN  NaN  NaN  1.250  NaN  NaN  NaN  2.05  NaN  NaN  ...   NaN   \n",
       "2015-01-08  NaN  NaN  NaN  1.255  NaN  NaN  NaN  2.08  NaN  NaN  ...   NaN   \n",
       "\n",
       "ticker      ZNT   ZNZ  ZOZI    ZRL    ZTA  ZUSD  ZYB  ZYL  ZYUS  \n",
       "date                                                             \n",
       "2015-01-02  NaN   NaN   NaN  0.067    NaN   NaN  NaN  NaN   NaN  \n",
       "2015-01-05  NaN  4.40   NaN  0.070    NaN   NaN  NaN  NaN   NaN  \n",
       "2015-01-06  NaN  4.39   NaN    NaN    NaN   NaN  NaN  NaN   NaN  \n",
       "2015-01-07  NaN   NaN   NaN    NaN  0.003   NaN  NaN  NaN   NaN  \n",
       "2015-01-08  NaN   NaN   NaN    NaN    NaN   NaN  NaN  NaN   NaN  \n",
       "\n",
       "[5 rows x 2773 columns]"
      ]
     },
     "execution_count": 83,
     "metadata": {},
     "output_type": "execute_result"
    }
   ],
   "source": [
    "df_close.head()"
   ]
  },
  {
   "cell_type": "markdown",
   "metadata": {},
   "source": [
    "Next, we create a dataframe containing the future close returns at time $t$, denoted as $r_{t,t+1}$, as defined by:\n",
    "\n",
    "$$r_{t,t+1}=\\frac{P^{c}_{t+1}}{P^{c}_{t}}-1,$$\n",
    "\n",
    "where $P^c_t$ is the close price at time $t$. This will be the quantity-of-interest that will be predicted."
   ]
  },
  {
   "cell_type": "code",
   "execution_count": 84,
   "metadata": {},
   "outputs": [
    {
     "data": {
      "text/html": [
       "<div>\n",
       "<style scoped>\n",
       "    .dataframe tbody tr th:only-of-type {\n",
       "        vertical-align: middle;\n",
       "    }\n",
       "\n",
       "    .dataframe tbody tr th {\n",
       "        vertical-align: top;\n",
       "    }\n",
       "\n",
       "    .dataframe thead th {\n",
       "        text-align: right;\n",
       "    }\n",
       "</style>\n",
       "<table border=\"1\" class=\"dataframe\">\n",
       "  <thead>\n",
       "    <tr style=\"text-align: right;\">\n",
       "      <th>ticker</th>\n",
       "      <th>1AD</th>\n",
       "      <th>1AG</th>\n",
       "      <th>1AL</th>\n",
       "      <th>1PG</th>\n",
       "      <th>1ST</th>\n",
       "      <th>3DM</th>\n",
       "      <th>3DP</th>\n",
       "      <th>3PL</th>\n",
       "      <th>4CE</th>\n",
       "      <th>4DS</th>\n",
       "      <th>...</th>\n",
       "      <th>ZNO</th>\n",
       "      <th>ZNT</th>\n",
       "      <th>ZNZ</th>\n",
       "      <th>ZOZI</th>\n",
       "      <th>ZRL</th>\n",
       "      <th>ZTA</th>\n",
       "      <th>ZUSD</th>\n",
       "      <th>ZYB</th>\n",
       "      <th>ZYL</th>\n",
       "      <th>ZYUS</th>\n",
       "    </tr>\n",
       "    <tr>\n",
       "      <th>date</th>\n",
       "      <th></th>\n",
       "      <th></th>\n",
       "      <th></th>\n",
       "      <th></th>\n",
       "      <th></th>\n",
       "      <th></th>\n",
       "      <th></th>\n",
       "      <th></th>\n",
       "      <th></th>\n",
       "      <th></th>\n",
       "      <th></th>\n",
       "      <th></th>\n",
       "      <th></th>\n",
       "      <th></th>\n",
       "      <th></th>\n",
       "      <th></th>\n",
       "      <th></th>\n",
       "      <th></th>\n",
       "      <th></th>\n",
       "      <th></th>\n",
       "      <th></th>\n",
       "    </tr>\n",
       "  </thead>\n",
       "  <tbody>\n",
       "    <tr>\n",
       "      <th>2015-01-02</th>\n",
       "      <td>NaN</td>\n",
       "      <td>NaN</td>\n",
       "      <td>NaN</td>\n",
       "      <td>0.041152</td>\n",
       "      <td>NaN</td>\n",
       "      <td>NaN</td>\n",
       "      <td>NaN</td>\n",
       "      <td>-0.084071</td>\n",
       "      <td>NaN</td>\n",
       "      <td>NaN</td>\n",
       "      <td>...</td>\n",
       "      <td>NaN</td>\n",
       "      <td>NaN</td>\n",
       "      <td>NaN</td>\n",
       "      <td>NaN</td>\n",
       "      <td>0.044776</td>\n",
       "      <td>NaN</td>\n",
       "      <td>NaN</td>\n",
       "      <td>NaN</td>\n",
       "      <td>NaN</td>\n",
       "      <td>NaN</td>\n",
       "    </tr>\n",
       "    <tr>\n",
       "      <th>2015-01-05</th>\n",
       "      <td>NaN</td>\n",
       "      <td>NaN</td>\n",
       "      <td>NaN</td>\n",
       "      <td>-0.015810</td>\n",
       "      <td>NaN</td>\n",
       "      <td>NaN</td>\n",
       "      <td>NaN</td>\n",
       "      <td>0.004831</td>\n",
       "      <td>NaN</td>\n",
       "      <td>NaN</td>\n",
       "      <td>...</td>\n",
       "      <td>NaN</td>\n",
       "      <td>NaN</td>\n",
       "      <td>-0.002273</td>\n",
       "      <td>NaN</td>\n",
       "      <td>NaN</td>\n",
       "      <td>NaN</td>\n",
       "      <td>NaN</td>\n",
       "      <td>NaN</td>\n",
       "      <td>NaN</td>\n",
       "      <td>NaN</td>\n",
       "    </tr>\n",
       "    <tr>\n",
       "      <th>2015-01-06</th>\n",
       "      <td>NaN</td>\n",
       "      <td>NaN</td>\n",
       "      <td>NaN</td>\n",
       "      <td>0.004016</td>\n",
       "      <td>NaN</td>\n",
       "      <td>NaN</td>\n",
       "      <td>NaN</td>\n",
       "      <td>-0.014423</td>\n",
       "      <td>NaN</td>\n",
       "      <td>NaN</td>\n",
       "      <td>...</td>\n",
       "      <td>NaN</td>\n",
       "      <td>NaN</td>\n",
       "      <td>NaN</td>\n",
       "      <td>NaN</td>\n",
       "      <td>NaN</td>\n",
       "      <td>NaN</td>\n",
       "      <td>NaN</td>\n",
       "      <td>NaN</td>\n",
       "      <td>NaN</td>\n",
       "      <td>NaN</td>\n",
       "    </tr>\n",
       "    <tr>\n",
       "      <th>2015-01-07</th>\n",
       "      <td>NaN</td>\n",
       "      <td>NaN</td>\n",
       "      <td>NaN</td>\n",
       "      <td>0.004000</td>\n",
       "      <td>NaN</td>\n",
       "      <td>NaN</td>\n",
       "      <td>NaN</td>\n",
       "      <td>0.014634</td>\n",
       "      <td>NaN</td>\n",
       "      <td>NaN</td>\n",
       "      <td>...</td>\n",
       "      <td>NaN</td>\n",
       "      <td>NaN</td>\n",
       "      <td>NaN</td>\n",
       "      <td>NaN</td>\n",
       "      <td>NaN</td>\n",
       "      <td>NaN</td>\n",
       "      <td>NaN</td>\n",
       "      <td>NaN</td>\n",
       "      <td>NaN</td>\n",
       "      <td>NaN</td>\n",
       "    </tr>\n",
       "    <tr>\n",
       "      <th>2015-01-08</th>\n",
       "      <td>NaN</td>\n",
       "      <td>NaN</td>\n",
       "      <td>NaN</td>\n",
       "      <td>0.015936</td>\n",
       "      <td>NaN</td>\n",
       "      <td>NaN</td>\n",
       "      <td>NaN</td>\n",
       "      <td>0.096154</td>\n",
       "      <td>NaN</td>\n",
       "      <td>NaN</td>\n",
       "      <td>...</td>\n",
       "      <td>NaN</td>\n",
       "      <td>NaN</td>\n",
       "      <td>NaN</td>\n",
       "      <td>NaN</td>\n",
       "      <td>NaN</td>\n",
       "      <td>NaN</td>\n",
       "      <td>NaN</td>\n",
       "      <td>NaN</td>\n",
       "      <td>NaN</td>\n",
       "      <td>NaN</td>\n",
       "    </tr>\n",
       "  </tbody>\n",
       "</table>\n",
       "<p>5 rows × 2773 columns</p>\n",
       "</div>"
      ],
      "text/plain": [
       "ticker      1AD  1AG  1AL       1PG  1ST  3DM  3DP       3PL  4CE  4DS  ...   \\\n",
       "date                                                                    ...    \n",
       "2015-01-02  NaN  NaN  NaN  0.041152  NaN  NaN  NaN -0.084071  NaN  NaN  ...    \n",
       "2015-01-05  NaN  NaN  NaN -0.015810  NaN  NaN  NaN  0.004831  NaN  NaN  ...    \n",
       "2015-01-06  NaN  NaN  NaN  0.004016  NaN  NaN  NaN -0.014423  NaN  NaN  ...    \n",
       "2015-01-07  NaN  NaN  NaN  0.004000  NaN  NaN  NaN  0.014634  NaN  NaN  ...    \n",
       "2015-01-08  NaN  NaN  NaN  0.015936  NaN  NaN  NaN  0.096154  NaN  NaN  ...    \n",
       "\n",
       "ticker      ZNO  ZNT       ZNZ  ZOZI       ZRL  ZTA  ZUSD  ZYB  ZYL  ZYUS  \n",
       "date                                                                       \n",
       "2015-01-02  NaN  NaN       NaN   NaN  0.044776  NaN   NaN  NaN  NaN   NaN  \n",
       "2015-01-05  NaN  NaN -0.002273   NaN       NaN  NaN   NaN  NaN  NaN   NaN  \n",
       "2015-01-06  NaN  NaN       NaN   NaN       NaN  NaN   NaN  NaN  NaN   NaN  \n",
       "2015-01-07  NaN  NaN       NaN   NaN       NaN  NaN   NaN  NaN  NaN   NaN  \n",
       "2015-01-08  NaN  NaN       NaN   NaN       NaN  NaN   NaN  NaN  NaN   NaN  \n",
       "\n",
       "[5 rows x 2773 columns]"
      ]
     },
     "execution_count": 84,
     "metadata": {},
     "output_type": "execute_result"
    }
   ],
   "source": [
    "from pandas.tseries.offsets import BDay\n",
    "\n",
    "# to find the future close return of t+1, or the close return of next business day, and assign to the index of t\n",
    "df_ftr_rtn = (df_close.shift(-1) / df_close) - 1\n",
    "df_ftr_rtn.head()"
   ]
  },
  {
   "cell_type": "markdown",
   "metadata": {},
   "source": [
    "Also create a data frame containing close returns for the day, which is calculated with respect to the close price of the previous day."
   ]
  },
  {
   "cell_type": "code",
   "execution_count": 85,
   "metadata": {},
   "outputs": [
    {
     "data": {
      "text/html": [
       "<div>\n",
       "<style scoped>\n",
       "    .dataframe tbody tr th:only-of-type {\n",
       "        vertical-align: middle;\n",
       "    }\n",
       "\n",
       "    .dataframe tbody tr th {\n",
       "        vertical-align: top;\n",
       "    }\n",
       "\n",
       "    .dataframe thead th {\n",
       "        text-align: right;\n",
       "    }\n",
       "</style>\n",
       "<table border=\"1\" class=\"dataframe\">\n",
       "  <thead>\n",
       "    <tr style=\"text-align: right;\">\n",
       "      <th>ticker</th>\n",
       "      <th>1AD</th>\n",
       "      <th>1AG</th>\n",
       "      <th>1AL</th>\n",
       "      <th>1PG</th>\n",
       "      <th>1ST</th>\n",
       "      <th>3DM</th>\n",
       "      <th>3DP</th>\n",
       "      <th>3PL</th>\n",
       "      <th>4CE</th>\n",
       "      <th>4DS</th>\n",
       "      <th>...</th>\n",
       "      <th>ZNO</th>\n",
       "      <th>ZNT</th>\n",
       "      <th>ZNZ</th>\n",
       "      <th>ZOZI</th>\n",
       "      <th>ZRL</th>\n",
       "      <th>ZTA</th>\n",
       "      <th>ZUSD</th>\n",
       "      <th>ZYB</th>\n",
       "      <th>ZYL</th>\n",
       "      <th>ZYUS</th>\n",
       "    </tr>\n",
       "    <tr>\n",
       "      <th>date</th>\n",
       "      <th></th>\n",
       "      <th></th>\n",
       "      <th></th>\n",
       "      <th></th>\n",
       "      <th></th>\n",
       "      <th></th>\n",
       "      <th></th>\n",
       "      <th></th>\n",
       "      <th></th>\n",
       "      <th></th>\n",
       "      <th></th>\n",
       "      <th></th>\n",
       "      <th></th>\n",
       "      <th></th>\n",
       "      <th></th>\n",
       "      <th></th>\n",
       "      <th></th>\n",
       "      <th></th>\n",
       "      <th></th>\n",
       "      <th></th>\n",
       "      <th></th>\n",
       "    </tr>\n",
       "  </thead>\n",
       "  <tbody>\n",
       "    <tr>\n",
       "      <th>2015-01-02</th>\n",
       "      <td>NaN</td>\n",
       "      <td>NaN</td>\n",
       "      <td>NaN</td>\n",
       "      <td>NaN</td>\n",
       "      <td>NaN</td>\n",
       "      <td>NaN</td>\n",
       "      <td>NaN</td>\n",
       "      <td>NaN</td>\n",
       "      <td>NaN</td>\n",
       "      <td>NaN</td>\n",
       "      <td>...</td>\n",
       "      <td>NaN</td>\n",
       "      <td>NaN</td>\n",
       "      <td>NaN</td>\n",
       "      <td>NaN</td>\n",
       "      <td>NaN</td>\n",
       "      <td>NaN</td>\n",
       "      <td>NaN</td>\n",
       "      <td>NaN</td>\n",
       "      <td>NaN</td>\n",
       "      <td>NaN</td>\n",
       "    </tr>\n",
       "    <tr>\n",
       "      <th>2015-01-05</th>\n",
       "      <td>NaN</td>\n",
       "      <td>NaN</td>\n",
       "      <td>NaN</td>\n",
       "      <td>0.041152</td>\n",
       "      <td>NaN</td>\n",
       "      <td>NaN</td>\n",
       "      <td>NaN</td>\n",
       "      <td>-0.084071</td>\n",
       "      <td>NaN</td>\n",
       "      <td>NaN</td>\n",
       "      <td>...</td>\n",
       "      <td>NaN</td>\n",
       "      <td>NaN</td>\n",
       "      <td>NaN</td>\n",
       "      <td>NaN</td>\n",
       "      <td>0.044776</td>\n",
       "      <td>NaN</td>\n",
       "      <td>NaN</td>\n",
       "      <td>NaN</td>\n",
       "      <td>NaN</td>\n",
       "      <td>NaN</td>\n",
       "    </tr>\n",
       "    <tr>\n",
       "      <th>2015-01-06</th>\n",
       "      <td>NaN</td>\n",
       "      <td>NaN</td>\n",
       "      <td>NaN</td>\n",
       "      <td>-0.015810</td>\n",
       "      <td>NaN</td>\n",
       "      <td>NaN</td>\n",
       "      <td>NaN</td>\n",
       "      <td>0.004831</td>\n",
       "      <td>NaN</td>\n",
       "      <td>NaN</td>\n",
       "      <td>...</td>\n",
       "      <td>NaN</td>\n",
       "      <td>NaN</td>\n",
       "      <td>-0.002273</td>\n",
       "      <td>NaN</td>\n",
       "      <td>NaN</td>\n",
       "      <td>NaN</td>\n",
       "      <td>NaN</td>\n",
       "      <td>NaN</td>\n",
       "      <td>NaN</td>\n",
       "      <td>NaN</td>\n",
       "    </tr>\n",
       "    <tr>\n",
       "      <th>2015-01-07</th>\n",
       "      <td>NaN</td>\n",
       "      <td>NaN</td>\n",
       "      <td>NaN</td>\n",
       "      <td>0.004016</td>\n",
       "      <td>NaN</td>\n",
       "      <td>NaN</td>\n",
       "      <td>NaN</td>\n",
       "      <td>-0.014423</td>\n",
       "      <td>NaN</td>\n",
       "      <td>NaN</td>\n",
       "      <td>...</td>\n",
       "      <td>NaN</td>\n",
       "      <td>NaN</td>\n",
       "      <td>NaN</td>\n",
       "      <td>NaN</td>\n",
       "      <td>NaN</td>\n",
       "      <td>NaN</td>\n",
       "      <td>NaN</td>\n",
       "      <td>NaN</td>\n",
       "      <td>NaN</td>\n",
       "      <td>NaN</td>\n",
       "    </tr>\n",
       "    <tr>\n",
       "      <th>2015-01-08</th>\n",
       "      <td>NaN</td>\n",
       "      <td>NaN</td>\n",
       "      <td>NaN</td>\n",
       "      <td>0.004000</td>\n",
       "      <td>NaN</td>\n",
       "      <td>NaN</td>\n",
       "      <td>NaN</td>\n",
       "      <td>0.014634</td>\n",
       "      <td>NaN</td>\n",
       "      <td>NaN</td>\n",
       "      <td>...</td>\n",
       "      <td>NaN</td>\n",
       "      <td>NaN</td>\n",
       "      <td>NaN</td>\n",
       "      <td>NaN</td>\n",
       "      <td>NaN</td>\n",
       "      <td>NaN</td>\n",
       "      <td>NaN</td>\n",
       "      <td>NaN</td>\n",
       "      <td>NaN</td>\n",
       "      <td>NaN</td>\n",
       "    </tr>\n",
       "  </tbody>\n",
       "</table>\n",
       "<p>5 rows × 2773 columns</p>\n",
       "</div>"
      ],
      "text/plain": [
       "ticker      1AD  1AG  1AL       1PG  1ST  3DM  3DP       3PL  4CE  4DS  ...   \\\n",
       "date                                                                    ...    \n",
       "2015-01-02  NaN  NaN  NaN       NaN  NaN  NaN  NaN       NaN  NaN  NaN  ...    \n",
       "2015-01-05  NaN  NaN  NaN  0.041152  NaN  NaN  NaN -0.084071  NaN  NaN  ...    \n",
       "2015-01-06  NaN  NaN  NaN -0.015810  NaN  NaN  NaN  0.004831  NaN  NaN  ...    \n",
       "2015-01-07  NaN  NaN  NaN  0.004016  NaN  NaN  NaN -0.014423  NaN  NaN  ...    \n",
       "2015-01-08  NaN  NaN  NaN  0.004000  NaN  NaN  NaN  0.014634  NaN  NaN  ...    \n",
       "\n",
       "ticker      ZNO  ZNT       ZNZ  ZOZI       ZRL  ZTA  ZUSD  ZYB  ZYL  ZYUS  \n",
       "date                                                                       \n",
       "2015-01-02  NaN  NaN       NaN   NaN       NaN  NaN   NaN  NaN  NaN   NaN  \n",
       "2015-01-05  NaN  NaN       NaN   NaN  0.044776  NaN   NaN  NaN  NaN   NaN  \n",
       "2015-01-06  NaN  NaN -0.002273   NaN       NaN  NaN   NaN  NaN  NaN   NaN  \n",
       "2015-01-07  NaN  NaN       NaN   NaN       NaN  NaN   NaN  NaN  NaN   NaN  \n",
       "2015-01-08  NaN  NaN       NaN   NaN       NaN  NaN   NaN  NaN  NaN   NaN  \n",
       "\n",
       "[5 rows x 2773 columns]"
      ]
     },
     "execution_count": 85,
     "metadata": {},
     "output_type": "execute_result"
    }
   ],
   "source": [
    "# to find the future close return of t based on t-1 close values and assign to the index of t\n",
    "df_rtn = (df_close / df_close.shift(1)) - 1\n",
    "df_rtn.head()"
   ]
  },
  {
   "cell_type": "markdown",
   "metadata": {},
   "source": [
    "Create a data frame containing the ratios of $\\frac{High}{Low}$ for each ticker each day, in the same format."
   ]
  },
  {
   "cell_type": "code",
   "execution_count": 86,
   "metadata": {},
   "outputs": [
    {
     "data": {
      "text/html": [
       "<div>\n",
       "<style scoped>\n",
       "    .dataframe tbody tr th:only-of-type {\n",
       "        vertical-align: middle;\n",
       "    }\n",
       "\n",
       "    .dataframe tbody tr th {\n",
       "        vertical-align: top;\n",
       "    }\n",
       "\n",
       "    .dataframe thead th {\n",
       "        text-align: right;\n",
       "    }\n",
       "</style>\n",
       "<table border=\"1\" class=\"dataframe\">\n",
       "  <thead>\n",
       "    <tr style=\"text-align: right;\">\n",
       "      <th>ticker</th>\n",
       "      <th>1AD</th>\n",
       "      <th>1AG</th>\n",
       "      <th>1AL</th>\n",
       "      <th>1PG</th>\n",
       "      <th>1ST</th>\n",
       "      <th>3DM</th>\n",
       "      <th>3DP</th>\n",
       "      <th>3PL</th>\n",
       "      <th>4CE</th>\n",
       "      <th>4DS</th>\n",
       "      <th>...</th>\n",
       "      <th>ZNO</th>\n",
       "      <th>ZNT</th>\n",
       "      <th>ZNZ</th>\n",
       "      <th>ZOZI</th>\n",
       "      <th>ZRL</th>\n",
       "      <th>ZTA</th>\n",
       "      <th>ZUSD</th>\n",
       "      <th>ZYB</th>\n",
       "      <th>ZYL</th>\n",
       "      <th>ZYUS</th>\n",
       "    </tr>\n",
       "    <tr>\n",
       "      <th>date</th>\n",
       "      <th></th>\n",
       "      <th></th>\n",
       "      <th></th>\n",
       "      <th></th>\n",
       "      <th></th>\n",
       "      <th></th>\n",
       "      <th></th>\n",
       "      <th></th>\n",
       "      <th></th>\n",
       "      <th></th>\n",
       "      <th></th>\n",
       "      <th></th>\n",
       "      <th></th>\n",
       "      <th></th>\n",
       "      <th></th>\n",
       "      <th></th>\n",
       "      <th></th>\n",
       "      <th></th>\n",
       "      <th></th>\n",
       "      <th></th>\n",
       "      <th></th>\n",
       "    </tr>\n",
       "  </thead>\n",
       "  <tbody>\n",
       "    <tr>\n",
       "      <th>2015-01-02</th>\n",
       "      <td>NaN</td>\n",
       "      <td>NaN</td>\n",
       "      <td>NaN</td>\n",
       "      <td>1.068966</td>\n",
       "      <td>NaN</td>\n",
       "      <td>NaN</td>\n",
       "      <td>NaN</td>\n",
       "      <td>1.055300</td>\n",
       "      <td>NaN</td>\n",
       "      <td>NaN</td>\n",
       "      <td>...</td>\n",
       "      <td>NaN</td>\n",
       "      <td>NaN</td>\n",
       "      <td>NaN</td>\n",
       "      <td>NaN</td>\n",
       "      <td>1.0</td>\n",
       "      <td>NaN</td>\n",
       "      <td>NaN</td>\n",
       "      <td>NaN</td>\n",
       "      <td>NaN</td>\n",
       "      <td>NaN</td>\n",
       "    </tr>\n",
       "    <tr>\n",
       "      <th>2015-01-05</th>\n",
       "      <td>NaN</td>\n",
       "      <td>NaN</td>\n",
       "      <td>NaN</td>\n",
       "      <td>1.061224</td>\n",
       "      <td>NaN</td>\n",
       "      <td>NaN</td>\n",
       "      <td>NaN</td>\n",
       "      <td>1.111111</td>\n",
       "      <td>NaN</td>\n",
       "      <td>NaN</td>\n",
       "      <td>...</td>\n",
       "      <td>NaN</td>\n",
       "      <td>NaN</td>\n",
       "      <td>1.022727</td>\n",
       "      <td>NaN</td>\n",
       "      <td>1.0</td>\n",
       "      <td>NaN</td>\n",
       "      <td>NaN</td>\n",
       "      <td>NaN</td>\n",
       "      <td>NaN</td>\n",
       "      <td>NaN</td>\n",
       "    </tr>\n",
       "    <tr>\n",
       "      <th>2015-01-06</th>\n",
       "      <td>NaN</td>\n",
       "      <td>NaN</td>\n",
       "      <td>NaN</td>\n",
       "      <td>1.041322</td>\n",
       "      <td>NaN</td>\n",
       "      <td>NaN</td>\n",
       "      <td>NaN</td>\n",
       "      <td>1.039604</td>\n",
       "      <td>NaN</td>\n",
       "      <td>NaN</td>\n",
       "      <td>...</td>\n",
       "      <td>NaN</td>\n",
       "      <td>NaN</td>\n",
       "      <td>1.006865</td>\n",
       "      <td>NaN</td>\n",
       "      <td>NaN</td>\n",
       "      <td>NaN</td>\n",
       "      <td>NaN</td>\n",
       "      <td>NaN</td>\n",
       "      <td>NaN</td>\n",
       "      <td>NaN</td>\n",
       "    </tr>\n",
       "    <tr>\n",
       "      <th>2015-01-07</th>\n",
       "      <td>NaN</td>\n",
       "      <td>NaN</td>\n",
       "      <td>NaN</td>\n",
       "      <td>1.041667</td>\n",
       "      <td>NaN</td>\n",
       "      <td>NaN</td>\n",
       "      <td>NaN</td>\n",
       "      <td>1.050000</td>\n",
       "      <td>NaN</td>\n",
       "      <td>NaN</td>\n",
       "      <td>...</td>\n",
       "      <td>NaN</td>\n",
       "      <td>NaN</td>\n",
       "      <td>NaN</td>\n",
       "      <td>NaN</td>\n",
       "      <td>NaN</td>\n",
       "      <td>1.0</td>\n",
       "      <td>NaN</td>\n",
       "      <td>NaN</td>\n",
       "      <td>NaN</td>\n",
       "      <td>NaN</td>\n",
       "    </tr>\n",
       "    <tr>\n",
       "      <th>2015-01-08</th>\n",
       "      <td>NaN</td>\n",
       "      <td>NaN</td>\n",
       "      <td>NaN</td>\n",
       "      <td>1.044534</td>\n",
       "      <td>NaN</td>\n",
       "      <td>NaN</td>\n",
       "      <td>NaN</td>\n",
       "      <td>1.014493</td>\n",
       "      <td>NaN</td>\n",
       "      <td>NaN</td>\n",
       "      <td>...</td>\n",
       "      <td>NaN</td>\n",
       "      <td>NaN</td>\n",
       "      <td>NaN</td>\n",
       "      <td>NaN</td>\n",
       "      <td>NaN</td>\n",
       "      <td>NaN</td>\n",
       "      <td>NaN</td>\n",
       "      <td>NaN</td>\n",
       "      <td>NaN</td>\n",
       "      <td>NaN</td>\n",
       "    </tr>\n",
       "  </tbody>\n",
       "</table>\n",
       "<p>5 rows × 2773 columns</p>\n",
       "</div>"
      ],
      "text/plain": [
       "ticker      1AD  1AG  1AL       1PG  1ST  3DM  3DP       3PL  4CE  4DS  ...   \\\n",
       "date                                                                    ...    \n",
       "2015-01-02  NaN  NaN  NaN  1.068966  NaN  NaN  NaN  1.055300  NaN  NaN  ...    \n",
       "2015-01-05  NaN  NaN  NaN  1.061224  NaN  NaN  NaN  1.111111  NaN  NaN  ...    \n",
       "2015-01-06  NaN  NaN  NaN  1.041322  NaN  NaN  NaN  1.039604  NaN  NaN  ...    \n",
       "2015-01-07  NaN  NaN  NaN  1.041667  NaN  NaN  NaN  1.050000  NaN  NaN  ...    \n",
       "2015-01-08  NaN  NaN  NaN  1.044534  NaN  NaN  NaN  1.014493  NaN  NaN  ...    \n",
       "\n",
       "ticker      ZNO  ZNT       ZNZ  ZOZI  ZRL  ZTA  ZUSD  ZYB  ZYL  ZYUS  \n",
       "date                                                                  \n",
       "2015-01-02  NaN  NaN       NaN   NaN  1.0  NaN   NaN  NaN  NaN   NaN  \n",
       "2015-01-05  NaN  NaN  1.022727   NaN  1.0  NaN   NaN  NaN  NaN   NaN  \n",
       "2015-01-06  NaN  NaN  1.006865   NaN  NaN  NaN   NaN  NaN  NaN   NaN  \n",
       "2015-01-07  NaN  NaN       NaN   NaN  NaN  1.0   NaN  NaN  NaN   NaN  \n",
       "2015-01-08  NaN  NaN       NaN   NaN  NaN  NaN   NaN  NaN  NaN   NaN  \n",
       "\n",
       "[5 rows x 2773 columns]"
      ]
     },
     "execution_count": 86,
     "metadata": {},
     "output_type": "execute_result"
    }
   ],
   "source": [
    "# dataframe wirh ratio of high/low for each ticker on each day\n",
    "df_hl = df_high / df_low\n",
    "df_hl.head()"
   ]
  },
  {
   "cell_type": "markdown",
   "metadata": {},
   "source": [
    "## 2. Exploratory Data Analysis"
   ]
  },
  {
   "cell_type": "markdown",
   "metadata": {},
   "source": [
    "### 2.1 Hypothesis, Motivation, Approach and Strategy"
   ]
  },
  {
   "cell_type": "markdown",
   "metadata": {},
   "source": [
    "As of 22 November 2019, based on ASX's website, there are in total 2195 unique tickers currently listed. The dataset however has 2773 unique tickers; which means that it has tickers of companies that have been delisted.\n",
    "\n",
    "Before analysing the coverage and quality, let us discuss the motivation and strategy of this project. This will also help defining the scope of this document.\n",
    "\n",
    "**Hypothesis**: \n",
    "1. Based on research [1-6], the patterns in the technical indicators derived from open, high, low, close, and volume (OHLCV) of a particular stock (or company) have the predictive power of its future movements.\n",
    "2. Additionally, the tehnical indicators of companies contributing to compound indexes, such as ASX All Ordinaries, S&P/ASX 50, etc. can be used to predict the movement of the compund indexes that they belong to.\n",
    "\n",
    "**Scope**:\n",
    "This work limits its scope to hypothesis 1 above due to time constaint.\n",
    "\n",
    "**Motivation**:\n",
    "This work extends hypothesis 1 to be more generic as follows: unlike the hypotheses employed in [1-6], the future movement of any stock price can be predicted through the movement and pattern of its technical indicators; and the same prediction from movement and pattern can be applicable to stock price of any company.\n",
    "\n",
    "Based on studies [1-6], the time series nature of the data recommends the use of long short-term memory paradigm of neural network, which has been shown to be superior to ensemble methods such as random forest and other classification techniques such as the support vector machines.\n",
    "\n",
    "**Strategy**:\n",
    "The strategy here is to build a generic prediction model using the OHLCV data and technical indicators of past 60 (trading) days so as to be able to predict the movement of any stock price. Note that this excludes all compund indexes listed in ASX (as this falls under hypothesis 2).\n",
    "\n",
    "For this, an LSTM model will be trained using train, validation, and test data to obtain the following metrics: (1) UP or DOWN movement of the next day stock price; and (2) prediction probability."
   ]
  },
  {
   "cell_type": "markdown",
   "metadata": {},
   "source": [
    "### 2.2. Coverage and Quality"
   ]
  },
  {
   "cell_type": "markdown",
   "metadata": {},
   "source": [
    "As it can be observed from the dataframe printed out in the previous section, not all the tickers have complete data. There are 2773 unique tickers and 883 obervations. Now let us first visualise the distribution of number of non-missing values using dataframe `df_close`."
   ]
  },
  {
   "cell_type": "code",
   "execution_count": 87,
   "metadata": {},
   "outputs": [
    {
     "data": {
      "image/png": "[encoded data removed]",
      "text/plain": [
       "<Figure size 432x288 with 1 Axes>"
      ]
     },
     "metadata": {},
     "output_type": "display_data"
    },
    {
     "name": "stdout",
     "output_type": "stream",
     "text": [
      "There are 196 tickers with full data available.\n"
     ]
    }
   ],
   "source": [
    "import matplotlib.pyplot as plt\n",
    "\n",
    "# histogram of the number of non-missing values\n",
    "ax = df_close.notna().sum().hist(bins=20)\n",
    "plt.xlabel(\"Number of observations\")\n",
    "plt.ylabel(\"Frequency (tickers)\")\n",
    "plt.axis(\"tight\")\n",
    "plt.show()\n",
    "\n",
    "print(\"There are {} tickers with full data available.\".format(df_close.columns[(df_close.notna().sum() == df_close.shape[0]).values].shape[0])) "
   ]
  },
  {
   "cell_type": "markdown",
   "metadata": {},
   "source": [
    "The histogram above shows that there are about 196 tickers with no missing values in close price. For peace of mind, let us inspect if the `df_master` dataframe is clean."
   ]
  },
  {
   "cell_type": "code",
   "execution_count": 88,
   "metadata": {},
   "outputs": [
    {
     "name": "stdout",
     "output_type": "stream",
     "text": [
      "<class 'pandas.core.frame.DataFrame'>\n",
      "DatetimeIndex: 1319997 entries, 2015-01-02 to 2018-06-29\n",
      "Data columns (total 6 columns):\n",
      "ticker    1319997 non-null object\n",
      "open      1319997 non-null float64\n",
      "high      1319997 non-null float64\n",
      "low       1319997 non-null float64\n",
      "close     1319997 non-null float64\n",
      "volume    1319997 non-null int64\n",
      "dtypes: float64(4), int64(1), object(1)\n",
      "memory usage: 70.5+ MB\n"
     ]
    }
   ],
   "source": [
    "df_master.info()"
   ]
  },
  {
   "cell_type": "markdown",
   "metadata": {},
   "source": [
    "The result above shows that the master dataframe is indeed clean. This means that all missing values in `df_close` is coming from the price not being registered on the day. After crosschecking with data from the ASX's official website, this is mainly due to the fact that the trade did not take place on that day, company listed after 2015-01-02, or company delisted before 2018-06-29. \n",
    "\n",
    "As clean result is of paramount importance, let us disregard the tickers with missing values and take only the ones with full data from 2015-01-02 to 2018-06-29. The model that will be built can still be used by the tickers with missing values as only the 60 consequtive trading days is of concern for prediction.\n",
    "\n",
    "That being said, there area few ways where the missing values can be handled on the day where the trade did not take place:\n",
    "1. Volume set to 0 and open, high, low, and close values set to previous day's close value with the assumption that no trade occured on that day for that particular ticker. This approach may introduce outliers in the volume and therefore noise in the data.\n",
    "2. Interpolate the data OHLCV data using the previous and next available values for smooth transition. Another alternative is to fill in the missing values to be either the mean and median of the column. This, on the other hand, introduces false information and could influence the machine learning model if the number of missing values is large enough.\n",
    "\n",
    "Let us now filter the dataframes for tickers with full information."
   ]
  },
  {
   "cell_type": "code",
   "execution_count": 89,
   "metadata": {},
   "outputs": [],
   "source": [
    "# get the array of tickers with less than 5% missing values\n",
    "tickers_good = df_close.columns[(df_close.notna().sum() == 883).values]\n",
    "\n",
    "# filter the dataframes\n",
    "df_open = df_open[tickers_good] # open\n",
    "df_high = df_high[tickers_good] # high\n",
    "df_low = df_low[tickers_good] # low\n",
    "df_close = df_close[tickers_good] # close\n",
    "df_volume = df_volume[tickers_good] # volume\n",
    "df_ftr_rtn = df_ftr_rtn[tickers_good] # future return\n",
    "df_rtn = df_rtn[tickers_good] # return\n",
    "df_hl = df_hl[tickers_good] # high/low"
   ]
  },
  {
   "cell_type": "markdown",
   "metadata": {},
   "source": [
    "As mentioned earlier, we are also not interested in the composite indexes as they do not fall within the scope of the approach taken. Therefore, let us remove those tickers as well. After checking with ASX's website, they are the tickers that do not have volume information."
   ]
  },
  {
   "cell_type": "code",
   "execution_count": 90,
   "metadata": {},
   "outputs": [],
   "source": [
    "# Find composite indexes. They can be identified by 0 volume.\n",
    "non_comp_indexes = df_volume.columns[(df_volume.sum() != 0).values].values\n",
    "\n",
    "df_open = df_open[non_comp_indexes] # open\n",
    "df_high = df_high[non_comp_indexes] # high\n",
    "df_low = df_low[non_comp_indexes] # low\n",
    "df_close = df_close[non_comp_indexes] # close\n",
    "df_volume = df_volume[non_comp_indexes] # volume\n",
    "df_ftr_rtn = df_ftr_rtn[non_comp_indexes] # future return\n",
    "df_rtn = df_rtn[non_comp_indexes] # return\n",
    "df_hl = df_hl[non_comp_indexes] # high/low"
   ]
  },
  {
   "cell_type": "markdown",
   "metadata": {},
   "source": [
    "### 2.2. Additional Transformations"
   ]
  },
  {
   "cell_type": "markdown",
   "metadata": {},
   "source": [
    "Before going into performing some visualisations and analysis, let us look at some technical indicators for feature engineering. In essence, we would want to engineer features such that they possess some level of predictive power that could indicate the future direction of the market. Statistically speaking, these features should generally have good correlation to the market movement.\n",
    "\n",
    "There are numerous such transformations in literature [1-5]. The work by Borovkova et al. [1] consolidates some of the key technical indicators which can be used for additional transformations. Typically, they can be categorised into four groups: (1) Momentum; (2) Trend; (3) Volume; and (4) Volatility. Some of the commonly used indicators are:\n",
    "\n",
    "    1. Momentum:\n",
    "        a. Money flow index \n",
    "        b. Relative strength index\n",
    "        c. Stochastic oscillator (%K)\n",
    "        d. Stochastic oscillator (%D)\n",
    "        e. William %R\n",
    "        f. Rate of change\n",
    "    2. Trend:\n",
    "        a. Exponential moving average\n",
    "        b. Moving average convergence-divergence\n",
    "        c. Commodity channel index\n",
    "        d. Ichimoku Indicator\n",
    "    3. Volume:\n",
    "        a. Accumulation/distribution index\n",
    "    4. Volatility:\n",
    "        a. Bollinger bands \n",
    "    \n",
    "Now, let us perform additional transformations. To keep this document succinct, the definition of these indicators-of-interest will be described, whereas information of the other indicators can be obtained from [1, 2]. All tranformations will be employing the open-source Python package [6]."
   ]
  },
  {
   "cell_type": "markdown",
   "metadata": {},
   "source": [
    "#### 2.2.1. Money flow index (MFI)"
   ]
  },
  {
   "cell_type": "markdown",
   "metadata": {},
   "source": [
    "Money flow index is calculated based on the price and volume to indicate the strength of money in and out from a particular ticker, or in other words, if a particular stock is overbought or oversold. Typically, when MFI of above 80 indicates overbought and oversold when it is below 20.\n",
    "\n",
    "The MFI can be calculated as follows:\n",
    "\n",
    "$$\\text{MFI} = 100 - \\frac{100}{1+\\text{MFR}}$$\n",
    "where\n",
    "$$\\text{MFR} = \\frac{\\text{Positive Money Flow}}{\\text{Negative Money Flow}}$$\n",
    "\n",
    "$$\\text{Money Flow} = \\left(\\frac{\\text{High} + \\text{Low} + \\text{Close}}{3}\\right)\\text{Volume}$$\n",
    "\n",
    "and MFR denotes money flow ratio."
   ]
  },
  {
   "cell_type": "code",
   "execution_count": 91,
   "metadata": {},
   "outputs": [],
   "source": [
    "import ta # import package\n",
    "\n",
    "# mfi dataframe\n",
    "df_mfi = pd.DataFrame()\n",
    "\n",
    "# loop over all tickers\n",
    "for ticker in df_close.columns:\n",
    "    # calculate mfi\n",
    "    temp = ta.momentum.money_flow_index(high=df_high[ticker], \n",
    "                                      low=df_low[ticker], \n",
    "                                      close=df_close[ticker], \n",
    "                                      volume=df_volume[ticker])\n",
    "    # concatenate with main dataframe\n",
    "    df_mfi = pd.concat([df_mfi, temp], axis=1)\n",
    "\n",
    "# rename the columns\n",
    "df_mfi.columns = df_close.columns"
   ]
  },
  {
   "cell_type": "markdown",
   "metadata": {},
   "source": [
    "#### 2.2.2. Exponential moving average (EMA)"
   ]
  },
  {
   "cell_type": "markdown",
   "metadata": {},
   "source": [
    "The exponential moving average is exponentially weighed moving average calculated by exponentially decreasing the weight of observations $x_i$ with respect to their distance from $x_t$ using weighted multiplier $\\alpha$. For example, $\\alpha = 0.1$ gets only 10% of the current value into EMA. Since only a small portion of the current value is taken, most of the old values are preserved. Essentially, EMA is defined as:\n",
    "\n",
    "$$\\text{EMA}(x_t, \\alpha) = \\alpha x_t + (1 − \\alpha) \\text{EMA}(x_{t−1}, \\alpha).$$\n",
    "\n",
    "and\n",
    "\n",
    "$$\\alpha = \\frac{2}{N+1}$$\n",
    "\n",
    "where $N$ is number of days in a period. In this study, let us use $N = 10$ to be consistent with MFI, and hence $\\alpha = 0.13333$ using the close price of day $t$ as $x_t$."
   ]
  },
  {
   "cell_type": "code",
   "execution_count": 92,
   "metadata": {},
   "outputs": [],
   "source": [
    "# ema dataframe\n",
    "df_ema = df_close.apply(ta.trend.ema_indicator)"
   ]
  },
  {
   "cell_type": "markdown",
   "metadata": {},
   "source": [
    "#### 2.2.3. Relative strength index (RSI)"
   ]
  },
  {
   "cell_type": "markdown",
   "metadata": {},
   "source": [
    "Just like the MFI, the relative strength index is another momentum indicator, but uses the velocity and magnitude of price momevents and also to indicate whether a stock is overbought or oversold. The RSI can be simply calculated as follows:\n",
    "\n",
    "$$\\text{RSI} = 100 - \\frac{100}{1+\\text{RS}}$$\n",
    "\n",
    "where\n",
    "\n",
    "$$\\text{RS} = \\frac{\\text{Average of up closes}}{\\text{Average of down closes}}$$\n",
    "\n",
    "is the relative strength. For consistency, let us use $N = 10$ when calculating the average."
   ]
  },
  {
   "cell_type": "code",
   "execution_count": 93,
   "metadata": {},
   "outputs": [],
   "source": [
    "# ema dataframe\n",
    "df_rsi = df_close.apply(ta.momentum.rsi)"
   ]
  },
  {
   "cell_type": "markdown",
   "metadata": {},
   "source": [
    "#### 2.2.4. Stochastic oscillator (SO)"
   ]
  },
  {
   "cell_type": "markdown",
   "metadata": {},
   "source": [
    "The stochastic oscillator (or Stochastic %K) is a momentum indicator calculated using the highest high price over a period of time $N$, lowest low price over a period of time $N$, and the current close price. The calculation can be simply performed as:\n",
    "\n",
    "$$\\text{%K} = \\left(\\frac{\\text{Close} - \\text{Lowest Low}}{\\text{Highest High} - \\text{Lowest Low}} \\right)*100$$\n",
    "\n",
    "which gives the result in percentage.\n",
    "\n",
    "The fast stochastic indicator (Stochastic %D) is normally the 3-period moving average of %K. Both indicators will be calculated below."
   ]
  },
  {
   "cell_type": "code",
   "execution_count": 94,
   "metadata": {},
   "outputs": [],
   "source": [
    "# stoch_k and stoch_d dataframe\n",
    "df_stoch_k = pd.DataFrame()\n",
    "df_stoch_d = pd.DataFrame()\n",
    "\n",
    "# loop over all tickers\n",
    "for ticker in df_close.columns:\n",
    "    # calculate %k\n",
    "    temp = ta.momentum.stoch(high=df_high[ticker],\n",
    "                             low=df_low[ticker],\n",
    "                             close=df_close[ticker])\n",
    "    # concatenate with main dataframe\n",
    "    df_stoch_k = pd.concat([df_stoch_k, temp], axis=1)\n",
    "    \n",
    "    # calculate %d\n",
    "    temp = ta.momentum.stoch_signal(high=df_high[ticker],\n",
    "                             low=df_low[ticker],\n",
    "                             close=df_close[ticker])\n",
    "    # concatenate with main dataframe\n",
    "    df_stoch_d = pd.concat([df_stoch_d, temp], axis=1)\n",
    "\n",
    "# rename the columns\n",
    "df_stoch_k.columns = df_close.columns\n",
    "df_stoch_d.columns = df_close.columns"
   ]
  },
  {
   "cell_type": "markdown",
   "metadata": {},
   "source": [
    "#### 2.2.5. Moving average convergence-divergence (MACD)"
   ]
  },
  {
   "cell_type": "markdown",
   "metadata": {},
   "source": [
    "The moving average convergence-divergence is an indicator that shows the relationship between 12-period EMA and 26-period EMA. This index can be used to measure the trend-following momentum of a security. Accordingly, it is calculated as:\n",
    "\n",
    "$$\\text{MACD} = \\text{12-Period EMA} - \\text{26-Period EMA}$$\n",
    "\n",
    "where EMA is the exponential moving average, as defined and programmed earlier."
   ]
  },
  {
   "cell_type": "code",
   "execution_count": 95,
   "metadata": {},
   "outputs": [],
   "source": [
    "# macd dataframe\n",
    "df_macd = df_close.apply(ta.trend.macd_diff, fillna=True)"
   ]
  },
  {
   "cell_type": "markdown",
   "metadata": {},
   "source": [
    "#### 2.2.6. William %R"
   ]
  },
  {
   "cell_type": "markdown",
   "metadata": {},
   "source": [
    "William's %R is another momentum indicator that ranges between -100 and 0 which shows the overbought and oversold of a stock price. For example, a reading above -20 is overbought and a reading below -80 is oversold. Typically, it is calculated over the period of last $N=14$ days.\n",
    "\n",
    "This indicator can be simply calculated as follows:\n",
    "\n",
    "$$\\text{%R} = \\frac{\\text{Highest High} - \\text{Close}}{\\text{Highest High} - \\text{Lowest Low}}$$"
   ]
  },
  {
   "cell_type": "code",
   "execution_count": 96,
   "metadata": {},
   "outputs": [],
   "source": [
    "# william_r dataframe\n",
    "df_will_r = pd.DataFrame()\n",
    "\n",
    "# loop over all tickers\n",
    "for ticker in df_close.columns:\n",
    "    # calculate william_r\n",
    "    temp = ta.momentum.wr(high=df_high[ticker],\n",
    "                          low=df_low[ticker],\n",
    "                          close=df_close[ticker])\n",
    "    # concatenate with main dataframe\n",
    "    df_will_r = pd.concat([df_will_r, temp], axis=1)\n",
    "\n",
    "# rename the columns\n",
    "df_will_r.columns = df_close.columns"
   ]
  },
  {
   "cell_type": "markdown",
   "metadata": {},
   "source": [
    "#### 2.2.7. Commodity Channel Index"
   ]
  },
  {
   "cell_type": "markdown",
   "metadata": {},
   "source": [
    "The commodity channel index is another trend indicator, but the difference in this indicator is that it measures the difference between the current price and the historical average price. This indicator can be calculated as follows:\n",
    "\n",
    "$$\\text{CCI}=\\frac{1}{0.015}\\frac{\\text{Typical Price}-\\text{SMA}\\left( \\text{Typical Price}\\right)}{\\text{MD}\\left( \\text{Typical Price}\\right)}$$\n",
    "\n",
    "where $\\text{SMA}$ is the simple moving average and $\\text{MD}$ is the mead absolute deviation.\n",
    "\n",
    "When the CCI is above zero it indicates the price is above the historic average. When CCI is below zero, the price is below the historic average. Readings above 100 typically signals buy signal; and sell signal for reading below -100."
   ]
  },
  {
   "cell_type": "code",
   "execution_count": 97,
   "metadata": {},
   "outputs": [],
   "source": [
    "# cci dataframe\n",
    "df_cci = pd.DataFrame()\n",
    "\n",
    "# loop over all tickers\n",
    "for ticker in df_close.columns:\n",
    "    # calculate cci\n",
    "    temp = ta.trend.cci(high=df_high[ticker],\n",
    "                        low=df_low[ticker],\n",
    "                        close=df_close[ticker])\n",
    "    # concatenate with main dataframe\n",
    "    df_cci = pd.concat([df_cci, temp], axis=1)\n",
    "\n",
    "# rename the columns\n",
    "df_cci.columns = df_close.columns"
   ]
  },
  {
   "cell_type": "markdown",
   "metadata": {},
   "source": [
    "#### 2.2.8. Ichimoku Indicator"
   ]
  },
  {
   "cell_type": "markdown",
   "metadata": {},
   "source": [
    "The Ichimoku Cloud is a collection of technical indicators that show support and resistance levels, as well as momentum and trend direction. To keep the indicators simple, only the two important indicators from Ichimoku Cloud are used: leading spans A and B. More information on the Ichimoku indicator can be found in [6]."
   ]
  },
  {
   "cell_type": "code",
   "execution_count": 98,
   "metadata": {},
   "outputs": [],
   "source": [
    "# ichi_a and ichi_b dataframe\n",
    "df_ichi_a = pd.DataFrame()\n",
    "df_ichi_b = pd.DataFrame()\n",
    "\n",
    "# loop over all tickers\n",
    "for ticker in df_close.columns:\n",
    "    # calculate ichi_a\n",
    "    temp = ta.trend.ichimoku_a(high=df_high[ticker],\n",
    "                               low=df_low[ticker])\n",
    "    # concatenate with main dataframe\n",
    "    df_ichi_a = pd.concat([df_ichi_a, temp], axis=1)\n",
    "    \n",
    "    # calculate ichi_b\n",
    "    temp = ta.trend.ichimoku_b(high=df_high[ticker],\n",
    "                               low=df_low[ticker])\n",
    "    # concatenate with main dataframe\n",
    "    df_ichi_b = pd.concat([df_ichi_b, temp], axis=1)\n",
    "\n",
    "# rename the columns\n",
    "df_ichi_a.columns = df_close.columns\n",
    "df_ichi_b.columns = df_close.columns"
   ]
  },
  {
   "cell_type": "markdown",
   "metadata": {},
   "source": [
    "#### 2.2.9. Accumulation/Distribution Index"
   ]
  },
  {
   "cell_type": "markdown",
   "metadata": {},
   "source": [
    "Accumulation/distribution is a cummulative indicator that makes use of volume and price to determine if the stock is being accummulated of distributed. Typically, a rising A/D line helps confirm a rising price trend whereas a falling A/D line helps confirm a price downtrend.\n",
    "\n",
    "$$\\text{A/D} = \\text{Previous A/D} + { (\\text{Close} - \\text{Low}) - (\\text{High} - \\text{Close}) \\over \\text{High} - \\text{Low} }*\\text{Volume}$$"
   ]
  },
  {
   "cell_type": "code",
   "execution_count": 99,
   "metadata": {},
   "outputs": [],
   "source": [
    "# A/D dataframe\n",
    "df_ad = pd.DataFrame()\n",
    "\n",
    "# loop over all tickers\n",
    "for ticker in df_close.columns:\n",
    "    # calculate cci\n",
    "    temp = ta.volume.acc_dist_index(high=df_high[ticker],\n",
    "                                    low=df_low[ticker],\n",
    "                                    close=df_close[ticker],\n",
    "                                    volume=df_volume[ticker]\n",
    "                                   )\n",
    "    # concatenate with main dataframe\n",
    "    df_ad = pd.concat([df_ad, temp], axis=1)\n",
    "\n",
    "# rename the columns\n",
    "df_ad.columns = df_close.columns"
   ]
  },
  {
   "cell_type": "markdown",
   "metadata": {},
   "source": [
    "#### 2.2.10. Bollinger Bands"
   ]
  },
  {
   "cell_type": "markdown",
   "metadata": {},
   "source": [
    "Bollinger bands are two lines that are two standard deviations away from the EMA. It is a volatility indicator. Here, it will be presented in terms of percentage as:\n",
    "\n",
    "$$\\text{BB} = \\frac{\\text{Close}-\\text{Lower Band}}{\\text{Higher Band} - \\text{Lower Band}}$$\n",
    "\n",
    "Typically, value of above 0.8 gives sell signal; and buy signal for value below 0.2."
   ]
  },
  {
   "cell_type": "code",
   "execution_count": 100,
   "metadata": {},
   "outputs": [],
   "source": [
    "# Calculate upper and lower band\n",
    "df_bb_up = df_close.apply(ta.volatility.bollinger_hband)\n",
    "df_bb_down = df_close.apply(ta.volatility.bollinger_lband)\n",
    "    \n",
    "# Calculate percentage and return and store as bbp\n",
    "df_bbp = (df_close - df_bb_down) / (df_bb_up - df_bb_down)"
   ]
  },
  {
   "cell_type": "markdown",
   "metadata": {},
   "source": [
    "### 2.3. Data Analysis"
   ]
  },
  {
   "cell_type": "code",
   "execution_count": 101,
   "metadata": {},
   "outputs": [],
   "source": [
    "# list all the dataframes of interest\n",
    "dfois = [df_open, df_high, df_low, df_close,df_volume, df_rtn, df_hl,\n",
    "         df_mfi, df_ema, df_rsi, df_stoch_k, df_stoch_d, df_macd, df_will_r, df_cci,\n",
    "         df_ichi_a, df_ichi_b, df_ad, df_bbp, df_bb_up, df_bb_down, df_ftr_rtn]\n",
    "dfois_str = ['open', 'high', 'low', 'close', 'volume', 'rtn', 'hl','mfi', 'ema', 'rsi', 'stoch_k', 'stoch_d', 'macd', \n",
    "             'will_r', 'cci', 'ichi_a', 'ichi_b', 'ad', 'bbp', 'bb_up', 'bb_down', 'ftr_rtn']\n",
    "\n",
    "# remove dates prior to 2015-02-01\n",
    "[df.drop(df.iloc[df.index < '2015-02-01'].index, inplace=True) for df in dfois];\n",
    "[df.drop(df.iloc[df.index == '2018-06-29'].index, inplace=True) for df in dfois];"
   ]
  },
  {
   "cell_type": "markdown",
   "metadata": {},
   "source": [
    "Let us find the correlation between all the dataframes, or in other words, between features. Because we have numerous tickers in a dataframe, it could be difficult to visualise the correlation matrix for all tickers. Therefore, here, we take the average correlation value and visualise the correlations using a heatmap."
   ]
  },
  {
   "cell_type": "code",
   "execution_count": 102,
   "metadata": {},
   "outputs": [
    {
     "data": {
      "image/png": "[encoded data removed]",
      "text/plain": [
       "<Figure size 1080x1080 with 2 Axes>"
      ]
     },
     "metadata": {},
     "output_type": "display_data"
    }
   ],
   "source": [
    "import numpy as np\n",
    "import seaborn as sns\n",
    "\n",
    "# initialise numpy array\n",
    "corr_val = np.empty([len(dfois),len(dfois)])\n",
    "\n",
    "# loop over every dataframe and find correlation\n",
    "for i, df1 in enumerate(dfois):\n",
    "    for j, df2 in enumerate(dfois):\n",
    "        corr_val[i][j] = df1.corrwith(df2).mean()\n",
    "    \n",
    "# visualise the correlation matrix using seaborn\n",
    "fig, ax = plt.subplots(figsize=(15,15))\n",
    "df_corr = pd.DataFrame(corr_val, columns=dfois_str, index=dfois_str)\n",
    "\n",
    "sns.heatmap(\n",
    "    df_corr, \n",
    "    vmin=-1, vmax=1, center=0,\n",
    "    cmap=sns.diverging_palette(20, 220, n=500),\n",
    "    square=True,\n",
    "    ax=ax)\n",
    "\n",
    "ax.set_xticklabels(\n",
    "    ax.get_xticklabels(),\n",
    "    rotation=45,\n",
    "    horizontalalignment='right');"
   ]
  },
  {
   "cell_type": "markdown",
   "metadata": {},
   "source": [
    "In additian to the correlation matrix heatmap, let us also have a look at the histogram of data to look for outliers. Before we do that, we need to normalise the data from 0 to 1 for every ticker so that they can be visualised appropriately."
   ]
  },
  {
   "cell_type": "code",
   "execution_count": 103,
   "metadata": {},
   "outputs": [
    {
     "data": {
      "image/png": "[encoded data removed]",
      "text/plain": [
       "<Figure size 1080x2160 with 22 Axes>"
      ]
     },
     "metadata": {},
     "output_type": "display_data"
    }
   ],
   "source": [
    "from sklearn import preprocessing\n",
    "from matplotlib import pyplot as plt\n",
    "\n",
    "fig, axs = plt.subplots(11,2, figsize=(15, 30))   \n",
    "for i, ax in enumerate(axs.flatten()):\n",
    "    nomaliser = preprocessing.MinMaxScaler(feature_range=(0,1))\n",
    "    df_val = nomaliser.fit_transform(dfois[i])\n",
    "    ax.hist(df_val.reshape(df_val.shape[0]*df_val.shape[1]), bins=50)\n",
    "    ax.set_title(dfois_str[i])\n",
    "    ax.set_ylabel('Frequency')\n",
    "    ax.grid()"
   ]
  },
  {
   "cell_type": "markdown",
   "metadata": {},
   "source": [
    "Now, let us analyse the correlation heatmap and histograms above.\n",
    "- Firstly, open, high, low and close values are highly correlated to each other. This is expected because the values are within close proximity to each other. As the technical indicators are calculated using these values and intrinsicly retain its information, open, high, and low values can be removed from feature list.\n",
    "- Most of the distributions above are either normal or uniform in shape, expect for hl and volume. This suggests that there will be a large number of outliers in those two features. In addition, observing the correlation matrix, they also appear to have low correlation to ftr_rtn which is what we will be predicting. Therefore, it justifies to leave hl and volume out from the feature list.\n",
    "- Similarly, based on the correlation matrix heatmap, some values appear to not have much correlation to ftr_rtn. They are: mfi, stoch_d, macd, cci, and ad. To keep the prediction model simple, these features can also be regarded as not useful.\n",
    "- Finally, it also appears that stoch_k is highly correlated to william_r. The stochastic oscillators can therefore be completely removed from the feature list.\n",
    "\n",
    "Based on the discussion above, the final feature list would be: close, rtn, ema, rsi, will_r, ichi_a, ichi_b, bbp, bb_up, bb_down."
   ]
  },
  {
   "cell_type": "markdown",
   "metadata": {},
   "source": [
    "Our strategy is to predict the UP and DOWN movement of a stock together with its probability. Therefore, we need to create a target dataframe that categorises into 1 and 0: 1 for UP and 0 for DOWN. "
   ]
  },
  {
   "cell_type": "code",
   "execution_count": 104,
   "metadata": {},
   "outputs": [
    {
     "data": {
      "image/png": "[encoded data removed]",
      "text/plain": [
       "<Figure size 432x288 with 1 Axes>"
      ]
     },
     "metadata": {},
     "output_type": "display_data"
    }
   ],
   "source": [
    "# Create target dataframe\n",
    "df_target = (df_ftr_rtn > 0).astype(int)\n",
    "\n",
    "# Look at the proportion\n",
    "values, counts = np.unique(df_target.values.reshape(df_target.shape[0]*df_target.shape[1]), return_counts=True)\n",
    "plt.bar(values,counts,tick_label=['DOWN','UP'])\n",
    "plt.title('Number of UPs and DOWNs')\n",
    "plt.ylabel('Total Number')\n",
    "plt.xlabel('Categories')\n",
    "plt.show()"
   ]
  },
  {
   "cell_type": "markdown",
   "metadata": {},
   "source": [
    "Based on the analysis above, it appears that there are more DOWNs than UPs. Therefore, some balancing is required before sending the data for machine learning."
   ]
  },
  {
   "cell_type": "code",
   "execution_count": 105,
   "metadata": {},
   "outputs": [],
   "source": [
    "# list all the dataframes of interest\n",
    "dfois = [df_close, df_rtn, df_ema, df_rsi, df_will_r, df_ichi_a, df_ichi_b, df_bbp, df_bb_up, df_bb_down, df_target]"
   ]
  },
  {
   "cell_type": "markdown",
   "metadata": {},
   "source": [
    "## 3. Forecasting"
   ]
  },
  {
   "cell_type": "code",
   "execution_count": 106,
   "metadata": {},
   "outputs": [],
   "source": [
    "from sklearn import preprocessing\n",
    "\n",
    "# list of normalisers corresponding to each dataframe\n",
    "nomalisers = []\n",
    "\n",
    "for i, df in enumerate(dfois[:-1]):\n",
    "    nomalisers.append(preprocessing.MinMaxScaler(feature_range=(0,1)))\n",
    "    columns = df.columns\n",
    "    index = df.index\n",
    "    df = nomalisers[i].fit_transform(df)\n",
    "    dfois[i] = pd.DataFrame(df, columns=columns, index=index)"
   ]
  },
  {
   "cell_type": "code",
   "execution_count": 107,
   "metadata": {},
   "outputs": [],
   "source": [
    "# split all dataframes into test, training, and evaluation sets\n",
    "#\n",
    "# datetime range: 2015-01-02 to 2018-06-29\n",
    "# train: 2015-02-01 to 2017-06-30\n",
    "# validation: 2017-07-01 to 2017-12-31\n",
    "# test: 2018-01-01 to 2018-06-29\n",
    "\n",
    "# train set\n",
    "dfois_train = []\n",
    "for df in dfois:\n",
    "    dfois_train.append(df.iloc[df.index < '2017-07-01'])\n",
    "\n",
    "# test set\n",
    "dfois_test = []\n",
    "for df in dfois:\n",
    "    dfois_test.append(df.iloc[df.index >= '2018-01-01'])\n",
    "\n",
    "# evaluation set\n",
    "dfois_eval = []\n",
    "for df in dfois:\n",
    "    dfois_eval.append(df.iloc[(df.index >= '2017-07-01') & (df.index < '2018-01-01')])"
   ]
  },
  {
   "cell_type": "code",
   "execution_count": 108,
   "metadata": {},
   "outputs": [],
   "source": [
    "# list of scalers corresponding to each dataframe\n",
    "scalers = []\n",
    "\n",
    "# standardise the data by fitting the train set\n",
    "for i, _ in enumerate(dfois[:-1]):\n",
    "    # Create the Scaler object\n",
    "    scalers.append(preprocessing.StandardScaler())\n",
    "    \n",
    "    # Columns and indexes\n",
    "    columns = dfois_train[i].columns\n",
    "    index_train = dfois_train[i].index\n",
    "    index_test = dfois_test[i].index\n",
    "    index_eval = dfois_eval[i].index\n",
    "    \n",
    "    # Fit scale\n",
    "    flat_arr = dfois_train[i].values.reshape(dfois_train[i].shape[0]*dfois_train[i].shape[1],1)\n",
    "    # scaler.fit(dfois_train[i].values)\n",
    "    scalers[i].fit(np.tile(flat_arr, dfois_train[i].shape[1]))\n",
    "    \n",
    "    # Trasform\n",
    "    train_data = scalers[i].transform(dfois_train[i])\n",
    "    eval_data = scalers[i].transform(dfois_eval[i])\n",
    "    test_data = scalers[i].transform(dfois_test[i])\n",
    "    \n",
    "    # Replace list\n",
    "    dfois_train[i] = pd.DataFrame(train_data, columns=columns, index=index_train)\n",
    "    dfois_eval[i] = pd.DataFrame(eval_data, columns=columns, index=index_eval)\n",
    "    dfois_test[i] = pd.DataFrame(test_data, columns=columns, index=index_test)"
   ]
  },
  {
   "cell_type": "code",
   "execution_count": 109,
   "metadata": {},
   "outputs": [],
   "source": [
    "# arrange sequential_data\n",
    "from sklearn import preprocessing\n",
    "import pandas as pd\n",
    "from collections import deque\n",
    "import random\n",
    "\n",
    "# look at the past 60 days\n",
    "SEQ_LEN = 60\n",
    "\n",
    "def sequence_data(df_list, shuffle=True):\n",
    "    # this is a list that will CONTAIN the sequences\n",
    "    sequential_data = []\n",
    "\n",
    "    for ticker in df_close.columns:\n",
    "        # initialise dataframe\n",
    "        df_ticker = pd.DataFrame()\n",
    "\n",
    "        # concatenate the dataframes\n",
    "        for df in df_list:\n",
    "            df_ticker = pd.concat([df_ticker, df[ticker]], axis=1)\n",
    "\n",
    "        prev_days = deque(maxlen=SEQ_LEN)\n",
    "        for i in df_ticker.values:  # iterate over the values\n",
    "            prev_days.append([n for n in i[:-1]])  # store all but the target\n",
    "            if len(prev_days) == SEQ_LEN:  # make sure we have 60 sequences!\n",
    "                sequential_data.append([np.array(prev_days), i[-1]])  # append those bad boys!\n",
    "                \n",
    "        # shuffle\n",
    "        if shuffle == True:\n",
    "            random.shuffle(sequential_data)\n",
    "\n",
    "    return sequential_data"
   ]
  },
  {
   "cell_type": "code",
   "execution_count": 110,
   "metadata": {},
   "outputs": [
    {
     "name": "stdout",
     "output_type": "stream",
     "text": [
      "Training data length: 93840\n",
      "Validation data length: 11730\n",
      "Testing data length: 10880\n"
     ]
    }
   ],
   "source": [
    "# scale all data\n",
    "sequential_data_train = sequence_data(dfois_train)\n",
    "sequential_data_eval = sequence_data(dfois_eval)\n",
    "sequential_data_test = sequence_data(dfois_test, shuffle=False) # do not shuffle just this one\n",
    "\n",
    "# print the length\n",
    "print('Training data length: {}'.format(len(sequential_data_train)))\n",
    "print('Validation data length: {}'.format(len(sequential_data_eval)))\n",
    "print('Testing data length: {}'.format(len(sequential_data_test)))"
   ]
  },
  {
   "cell_type": "code",
   "execution_count": 111,
   "metadata": {},
   "outputs": [],
   "source": [
    "# balance train and evaluation data\n",
    "def balance_data(sequential_data):\n",
    "    buys = []  # list that will store our buy sequences and targets\n",
    "    sells = []  # list that will store our sell sequences and targets\n",
    "\n",
    "    for seq, target in sequential_data:  # iterate over the sequential data\n",
    "        if target == 0:  # if it's a \"not buy\"\n",
    "            sells.append([seq, target])  # append to sells list\n",
    "        elif target == 1:  # otherwise if the target is a 1...\n",
    "            buys.append([seq, target])  # it's a buy!\n",
    "    \n",
    "    random.shuffle(buys)  # shuffle the buys\n",
    "    random.shuffle(sells)  # shuffle the sells!\n",
    "\n",
    "    lower = min(len(buys), len(sells))  # what's the shorter length?\n",
    "\n",
    "    buys = buys[:lower]  # make sure both lists are only up to the shortest length.\n",
    "    sells = sells[:lower]  # make sure both lists are only up to the shortest length.\n",
    "\n",
    "    sequential_data = buys+sells  # add them together\n",
    "    random.shuffle(sequential_data)  # another shuffle, so the model doesn't get confused with all 1 class then the other.\n",
    "    \n",
    "    return sequential_data\n",
    "\n",
    "# separate train and target data\n",
    "def separate_data(sequential_data):\n",
    "    X = []\n",
    "    y = []\n",
    "\n",
    "    for seq, target in sequential_data:  # going over our new sequential data\n",
    "        X.append(seq)  # X is the sequences\n",
    "        y.append(target)  # y is the targets/labels (buys vs sell/notbuy)\n",
    "\n",
    "    return np.array(X), y  # return X and y...and make X a numpy array!"
   ]
  },
  {
   "cell_type": "code",
   "execution_count": 112,
   "metadata": {},
   "outputs": [],
   "source": [
    "# perform balancing by calling the function\n",
    "train_x, train_y = separate_data(balance_data(sequential_data_train))\n",
    "validation_x, validation_y = separate_data(balance_data(sequential_data_eval))"
   ]
  },
  {
   "cell_type": "code",
   "execution_count": 113,
   "metadata": {},
   "outputs": [
    {
     "name": "stderr",
     "output_type": "stream",
     "text": [
      "C:\\Users\\Arvind\\Anaconda3\\lib\\site-packages\\h5py\\__init__.py:36: FutureWarning: Conversion of the second argument of issubdtype from `float` to `np.floating` is deprecated. In future, it will be treated as `np.float64 == np.dtype(float).type`.\n",
      "  from ._conv import register_converters as _register_converters\n"
     ]
    },
    {
     "name": "stdout",
     "output_type": "stream",
     "text": [
      "_________________________________________________________________\n",
      "Layer (type)                 Output Shape              Param #   \n",
      "=================================================================\n",
      "lstm (LSTM)                  (None, 60, 128)           71168     \n",
      "_________________________________________________________________\n",
      "dropout (Dropout)            (None, 60, 128)           0         \n",
      "_________________________________________________________________\n",
      "batch_normalization (BatchNo (None, 60, 128)           512       \n",
      "_________________________________________________________________\n",
      "lstm_1 (LSTM)                (None, 60, 128)           131584    \n",
      "_________________________________________________________________\n",
      "dropout_1 (Dropout)          (None, 60, 128)           0         \n",
      "_________________________________________________________________\n",
      "batch_normalization_1 (Batch (None, 60, 128)           512       \n",
      "_________________________________________________________________\n",
      "lstm_2 (LSTM)                (None, 128)               131584    \n",
      "_________________________________________________________________\n",
      "dropout_2 (Dropout)          (None, 128)               0         \n",
      "_________________________________________________________________\n",
      "batch_normalization_2 (Batch (None, 128)               512       \n",
      "_________________________________________________________________\n",
      "dense (Dense)                (None, 32)                4128      \n",
      "_________________________________________________________________\n",
      "dropout_3 (Dropout)          (None, 32)                0         \n",
      "_________________________________________________________________\n",
      "dense_1 (Dense)              (None, 2)                 66        \n",
      "=================================================================\n",
      "Total params: 340,066\n",
      "Trainable params: 339,298\n",
      "Non-trainable params: 768\n",
      "_________________________________________________________________\n",
      "None\n"
     ]
    }
   ],
   "source": [
    "import tensorflow as tf\n",
    "from tensorflow.keras.models import Sequential\n",
    "from tensorflow.keras.layers import Dense, Dropout, LSTM, BatchNormalization\n",
    "from tensorflow.keras.callbacks import TensorBoard\n",
    "from tensorflow.keras.callbacks import ModelCheckpoint, ModelCheckpoint\n",
    "\n",
    "# batch size and epochs\n",
    "BATCH_SIZE = 64\n",
    "EPOCHS = 10\n",
    "\n",
    "# build LSTM prediction model\n",
    "model = Sequential()\n",
    "\n",
    "model.add(LSTM(128, input_shape=(train_x.shape[1:]), activation='tanh', return_sequences=True))\n",
    "model.add(Dropout(0.2))\n",
    "model.add(BatchNormalization())\n",
    "\n",
    "model.add(LSTM(128, activation='tanh', return_sequences=True))\n",
    "model.add(Dropout(0.2))\n",
    "model.add(BatchNormalization())\n",
    "\n",
    "model.add(LSTM(128, activation='tanh'))\n",
    "model.add(Dropout(0.2))\n",
    "model.add(BatchNormalization())\n",
    "\n",
    "model.add(Dense(32, activation='relu'))\n",
    "model.add(Dropout(0.2))\n",
    "\n",
    "model.add(Dense(2, activation='softmax'))\n",
    "\n",
    "# Compile model\n",
    "model.compile(loss='sparse_categorical_crossentropy', \n",
    "              optimizer=tf.keras.optimizers.Adam(lr=0.001, decay=1e-6),\n",
    "              metrics=['accuracy'])\n",
    "\n",
    "# Model summary\n",
    "print(model.summary())"
   ]
  },
  {
   "cell_type": "code",
   "execution_count": null,
   "metadata": {},
   "outputs": [
    {
     "name": "stdout",
     "output_type": "stream",
     "text": [
      "Train on 88212 samples, validate on 11680 samples\n",
      "Epoch 1/10\n",
      "41664/88212 [=============>................] - ETA: 10:17 - loss: 0.7258 - acc: 0.4976"
     ]
    }
   ],
   "source": [
    "# Train model\n",
    "history = model.fit(train_x, train_y,\n",
    "                    batch_size=BATCH_SIZE,\n",
    "                    epochs=EPOCHS,\n",
    "                    validation_data=(validation_x, validation_y))"
   ]
  },
  {
   "cell_type": "markdown",
   "metadata": {},
   "source": [
    "# References"
   ]
  },
  {
   "cell_type": "code",
   "execution_count": null,
   "metadata": {},
   "outputs": [],
   "source": []
  },
  {
   "cell_type": "markdown",
   "metadata": {},
   "source": [
    "[1] Borovkova S, Tsiamas I. An ensemble of LSTM neural networks for high-frequency stock market classification. Journal of Forecasting. 2019;1–20. https://doi.org/10.1002/for.2585\n",
    "\n",
    "[2] Hegazy O, Soliman OS, Salam MA. A Machine Learning Model for Stock Market Prediction. International Journal of Computer Science and Telecommunications. 2013; 17-23. https://www.ijcst.org/Volume4/Issue12/p4_4_12.pdf\n",
    "\n",
    "[3] Vargas MR, dos-Anjos CEM, Bichara GLG ; Evsukoff AG. Deep Learning for Stock Market Prediction Using Technical Indicators and Financial News Articles. 2018; https://doi.org/10.1109/IJCNN.2018.8489208\n",
    "\n",
    "[4] "
   ]
  },
  {
   "cell_type": "code",
   "execution_count": null,
   "metadata": {},
   "outputs": [],
   "source": []
  }
 ],
 "metadata": {
  "kernelspec": {
   "display_name": "Python 3",
   "language": "python",
   "name": "python3"
  },
  "language_info": {
   "codemirror_mode": {
    "name": "ipython",
    "version": 3
   },
   "file_extension": ".py",
   "mimetype": "text/x-python",
   "name": "python",
   "nbconvert_exporter": "python",
   "pygments_lexer": "ipython3",
   "version": "3.6.5"
  }
 },
 "nbformat": 4,
 "nbformat_minor": 2
}
