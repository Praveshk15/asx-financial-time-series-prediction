{
 "cells": [
  {
   "cell_type": "markdown",
   "metadata": {},
   "source": [
    "# Quantitative research task"
   ]
  },
  {
   "cell_type": "markdown",
   "metadata": {},
   "source": [
    "This file can also be found on: https://github.com/arvindrajan92/financial-time-series-prediction"
   ]
  },
  {
   "cell_type": "markdown",
   "metadata": {},
   "source": [
    "## 1. Data processing"
   ]
  },
  {
   "cell_type": "markdown",
   "metadata": {},
   "source": [
    "The first task is converting the EOD data into five seperate time series data frames; one each for Open, High, Low, Close and Volume (OHLCV). In each data frame, rows should be indexed by date, and columns by ticker.\n",
    "\n",
    "First, let's read the data from all the text files."
   ]
  },
  {
   "cell_type": "code",
   "execution_count": 229,
   "metadata": {},
   "outputs": [],
   "source": [
    "import glob\n",
    "import pandas as pd\n",
    "import numpy as np\n",
    "\n",
    "# get list of file names from directory\n",
    "directory = \"./ASX-2015-2018/ASX-2015-2018/\"\n",
    "files = glob.glob(directory + '[0-9]*.txt')\n",
    "\n",
    "# generate list of dataframes from each file (or date) respectively\n",
    "cl_name = [\"ticker\", \"date\", \"open\", \"high\", \"low\", \"close\", \"volume\"]\n",
    "dfs = [pd.read_csv(file, \n",
    "                   sep=\",\", \n",
    "                   names = cl_name, \n",
    "                   header = None, \n",
    "                   parse_dates = [\"date\"], \n",
    "                   index_col = \"date\") \n",
    "       for file in files]\n",
    "\n",
    "# concatenate the dataframes into one temporary dataframe\n",
    "df_master = pd.concat(dfs)"
   ]
  },
  {
   "cell_type": "markdown",
   "metadata": {},
   "source": [
    "Let us first understand how many tickers and observations (days) are there in total based on the concatenated dataframe `df_master`."
   ]
  },
  {
   "cell_type": "code",
   "execution_count": 230,
   "metadata": {},
   "outputs": [
    {
     "name": "stdout",
     "output_type": "stream",
     "text": [
      "There are 2773 tickers with obervations over 883 days.\n"
     ]
    }
   ],
   "source": [
    "# number of tickers in dataframe\n",
    "print(\"There are {} tickers with obervations over {} days.\".format(df_master.ticker.unique().size, df_master.index.unique().size))"
   ]
  },
  {
   "cell_type": "markdown",
   "metadata": {},
   "source": [
    "Now, let's build dataframe for open, high, low, close, and volume as desired"
   ]
  },
  {
   "cell_type": "code",
   "execution_count": 231,
   "metadata": {},
   "outputs": [],
   "source": [
    "# using pivot function, for each ticker values, individual dataframes for open, high, low, close, and volume can be built\n",
    "df_open = df_master[[\"ticker\", \"open\"]].pivot(columns = \"ticker\", values = \"open\")\n",
    "df_high = df_master[[\"ticker\", \"high\"]].pivot(columns = \"ticker\", values = \"high\")\n",
    "df_low = df_master[[\"ticker\", \"low\"]].pivot(columns = \"ticker\", values = \"low\")\n",
    "df_close = df_master[[\"ticker\", \"close\"]].pivot(columns = \"ticker\", values = \"close\")\n",
    "df_volume = df_master[[\"ticker\", \"volume\"]].pivot(columns = \"ticker\", values = \"volume\")"
   ]
  },
  {
   "cell_type": "markdown",
   "metadata": {},
   "source": [
    "Below is the close price dataframe (head) for reference."
   ]
  },
  {
   "cell_type": "code",
   "execution_count": 232,
   "metadata": {},
   "outputs": [
    {
     "data": {
      "text/html": [
       "<div>\n",
       "<style scoped>\n",
       "    .dataframe tbody tr th:only-of-type {\n",
       "        vertical-align: middle;\n",
       "    }\n",
       "\n",
       "    .dataframe tbody tr th {\n",
       "        vertical-align: top;\n",
       "    }\n",
       "\n",
       "    .dataframe thead th {\n",
       "        text-align: right;\n",
       "    }\n",
       "</style>\n",
       "<table border=\"1\" class=\"dataframe\">\n",
       "  <thead>\n",
       "    <tr style=\"text-align: right;\">\n",
       "      <th>ticker</th>\n",
       "      <th>1AD</th>\n",
       "      <th>1AG</th>\n",
       "      <th>1AL</th>\n",
       "      <th>1PG</th>\n",
       "      <th>1ST</th>\n",
       "      <th>3DM</th>\n",
       "      <th>3DP</th>\n",
       "      <th>3PL</th>\n",
       "      <th>4CE</th>\n",
       "      <th>4DS</th>\n",
       "      <th>...</th>\n",
       "      <th>ZNO</th>\n",
       "      <th>ZNT</th>\n",
       "      <th>ZNZ</th>\n",
       "      <th>ZOZI</th>\n",
       "      <th>ZRL</th>\n",
       "      <th>ZTA</th>\n",
       "      <th>ZUSD</th>\n",
       "      <th>ZYB</th>\n",
       "      <th>ZYL</th>\n",
       "      <th>ZYUS</th>\n",
       "    </tr>\n",
       "    <tr>\n",
       "      <th>date</th>\n",
       "      <th></th>\n",
       "      <th></th>\n",
       "      <th></th>\n",
       "      <th></th>\n",
       "      <th></th>\n",
       "      <th></th>\n",
       "      <th></th>\n",
       "      <th></th>\n",
       "      <th></th>\n",
       "      <th></th>\n",
       "      <th></th>\n",
       "      <th></th>\n",
       "      <th></th>\n",
       "      <th></th>\n",
       "      <th></th>\n",
       "      <th></th>\n",
       "      <th></th>\n",
       "      <th></th>\n",
       "      <th></th>\n",
       "      <th></th>\n",
       "      <th></th>\n",
       "    </tr>\n",
       "  </thead>\n",
       "  <tbody>\n",
       "    <tr>\n",
       "      <th>2015-01-02</th>\n",
       "      <td>NaN</td>\n",
       "      <td>NaN</td>\n",
       "      <td>NaN</td>\n",
       "      <td>1.215</td>\n",
       "      <td>NaN</td>\n",
       "      <td>NaN</td>\n",
       "      <td>NaN</td>\n",
       "      <td>2.26</td>\n",
       "      <td>NaN</td>\n",
       "      <td>NaN</td>\n",
       "      <td>...</td>\n",
       "      <td>NaN</td>\n",
       "      <td>NaN</td>\n",
       "      <td>NaN</td>\n",
       "      <td>NaN</td>\n",
       "      <td>0.067</td>\n",
       "      <td>NaN</td>\n",
       "      <td>NaN</td>\n",
       "      <td>NaN</td>\n",
       "      <td>NaN</td>\n",
       "      <td>NaN</td>\n",
       "    </tr>\n",
       "    <tr>\n",
       "      <th>2015-01-05</th>\n",
       "      <td>NaN</td>\n",
       "      <td>NaN</td>\n",
       "      <td>NaN</td>\n",
       "      <td>1.265</td>\n",
       "      <td>NaN</td>\n",
       "      <td>NaN</td>\n",
       "      <td>NaN</td>\n",
       "      <td>2.07</td>\n",
       "      <td>NaN</td>\n",
       "      <td>NaN</td>\n",
       "      <td>...</td>\n",
       "      <td>NaN</td>\n",
       "      <td>NaN</td>\n",
       "      <td>4.40</td>\n",
       "      <td>NaN</td>\n",
       "      <td>0.070</td>\n",
       "      <td>NaN</td>\n",
       "      <td>NaN</td>\n",
       "      <td>NaN</td>\n",
       "      <td>NaN</td>\n",
       "      <td>NaN</td>\n",
       "    </tr>\n",
       "    <tr>\n",
       "      <th>2015-01-06</th>\n",
       "      <td>NaN</td>\n",
       "      <td>NaN</td>\n",
       "      <td>NaN</td>\n",
       "      <td>1.245</td>\n",
       "      <td>NaN</td>\n",
       "      <td>NaN</td>\n",
       "      <td>NaN</td>\n",
       "      <td>2.08</td>\n",
       "      <td>NaN</td>\n",
       "      <td>NaN</td>\n",
       "      <td>...</td>\n",
       "      <td>NaN</td>\n",
       "      <td>NaN</td>\n",
       "      <td>4.39</td>\n",
       "      <td>NaN</td>\n",
       "      <td>NaN</td>\n",
       "      <td>NaN</td>\n",
       "      <td>NaN</td>\n",
       "      <td>NaN</td>\n",
       "      <td>NaN</td>\n",
       "      <td>NaN</td>\n",
       "    </tr>\n",
       "    <tr>\n",
       "      <th>2015-01-07</th>\n",
       "      <td>NaN</td>\n",
       "      <td>NaN</td>\n",
       "      <td>NaN</td>\n",
       "      <td>1.250</td>\n",
       "      <td>NaN</td>\n",
       "      <td>NaN</td>\n",
       "      <td>NaN</td>\n",
       "      <td>2.05</td>\n",
       "      <td>NaN</td>\n",
       "      <td>NaN</td>\n",
       "      <td>...</td>\n",
       "      <td>NaN</td>\n",
       "      <td>NaN</td>\n",
       "      <td>NaN</td>\n",
       "      <td>NaN</td>\n",
       "      <td>NaN</td>\n",
       "      <td>0.003</td>\n",
       "      <td>NaN</td>\n",
       "      <td>NaN</td>\n",
       "      <td>NaN</td>\n",
       "      <td>NaN</td>\n",
       "    </tr>\n",
       "    <tr>\n",
       "      <th>2015-01-08</th>\n",
       "      <td>NaN</td>\n",
       "      <td>NaN</td>\n",
       "      <td>NaN</td>\n",
       "      <td>1.255</td>\n",
       "      <td>NaN</td>\n",
       "      <td>NaN</td>\n",
       "      <td>NaN</td>\n",
       "      <td>2.08</td>\n",
       "      <td>NaN</td>\n",
       "      <td>NaN</td>\n",
       "      <td>...</td>\n",
       "      <td>NaN</td>\n",
       "      <td>NaN</td>\n",
       "      <td>NaN</td>\n",
       "      <td>NaN</td>\n",
       "      <td>NaN</td>\n",
       "      <td>NaN</td>\n",
       "      <td>NaN</td>\n",
       "      <td>NaN</td>\n",
       "      <td>NaN</td>\n",
       "      <td>NaN</td>\n",
       "    </tr>\n",
       "  </tbody>\n",
       "</table>\n",
       "<p>5 rows × 2773 columns</p>\n",
       "</div>"
      ],
      "text/plain": [
       "ticker      1AD  1AG  1AL    1PG  1ST  3DM  3DP   3PL  4CE  4DS  ...   ZNO  \\\n",
       "date                                                             ...         \n",
       "2015-01-02  NaN  NaN  NaN  1.215  NaN  NaN  NaN  2.26  NaN  NaN  ...   NaN   \n",
       "2015-01-05  NaN  NaN  NaN  1.265  NaN  NaN  NaN  2.07  NaN  NaN  ...   NaN   \n",
       "2015-01-06  NaN  NaN  NaN  1.245  NaN  NaN  NaN  2.08  NaN  NaN  ...   NaN   \n",
       "2015-01-07  NaN  NaN  NaN  1.250  NaN  NaN  NaN  2.05  NaN  NaN  ...   NaN   \n",
       "2015-01-08  NaN  NaN  NaN  1.255  NaN  NaN  NaN  2.08  NaN  NaN  ...   NaN   \n",
       "\n",
       "ticker      ZNT   ZNZ  ZOZI    ZRL    ZTA  ZUSD  ZYB  ZYL  ZYUS  \n",
       "date                                                             \n",
       "2015-01-02  NaN   NaN   NaN  0.067    NaN   NaN  NaN  NaN   NaN  \n",
       "2015-01-05  NaN  4.40   NaN  0.070    NaN   NaN  NaN  NaN   NaN  \n",
       "2015-01-06  NaN  4.39   NaN    NaN    NaN   NaN  NaN  NaN   NaN  \n",
       "2015-01-07  NaN   NaN   NaN    NaN  0.003   NaN  NaN  NaN   NaN  \n",
       "2015-01-08  NaN   NaN   NaN    NaN    NaN   NaN  NaN  NaN   NaN  \n",
       "\n",
       "[5 rows x 2773 columns]"
      ]
     },
     "execution_count": 232,
     "metadata": {},
     "output_type": "execute_result"
    }
   ],
   "source": [
    "df_close.head()"
   ]
  },
  {
   "cell_type": "markdown",
   "metadata": {},
   "source": [
    "Next, we create a dataframe containing the future close returns at time $t$, denoted as $r_{t,t+1}$, as defined by:\n",
    "\n",
    "$$r_{t,t+1}=\\frac{P^{c}_{t+1}}{P^{c}_{t}}-1,$$\n",
    "\n",
    "where $P^c_t$ is the close price at time $t$. This will be the quantity-of-interest that will be predicted."
   ]
  },
  {
   "cell_type": "code",
   "execution_count": 233,
   "metadata": {},
   "outputs": [
    {
     "data": {
      "text/html": [
       "<div>\n",
       "<style scoped>\n",
       "    .dataframe tbody tr th:only-of-type {\n",
       "        vertical-align: middle;\n",
       "    }\n",
       "\n",
       "    .dataframe tbody tr th {\n",
       "        vertical-align: top;\n",
       "    }\n",
       "\n",
       "    .dataframe thead th {\n",
       "        text-align: right;\n",
       "    }\n",
       "</style>\n",
       "<table border=\"1\" class=\"dataframe\">\n",
       "  <thead>\n",
       "    <tr style=\"text-align: right;\">\n",
       "      <th>ticker</th>\n",
       "      <th>1AD</th>\n",
       "      <th>1AG</th>\n",
       "      <th>1AL</th>\n",
       "      <th>1PG</th>\n",
       "      <th>1ST</th>\n",
       "      <th>3DM</th>\n",
       "      <th>3DP</th>\n",
       "      <th>3PL</th>\n",
       "      <th>4CE</th>\n",
       "      <th>4DS</th>\n",
       "      <th>...</th>\n",
       "      <th>ZNO</th>\n",
       "      <th>ZNT</th>\n",
       "      <th>ZNZ</th>\n",
       "      <th>ZOZI</th>\n",
       "      <th>ZRL</th>\n",
       "      <th>ZTA</th>\n",
       "      <th>ZUSD</th>\n",
       "      <th>ZYB</th>\n",
       "      <th>ZYL</th>\n",
       "      <th>ZYUS</th>\n",
       "    </tr>\n",
       "    <tr>\n",
       "      <th>date</th>\n",
       "      <th></th>\n",
       "      <th></th>\n",
       "      <th></th>\n",
       "      <th></th>\n",
       "      <th></th>\n",
       "      <th></th>\n",
       "      <th></th>\n",
       "      <th></th>\n",
       "      <th></th>\n",
       "      <th></th>\n",
       "      <th></th>\n",
       "      <th></th>\n",
       "      <th></th>\n",
       "      <th></th>\n",
       "      <th></th>\n",
       "      <th></th>\n",
       "      <th></th>\n",
       "      <th></th>\n",
       "      <th></th>\n",
       "      <th></th>\n",
       "      <th></th>\n",
       "    </tr>\n",
       "  </thead>\n",
       "  <tbody>\n",
       "    <tr>\n",
       "      <th>2015-01-02</th>\n",
       "      <td>NaN</td>\n",
       "      <td>NaN</td>\n",
       "      <td>NaN</td>\n",
       "      <td>0.041152</td>\n",
       "      <td>NaN</td>\n",
       "      <td>NaN</td>\n",
       "      <td>NaN</td>\n",
       "      <td>-0.084071</td>\n",
       "      <td>NaN</td>\n",
       "      <td>NaN</td>\n",
       "      <td>...</td>\n",
       "      <td>NaN</td>\n",
       "      <td>NaN</td>\n",
       "      <td>NaN</td>\n",
       "      <td>NaN</td>\n",
       "      <td>0.044776</td>\n",
       "      <td>NaN</td>\n",
       "      <td>NaN</td>\n",
       "      <td>NaN</td>\n",
       "      <td>NaN</td>\n",
       "      <td>NaN</td>\n",
       "    </tr>\n",
       "    <tr>\n",
       "      <th>2015-01-05</th>\n",
       "      <td>NaN</td>\n",
       "      <td>NaN</td>\n",
       "      <td>NaN</td>\n",
       "      <td>-0.015810</td>\n",
       "      <td>NaN</td>\n",
       "      <td>NaN</td>\n",
       "      <td>NaN</td>\n",
       "      <td>0.004831</td>\n",
       "      <td>NaN</td>\n",
       "      <td>NaN</td>\n",
       "      <td>...</td>\n",
       "      <td>NaN</td>\n",
       "      <td>NaN</td>\n",
       "      <td>-0.002273</td>\n",
       "      <td>NaN</td>\n",
       "      <td>NaN</td>\n",
       "      <td>NaN</td>\n",
       "      <td>NaN</td>\n",
       "      <td>NaN</td>\n",
       "      <td>NaN</td>\n",
       "      <td>NaN</td>\n",
       "    </tr>\n",
       "    <tr>\n",
       "      <th>2015-01-06</th>\n",
       "      <td>NaN</td>\n",
       "      <td>NaN</td>\n",
       "      <td>NaN</td>\n",
       "      <td>0.004016</td>\n",
       "      <td>NaN</td>\n",
       "      <td>NaN</td>\n",
       "      <td>NaN</td>\n",
       "      <td>-0.014423</td>\n",
       "      <td>NaN</td>\n",
       "      <td>NaN</td>\n",
       "      <td>...</td>\n",
       "      <td>NaN</td>\n",
       "      <td>NaN</td>\n",
       "      <td>NaN</td>\n",
       "      <td>NaN</td>\n",
       "      <td>NaN</td>\n",
       "      <td>NaN</td>\n",
       "      <td>NaN</td>\n",
       "      <td>NaN</td>\n",
       "      <td>NaN</td>\n",
       "      <td>NaN</td>\n",
       "    </tr>\n",
       "    <tr>\n",
       "      <th>2015-01-07</th>\n",
       "      <td>NaN</td>\n",
       "      <td>NaN</td>\n",
       "      <td>NaN</td>\n",
       "      <td>0.004000</td>\n",
       "      <td>NaN</td>\n",
       "      <td>NaN</td>\n",
       "      <td>NaN</td>\n",
       "      <td>0.014634</td>\n",
       "      <td>NaN</td>\n",
       "      <td>NaN</td>\n",
       "      <td>...</td>\n",
       "      <td>NaN</td>\n",
       "      <td>NaN</td>\n",
       "      <td>NaN</td>\n",
       "      <td>NaN</td>\n",
       "      <td>NaN</td>\n",
       "      <td>NaN</td>\n",
       "      <td>NaN</td>\n",
       "      <td>NaN</td>\n",
       "      <td>NaN</td>\n",
       "      <td>NaN</td>\n",
       "    </tr>\n",
       "    <tr>\n",
       "      <th>2015-01-08</th>\n",
       "      <td>NaN</td>\n",
       "      <td>NaN</td>\n",
       "      <td>NaN</td>\n",
       "      <td>0.015936</td>\n",
       "      <td>NaN</td>\n",
       "      <td>NaN</td>\n",
       "      <td>NaN</td>\n",
       "      <td>0.096154</td>\n",
       "      <td>NaN</td>\n",
       "      <td>NaN</td>\n",
       "      <td>...</td>\n",
       "      <td>NaN</td>\n",
       "      <td>NaN</td>\n",
       "      <td>NaN</td>\n",
       "      <td>NaN</td>\n",
       "      <td>NaN</td>\n",
       "      <td>NaN</td>\n",
       "      <td>NaN</td>\n",
       "      <td>NaN</td>\n",
       "      <td>NaN</td>\n",
       "      <td>NaN</td>\n",
       "    </tr>\n",
       "  </tbody>\n",
       "</table>\n",
       "<p>5 rows × 2773 columns</p>\n",
       "</div>"
      ],
      "text/plain": [
       "ticker      1AD  1AG  1AL       1PG  1ST  3DM  3DP       3PL  4CE  4DS  ...   \\\n",
       "date                                                                    ...    \n",
       "2015-01-02  NaN  NaN  NaN  0.041152  NaN  NaN  NaN -0.084071  NaN  NaN  ...    \n",
       "2015-01-05  NaN  NaN  NaN -0.015810  NaN  NaN  NaN  0.004831  NaN  NaN  ...    \n",
       "2015-01-06  NaN  NaN  NaN  0.004016  NaN  NaN  NaN -0.014423  NaN  NaN  ...    \n",
       "2015-01-07  NaN  NaN  NaN  0.004000  NaN  NaN  NaN  0.014634  NaN  NaN  ...    \n",
       "2015-01-08  NaN  NaN  NaN  0.015936  NaN  NaN  NaN  0.096154  NaN  NaN  ...    \n",
       "\n",
       "ticker      ZNO  ZNT       ZNZ  ZOZI       ZRL  ZTA  ZUSD  ZYB  ZYL  ZYUS  \n",
       "date                                                                       \n",
       "2015-01-02  NaN  NaN       NaN   NaN  0.044776  NaN   NaN  NaN  NaN   NaN  \n",
       "2015-01-05  NaN  NaN -0.002273   NaN       NaN  NaN   NaN  NaN  NaN   NaN  \n",
       "2015-01-06  NaN  NaN       NaN   NaN       NaN  NaN   NaN  NaN  NaN   NaN  \n",
       "2015-01-07  NaN  NaN       NaN   NaN       NaN  NaN   NaN  NaN  NaN   NaN  \n",
       "2015-01-08  NaN  NaN       NaN   NaN       NaN  NaN   NaN  NaN  NaN   NaN  \n",
       "\n",
       "[5 rows x 2773 columns]"
      ]
     },
     "execution_count": 233,
     "metadata": {},
     "output_type": "execute_result"
    }
   ],
   "source": [
    "# to find the future close return of t+1, or the close return of next business day, and assign to the index of t\n",
    "df_ftr_rtn = (df_close.shift(-1) / df_close) - 1\n",
    "df_ftr_rtn.head()"
   ]
  },
  {
   "cell_type": "markdown",
   "metadata": {},
   "source": [
    "Also create a data frame containing close returns for the day, which is calculated with respect to the close price of the previous day."
   ]
  },
  {
   "cell_type": "code",
   "execution_count": 234,
   "metadata": {},
   "outputs": [
    {
     "data": {
      "text/html": [
       "<div>\n",
       "<style scoped>\n",
       "    .dataframe tbody tr th:only-of-type {\n",
       "        vertical-align: middle;\n",
       "    }\n",
       "\n",
       "    .dataframe tbody tr th {\n",
       "        vertical-align: top;\n",
       "    }\n",
       "\n",
       "    .dataframe thead th {\n",
       "        text-align: right;\n",
       "    }\n",
       "</style>\n",
       "<table border=\"1\" class=\"dataframe\">\n",
       "  <thead>\n",
       "    <tr style=\"text-align: right;\">\n",
       "      <th>ticker</th>\n",
       "      <th>1AD</th>\n",
       "      <th>1AG</th>\n",
       "      <th>1AL</th>\n",
       "      <th>1PG</th>\n",
       "      <th>1ST</th>\n",
       "      <th>3DM</th>\n",
       "      <th>3DP</th>\n",
       "      <th>3PL</th>\n",
       "      <th>4CE</th>\n",
       "      <th>4DS</th>\n",
       "      <th>...</th>\n",
       "      <th>ZNO</th>\n",
       "      <th>ZNT</th>\n",
       "      <th>ZNZ</th>\n",
       "      <th>ZOZI</th>\n",
       "      <th>ZRL</th>\n",
       "      <th>ZTA</th>\n",
       "      <th>ZUSD</th>\n",
       "      <th>ZYB</th>\n",
       "      <th>ZYL</th>\n",
       "      <th>ZYUS</th>\n",
       "    </tr>\n",
       "    <tr>\n",
       "      <th>date</th>\n",
       "      <th></th>\n",
       "      <th></th>\n",
       "      <th></th>\n",
       "      <th></th>\n",
       "      <th></th>\n",
       "      <th></th>\n",
       "      <th></th>\n",
       "      <th></th>\n",
       "      <th></th>\n",
       "      <th></th>\n",
       "      <th></th>\n",
       "      <th></th>\n",
       "      <th></th>\n",
       "      <th></th>\n",
       "      <th></th>\n",
       "      <th></th>\n",
       "      <th></th>\n",
       "      <th></th>\n",
       "      <th></th>\n",
       "      <th></th>\n",
       "      <th></th>\n",
       "    </tr>\n",
       "  </thead>\n",
       "  <tbody>\n",
       "    <tr>\n",
       "      <th>2015-01-02</th>\n",
       "      <td>NaN</td>\n",
       "      <td>NaN</td>\n",
       "      <td>NaN</td>\n",
       "      <td>NaN</td>\n",
       "      <td>NaN</td>\n",
       "      <td>NaN</td>\n",
       "      <td>NaN</td>\n",
       "      <td>NaN</td>\n",
       "      <td>NaN</td>\n",
       "      <td>NaN</td>\n",
       "      <td>...</td>\n",
       "      <td>NaN</td>\n",
       "      <td>NaN</td>\n",
       "      <td>NaN</td>\n",
       "      <td>NaN</td>\n",
       "      <td>NaN</td>\n",
       "      <td>NaN</td>\n",
       "      <td>NaN</td>\n",
       "      <td>NaN</td>\n",
       "      <td>NaN</td>\n",
       "      <td>NaN</td>\n",
       "    </tr>\n",
       "    <tr>\n",
       "      <th>2015-01-05</th>\n",
       "      <td>NaN</td>\n",
       "      <td>NaN</td>\n",
       "      <td>NaN</td>\n",
       "      <td>0.041152</td>\n",
       "      <td>NaN</td>\n",
       "      <td>NaN</td>\n",
       "      <td>NaN</td>\n",
       "      <td>-0.084071</td>\n",
       "      <td>NaN</td>\n",
       "      <td>NaN</td>\n",
       "      <td>...</td>\n",
       "      <td>NaN</td>\n",
       "      <td>NaN</td>\n",
       "      <td>NaN</td>\n",
       "      <td>NaN</td>\n",
       "      <td>0.044776</td>\n",
       "      <td>NaN</td>\n",
       "      <td>NaN</td>\n",
       "      <td>NaN</td>\n",
       "      <td>NaN</td>\n",
       "      <td>NaN</td>\n",
       "    </tr>\n",
       "    <tr>\n",
       "      <th>2015-01-06</th>\n",
       "      <td>NaN</td>\n",
       "      <td>NaN</td>\n",
       "      <td>NaN</td>\n",
       "      <td>-0.015810</td>\n",
       "      <td>NaN</td>\n",
       "      <td>NaN</td>\n",
       "      <td>NaN</td>\n",
       "      <td>0.004831</td>\n",
       "      <td>NaN</td>\n",
       "      <td>NaN</td>\n",
       "      <td>...</td>\n",
       "      <td>NaN</td>\n",
       "      <td>NaN</td>\n",
       "      <td>-0.002273</td>\n",
       "      <td>NaN</td>\n",
       "      <td>NaN</td>\n",
       "      <td>NaN</td>\n",
       "      <td>NaN</td>\n",
       "      <td>NaN</td>\n",
       "      <td>NaN</td>\n",
       "      <td>NaN</td>\n",
       "    </tr>\n",
       "    <tr>\n",
       "      <th>2015-01-07</th>\n",
       "      <td>NaN</td>\n",
       "      <td>NaN</td>\n",
       "      <td>NaN</td>\n",
       "      <td>0.004016</td>\n",
       "      <td>NaN</td>\n",
       "      <td>NaN</td>\n",
       "      <td>NaN</td>\n",
       "      <td>-0.014423</td>\n",
       "      <td>NaN</td>\n",
       "      <td>NaN</td>\n",
       "      <td>...</td>\n",
       "      <td>NaN</td>\n",
       "      <td>NaN</td>\n",
       "      <td>NaN</td>\n",
       "      <td>NaN</td>\n",
       "      <td>NaN</td>\n",
       "      <td>NaN</td>\n",
       "      <td>NaN</td>\n",
       "      <td>NaN</td>\n",
       "      <td>NaN</td>\n",
       "      <td>NaN</td>\n",
       "    </tr>\n",
       "    <tr>\n",
       "      <th>2015-01-08</th>\n",
       "      <td>NaN</td>\n",
       "      <td>NaN</td>\n",
       "      <td>NaN</td>\n",
       "      <td>0.004000</td>\n",
       "      <td>NaN</td>\n",
       "      <td>NaN</td>\n",
       "      <td>NaN</td>\n",
       "      <td>0.014634</td>\n",
       "      <td>NaN</td>\n",
       "      <td>NaN</td>\n",
       "      <td>...</td>\n",
       "      <td>NaN</td>\n",
       "      <td>NaN</td>\n",
       "      <td>NaN</td>\n",
       "      <td>NaN</td>\n",
       "      <td>NaN</td>\n",
       "      <td>NaN</td>\n",
       "      <td>NaN</td>\n",
       "      <td>NaN</td>\n",
       "      <td>NaN</td>\n",
       "      <td>NaN</td>\n",
       "    </tr>\n",
       "  </tbody>\n",
       "</table>\n",
       "<p>5 rows × 2773 columns</p>\n",
       "</div>"
      ],
      "text/plain": [
       "ticker      1AD  1AG  1AL       1PG  1ST  3DM  3DP       3PL  4CE  4DS  ...   \\\n",
       "date                                                                    ...    \n",
       "2015-01-02  NaN  NaN  NaN       NaN  NaN  NaN  NaN       NaN  NaN  NaN  ...    \n",
       "2015-01-05  NaN  NaN  NaN  0.041152  NaN  NaN  NaN -0.084071  NaN  NaN  ...    \n",
       "2015-01-06  NaN  NaN  NaN -0.015810  NaN  NaN  NaN  0.004831  NaN  NaN  ...    \n",
       "2015-01-07  NaN  NaN  NaN  0.004016  NaN  NaN  NaN -0.014423  NaN  NaN  ...    \n",
       "2015-01-08  NaN  NaN  NaN  0.004000  NaN  NaN  NaN  0.014634  NaN  NaN  ...    \n",
       "\n",
       "ticker      ZNO  ZNT       ZNZ  ZOZI       ZRL  ZTA  ZUSD  ZYB  ZYL  ZYUS  \n",
       "date                                                                       \n",
       "2015-01-02  NaN  NaN       NaN   NaN       NaN  NaN   NaN  NaN  NaN   NaN  \n",
       "2015-01-05  NaN  NaN       NaN   NaN  0.044776  NaN   NaN  NaN  NaN   NaN  \n",
       "2015-01-06  NaN  NaN -0.002273   NaN       NaN  NaN   NaN  NaN  NaN   NaN  \n",
       "2015-01-07  NaN  NaN       NaN   NaN       NaN  NaN   NaN  NaN  NaN   NaN  \n",
       "2015-01-08  NaN  NaN       NaN   NaN       NaN  NaN   NaN  NaN  NaN   NaN  \n",
       "\n",
       "[5 rows x 2773 columns]"
      ]
     },
     "execution_count": 234,
     "metadata": {},
     "output_type": "execute_result"
    }
   ],
   "source": [
    "# to find the future close return of t based on t-1 close values and assign to the index of t\n",
    "df_rtn = (df_close / df_close.shift(1)) - 1\n",
    "df_rtn.head()"
   ]
  },
  {
   "cell_type": "markdown",
   "metadata": {},
   "source": [
    "Create a data frame containing the ratios of $\\frac{High}{Low}$ for each ticker each day, in the same format."
   ]
  },
  {
   "cell_type": "code",
   "execution_count": 235,
   "metadata": {},
   "outputs": [
    {
     "data": {
      "text/html": [
       "<div>\n",
       "<style scoped>\n",
       "    .dataframe tbody tr th:only-of-type {\n",
       "        vertical-align: middle;\n",
       "    }\n",
       "\n",
       "    .dataframe tbody tr th {\n",
       "        vertical-align: top;\n",
       "    }\n",
       "\n",
       "    .dataframe thead th {\n",
       "        text-align: right;\n",
       "    }\n",
       "</style>\n",
       "<table border=\"1\" class=\"dataframe\">\n",
       "  <thead>\n",
       "    <tr style=\"text-align: right;\">\n",
       "      <th>ticker</th>\n",
       "      <th>1AD</th>\n",
       "      <th>1AG</th>\n",
       "      <th>1AL</th>\n",
       "      <th>1PG</th>\n",
       "      <th>1ST</th>\n",
       "      <th>3DM</th>\n",
       "      <th>3DP</th>\n",
       "      <th>3PL</th>\n",
       "      <th>4CE</th>\n",
       "      <th>4DS</th>\n",
       "      <th>...</th>\n",
       "      <th>ZNO</th>\n",
       "      <th>ZNT</th>\n",
       "      <th>ZNZ</th>\n",
       "      <th>ZOZI</th>\n",
       "      <th>ZRL</th>\n",
       "      <th>ZTA</th>\n",
       "      <th>ZUSD</th>\n",
       "      <th>ZYB</th>\n",
       "      <th>ZYL</th>\n",
       "      <th>ZYUS</th>\n",
       "    </tr>\n",
       "    <tr>\n",
       "      <th>date</th>\n",
       "      <th></th>\n",
       "      <th></th>\n",
       "      <th></th>\n",
       "      <th></th>\n",
       "      <th></th>\n",
       "      <th></th>\n",
       "      <th></th>\n",
       "      <th></th>\n",
       "      <th></th>\n",
       "      <th></th>\n",
       "      <th></th>\n",
       "      <th></th>\n",
       "      <th></th>\n",
       "      <th></th>\n",
       "      <th></th>\n",
       "      <th></th>\n",
       "      <th></th>\n",
       "      <th></th>\n",
       "      <th></th>\n",
       "      <th></th>\n",
       "      <th></th>\n",
       "    </tr>\n",
       "  </thead>\n",
       "  <tbody>\n",
       "    <tr>\n",
       "      <th>2015-01-02</th>\n",
       "      <td>NaN</td>\n",
       "      <td>NaN</td>\n",
       "      <td>NaN</td>\n",
       "      <td>1.068966</td>\n",
       "      <td>NaN</td>\n",
       "      <td>NaN</td>\n",
       "      <td>NaN</td>\n",
       "      <td>1.055300</td>\n",
       "      <td>NaN</td>\n",
       "      <td>NaN</td>\n",
       "      <td>...</td>\n",
       "      <td>NaN</td>\n",
       "      <td>NaN</td>\n",
       "      <td>NaN</td>\n",
       "      <td>NaN</td>\n",
       "      <td>1.0</td>\n",
       "      <td>NaN</td>\n",
       "      <td>NaN</td>\n",
       "      <td>NaN</td>\n",
       "      <td>NaN</td>\n",
       "      <td>NaN</td>\n",
       "    </tr>\n",
       "    <tr>\n",
       "      <th>2015-01-05</th>\n",
       "      <td>NaN</td>\n",
       "      <td>NaN</td>\n",
       "      <td>NaN</td>\n",
       "      <td>1.061224</td>\n",
       "      <td>NaN</td>\n",
       "      <td>NaN</td>\n",
       "      <td>NaN</td>\n",
       "      <td>1.111111</td>\n",
       "      <td>NaN</td>\n",
       "      <td>NaN</td>\n",
       "      <td>...</td>\n",
       "      <td>NaN</td>\n",
       "      <td>NaN</td>\n",
       "      <td>1.022727</td>\n",
       "      <td>NaN</td>\n",
       "      <td>1.0</td>\n",
       "      <td>NaN</td>\n",
       "      <td>NaN</td>\n",
       "      <td>NaN</td>\n",
       "      <td>NaN</td>\n",
       "      <td>NaN</td>\n",
       "    </tr>\n",
       "    <tr>\n",
       "      <th>2015-01-06</th>\n",
       "      <td>NaN</td>\n",
       "      <td>NaN</td>\n",
       "      <td>NaN</td>\n",
       "      <td>1.041322</td>\n",
       "      <td>NaN</td>\n",
       "      <td>NaN</td>\n",
       "      <td>NaN</td>\n",
       "      <td>1.039604</td>\n",
       "      <td>NaN</td>\n",
       "      <td>NaN</td>\n",
       "      <td>...</td>\n",
       "      <td>NaN</td>\n",
       "      <td>NaN</td>\n",
       "      <td>1.006865</td>\n",
       "      <td>NaN</td>\n",
       "      <td>NaN</td>\n",
       "      <td>NaN</td>\n",
       "      <td>NaN</td>\n",
       "      <td>NaN</td>\n",
       "      <td>NaN</td>\n",
       "      <td>NaN</td>\n",
       "    </tr>\n",
       "    <tr>\n",
       "      <th>2015-01-07</th>\n",
       "      <td>NaN</td>\n",
       "      <td>NaN</td>\n",
       "      <td>NaN</td>\n",
       "      <td>1.041667</td>\n",
       "      <td>NaN</td>\n",
       "      <td>NaN</td>\n",
       "      <td>NaN</td>\n",
       "      <td>1.050000</td>\n",
       "      <td>NaN</td>\n",
       "      <td>NaN</td>\n",
       "      <td>...</td>\n",
       "      <td>NaN</td>\n",
       "      <td>NaN</td>\n",
       "      <td>NaN</td>\n",
       "      <td>NaN</td>\n",
       "      <td>NaN</td>\n",
       "      <td>1.0</td>\n",
       "      <td>NaN</td>\n",
       "      <td>NaN</td>\n",
       "      <td>NaN</td>\n",
       "      <td>NaN</td>\n",
       "    </tr>\n",
       "    <tr>\n",
       "      <th>2015-01-08</th>\n",
       "      <td>NaN</td>\n",
       "      <td>NaN</td>\n",
       "      <td>NaN</td>\n",
       "      <td>1.044534</td>\n",
       "      <td>NaN</td>\n",
       "      <td>NaN</td>\n",
       "      <td>NaN</td>\n",
       "      <td>1.014493</td>\n",
       "      <td>NaN</td>\n",
       "      <td>NaN</td>\n",
       "      <td>...</td>\n",
       "      <td>NaN</td>\n",
       "      <td>NaN</td>\n",
       "      <td>NaN</td>\n",
       "      <td>NaN</td>\n",
       "      <td>NaN</td>\n",
       "      <td>NaN</td>\n",
       "      <td>NaN</td>\n",
       "      <td>NaN</td>\n",
       "      <td>NaN</td>\n",
       "      <td>NaN</td>\n",
       "    </tr>\n",
       "  </tbody>\n",
       "</table>\n",
       "<p>5 rows × 2773 columns</p>\n",
       "</div>"
      ],
      "text/plain": [
       "ticker      1AD  1AG  1AL       1PG  1ST  3DM  3DP       3PL  4CE  4DS  ...   \\\n",
       "date                                                                    ...    \n",
       "2015-01-02  NaN  NaN  NaN  1.068966  NaN  NaN  NaN  1.055300  NaN  NaN  ...    \n",
       "2015-01-05  NaN  NaN  NaN  1.061224  NaN  NaN  NaN  1.111111  NaN  NaN  ...    \n",
       "2015-01-06  NaN  NaN  NaN  1.041322  NaN  NaN  NaN  1.039604  NaN  NaN  ...    \n",
       "2015-01-07  NaN  NaN  NaN  1.041667  NaN  NaN  NaN  1.050000  NaN  NaN  ...    \n",
       "2015-01-08  NaN  NaN  NaN  1.044534  NaN  NaN  NaN  1.014493  NaN  NaN  ...    \n",
       "\n",
       "ticker      ZNO  ZNT       ZNZ  ZOZI  ZRL  ZTA  ZUSD  ZYB  ZYL  ZYUS  \n",
       "date                                                                  \n",
       "2015-01-02  NaN  NaN       NaN   NaN  1.0  NaN   NaN  NaN  NaN   NaN  \n",
       "2015-01-05  NaN  NaN  1.022727   NaN  1.0  NaN   NaN  NaN  NaN   NaN  \n",
       "2015-01-06  NaN  NaN  1.006865   NaN  NaN  NaN   NaN  NaN  NaN   NaN  \n",
       "2015-01-07  NaN  NaN       NaN   NaN  NaN  1.0   NaN  NaN  NaN   NaN  \n",
       "2015-01-08  NaN  NaN       NaN   NaN  NaN  NaN   NaN  NaN  NaN   NaN  \n",
       "\n",
       "[5 rows x 2773 columns]"
      ]
     },
     "execution_count": 235,
     "metadata": {},
     "output_type": "execute_result"
    }
   ],
   "source": [
    "# dataframe wirh ratio of high/low for each ticker on each day\n",
    "df_hl = df_high / df_low\n",
    "df_hl.head()"
   ]
  },
  {
   "cell_type": "markdown",
   "metadata": {},
   "source": [
    "## 2. Exploratory data analysis"
   ]
  },
  {
   "cell_type": "markdown",
   "metadata": {},
   "source": [
    "### 2.1 Hypothesis, motivation, approach and strategy"
   ]
  },
  {
   "cell_type": "markdown",
   "metadata": {},
   "source": [
    "As of 22 November 2019, based on ASX's website, there are in total 2195 unique tickers currently listed. The dataset however has 2773 unique tickers; which means that it has tickers of companies that have been delisted.\n",
    "\n",
    "Before analysing the coverage and quality, let us discuss the hypothesis, scope, motivation and strategy of this task.\n",
    "\n",
    "**Hypothesis**: \n",
    "1. Based on research [1-3], the patterns in the technical indicators derived from OHLCV of a particular stock (or company) have the predictive power of its future movements.\n",
    "2. Additionally, the tehnical indicators of companies contributing to composite indexes, such as ASX All Ordinaries, S&P/ASX 50, etc. can be used to predict the movement of the composite indexes that they belong to.\n",
    "\n",
    "**Scope**:\n",
    "This work limits its scope to hypothesis 1.\n",
    "\n",
    "**Motivation**:\n",
    "This work extends hypothesis 1 to be more generic: unlike the hypotheses employed in [1-3], the future movement of any stock price can be predicted through the movement and pattern of its technical indicators; and the same prediction from movement and pattern can be applicable to stock price of any company.\n",
    "\n",
    "Based on studies [1-4], the time series nature of the data recommends the use of long short-term memory (LSTM) paradigm of neural networks, which has been shown to be superior to ensemble methods such as random forest and other classification techniques such as the support vector machines.\n",
    "\n",
    "**Strategy**:\n",
    "The strategy here is to build a generic prediction model using the OHLCV data and technical indicators of past 60 (trading) days so as to be able to predict the movement of the stock price of any company. Note that this excludes all composite indexes listed in ASX (as this falls under hypothesis 2).\n",
    "\n",
    "For this, an LSTM model will be trained using train, validation, and test data to obtain the following metrics: upward or downward movement of the next day stock price. In addition, the random forest classification method will be used for bechmarking and discussion."
   ]
  },
  {
   "cell_type": "markdown",
   "metadata": {},
   "source": [
    "### 2.2. Coverage and quality"
   ]
  },
  {
   "cell_type": "markdown",
   "metadata": {},
   "source": [
    "As it can be observed from the dataframe printed out in the previous section, not all the tickers have complete data. There are 2773 unique tickers and 883 obervations. Now let us first visualise the distribution of number of non-missing values using dataframe `df_close`."
   ]
  },
  {
   "cell_type": "code",
   "execution_count": 237,
   "metadata": {},
   "outputs": [
    {
     "data": {
      "image/png": "[encoded data removed]",
      "text/plain": [
       "<Figure size 432x288 with 1 Axes>"
      ]
     },
     "metadata": {},
     "output_type": "display_data"
    },
    {
     "name": "stdout",
     "output_type": "stream",
     "text": [
      "There are 196 tickers with full data available.\n"
     ]
    }
   ],
   "source": [
    "import matplotlib.pyplot as plt\n",
    "\n",
    "# histogram of the number of non-missing values\n",
    "ax = df_close.notna().sum().hist(bins=20)\n",
    "plt.xlabel(\"Number of observations\")\n",
    "plt.ylabel(\"Frequency (tickers)\")\n",
    "plt.axis(\"tight\")\n",
    "plt.title(\"Distribution of non-missing values in tickers\")\n",
    "plt.show()\n",
    "\n",
    "print(\"There are {} tickers with full data available.\".format(df_close.columns[(df_close.notna().sum() == df_close.shape[0]).values].shape[0])) "
   ]
  },
  {
   "cell_type": "markdown",
   "metadata": {},
   "source": [
    "The histogram above shows that there are about 196 tickers with no missing values in close price. For peace of mind, let us alsoe inspect if the `df_master` dataframe is clean."
   ]
  },
  {
   "cell_type": "code",
   "execution_count": 238,
   "metadata": {},
   "outputs": [
    {
     "name": "stdout",
     "output_type": "stream",
     "text": [
      "<class 'pandas.core.frame.DataFrame'>\n",
      "DatetimeIndex: 1319997 entries, 2015-01-02 to 2018-06-29\n",
      "Data columns (total 6 columns):\n",
      "ticker    1319997 non-null object\n",
      "open      1319997 non-null float64\n",
      "high      1319997 non-null float64\n",
      "low       1319997 non-null float64\n",
      "close     1319997 non-null float64\n",
      "volume    1319997 non-null int64\n",
      "dtypes: float64(4), int64(1), object(1)\n",
      "memory usage: 70.5+ MB\n"
     ]
    }
   ],
   "source": [
    "df_master.info()"
   ]
  },
  {
   "cell_type": "markdown",
   "metadata": {},
   "source": [
    "The result above shows that the master dataframe is indeed clean. This means that all missing values in `df_close` is coming from the price not being registered on the day. After crosschecking with data from the ASX's official website, this is mainly due to the fact that the trade did not take place on that day, company listed after 2015-01-02, or company delisted before 2018-06-29. \n",
    "\n",
    "As clean result is of paramount importance, let us disregard the tickers with a lot of missing values and take only the ones with full data from 2015-01-02 to 2018-06-29. In this case, let us consider only the tickers with more than 800 non-missing values.\n",
    "\n",
    "Secondly, for good predictability, we need companies which have high correlation to the label we intend to predict, which in this case is the future return.\n",
    "\n",
    "Once the list of tickers that are of interest to us have been shortlisted, we will move on to handling missing data. Also, as mentioned earlier, we are also not interested in the compund indexes as they do not fall within the scope of the approach taken. Therefore, let us remove those tickers as well. After checking with ASX's website, they are the tickers that do not have volume information. Let us now filter the dataframes for tickers that we are interested in."
   ]
  },
  {
   "cell_type": "code",
   "execution_count": 239,
   "metadata": {},
   "outputs": [],
   "source": [
    "# Find composite indexes. They can be identified by 0 volume.\n",
    "non_comp_indexes = df_volume.columns[(df_volume.sum() != 0).values].values\n",
    "\n",
    "# filter the dataframes\n",
    "df_open = df_open[non_comp_indexes] # open\n",
    "df_high = df_high[non_comp_indexes] # high\n",
    "df_low = df_low[non_comp_indexes] # low\n",
    "df_close = df_close[non_comp_indexes] # close\n",
    "df_volume = df_volume[non_comp_indexes] # volume\n",
    "df_ftr_rtn = df_ftr_rtn[non_comp_indexes] # future return\n",
    "df_rtn = df_rtn[non_comp_indexes] # return\n",
    "df_hl = df_hl[non_comp_indexes] # high/low"
   ]
  },
  {
   "cell_type": "code",
   "execution_count": 240,
   "metadata": {},
   "outputs": [],
   "source": [
    "# get the array of tickers with less more than 800 non-missing values\n",
    "tickers_good = df_close.columns[(df_close.notna().sum() >= 800).values]\n",
    "\n",
    "# filter the dataframes\n",
    "df_open = df_open[tickers_good] # open\n",
    "df_high = df_high[tickers_good] # high\n",
    "df_low = df_low[tickers_good] # low\n",
    "df_close = df_close[tickers_good] # close\n",
    "df_volume = df_volume[tickers_good] # volume\n",
    "df_ftr_rtn = df_ftr_rtn[tickers_good] # future return\n",
    "df_rtn = df_rtn[tickers_good] # return\n",
    "df_hl = df_hl[tickers_good] # high/low"
   ]
  },
  {
   "cell_type": "markdown",
   "metadata": {},
   "source": [
    "Now, let us look at the average correlation to future return values and rank the tickers accordingly."
   ]
  },
  {
   "cell_type": "code",
   "execution_count": 241,
   "metadata": {},
   "outputs": [
    {
     "data": {
      "image/png": "[encoded data removed]",
      "text/plain": [
       "<Figure size 432x288 with 1 Axes>"
      ]
     },
     "metadata": {},
     "output_type": "display_data"
    }
   ],
   "source": [
    "# Let us rank the tickers in ascending order of average correlation\n",
    "df_corr_score = pd.DataFrame()\n",
    "\n",
    "# Loops over every ticker\n",
    "for ticker in tickers_good:\n",
    "    df = pd.concat([df_open[ticker], \n",
    "                    df_high[ticker], \n",
    "                    df_low[ticker], \n",
    "                    df_close[ticker], \n",
    "                    df_volume[ticker], \n",
    "                    df_ftr_rtn[ticker], \n",
    "                    df_rtn[ticker], \n",
    "                    df_hl[ticker]], \n",
    "                   axis=1, \n",
    "                   keys=[\"open\", \"high\", \"low\", \"close\", \"volume\", \"future_return\", \"return\", \"high_low\"])\n",
    "    df_corr_score = df_corr_score.append({\"ticker\": ticker, \n",
    "                                          \"avg_corr\": df.corr().drop(\"future_return\", axis = 1).loc['future_return'].abs().mean()}, \n",
    "                                         ignore_index = True)\n",
    "\n",
    "# draws the histogram of values of average correlation to future return\n",
    "df_corr_score.avg_corr.hist();\n",
    "plt.xlabel(\"Average correlation\")\n",
    "plt.ylabel(\"Frequency\")\n",
    "plt.title(\"Distribution of average correlation to future return\")\n",
    "plt.show()"
   ]
  },
  {
   "cell_type": "markdown",
   "metadata": {},
   "source": [
    "Based on the histogram above, we can see that there are very few tickers with good correlation to future values. For high profitability, we must take the tickers that possess good predictive power. Let us consider the tickers with average correlation value of more than the 75th percentile."
   ]
  },
  {
   "cell_type": "code",
   "execution_count": 242,
   "metadata": {},
   "outputs": [],
   "source": [
    "# get all ticker more than 75th percentile in average correlation\n",
    "tickers_75 = df_corr_score[df_corr_score.avg_corr > df_corr_score.avg_corr.quantile(0.75)].ticker.values\n",
    "\n",
    "# filter the dataframes\n",
    "df_open = df_open[tickers_75] # open\n",
    "df_high = df_high[tickers_75] # high\n",
    "df_low = df_low[tickers_75] # low\n",
    "df_close = df_close[tickers_75] # close\n",
    "df_volume = df_volume[tickers_75] # volume\n",
    "df_ftr_rtn = df_ftr_rtn[tickers_75] # future return\n",
    "df_rtn = df_rtn[tickers_75] # return\n",
    "df_hl = df_hl[tickers_75] # high/low"
   ]
  },
  {
   "cell_type": "markdown",
   "metadata": {},
   "source": [
    "Now, let's handle the missing values. There area few ways where the missing values can be handled on the day where the trade did not take place:\n",
    "1. Volume set to 0 and open, high, low, and close values set to previous day's close value with the assumption that no trade occured on that day for that particular ticker. This approach may introduce outliers in the volume and therefore noise in the data.\n",
    "2. Interpolate the data OHLCV data using the previous and next available values for smooth transition. Another alternative is to fill in the missing values to be either the mean and median of the column. This, on the other hand, introduces false information and could influence the machine learning model if the number of missing values is large enough.\n",
    "\n",
    "Let us follow approach 1 as it is theoretically more correct."
   ]
  },
  {
   "cell_type": "code",
   "execution_count": 243,
   "metadata": {},
   "outputs": [],
   "source": [
    "# modify original dataframes\n",
    "df_close = df_close.fillna(method=\"ffill\") # close\n",
    "df_close = df_close.fillna(method=\"bfill\") # to handle the first row of close\n",
    "df_volume = df_volume.applymap(lambda x: 0 if pd.isna(x) is True else x) # volume\n",
    "df_open = df_open.fillna(df_close) # open\n",
    "df_high = df_high.fillna(df_close) # high\n",
    "df_low = df_low.fillna(df_close) # low\n",
    "\n",
    "# calculate other dataframes\n",
    "df_ftr_rtn = (df_close.shift(-1) / df_close) - 1 # future return\n",
    "df_rtn = (df_close / df_close.shift(1)) - 1 # return\n",
    "df_hl = df_high / df_low # high/low"
   ]
  },
  {
   "cell_type": "markdown",
   "metadata": {},
   "source": [
    "### 2.3. Additional transformations"
   ]
  },
  {
   "cell_type": "markdown",
   "metadata": {},
   "source": [
    "Before going into performing some visualisations and analysis, let us look at some technical indicators. In essence, we would want to engineer features such that they possess some level of predictive power that could indicate the future direction of the market. Statistically speaking, these features should generally have good correlation to the market movement.\n",
    "\n",
    "There are numerous such transformations in literature [1-3]. The work by Borovkova et al. [1] consolidates some of the key technical indicators which can be used for additional transformations. Typically, they can be categorised into four groups: (1) Momentum; (2) Trend; (3) Volume; and (4) Volatility. Some of the commonly used indicators are:\n",
    "\n",
    "    1. Momentum:\n",
    "        a. Money flow index \n",
    "        b. Relative strength index\n",
    "        c. Stochastic oscillator (%K)\n",
    "        d. Stochastic oscillator (%D)\n",
    "        e. William %R\n",
    "        f. Rate of change\n",
    "    2. Trend:\n",
    "        a. Exponential moving average\n",
    "        b. Moving average convergence-divergence\n",
    "        c. Commodity channel index\n",
    "        d. Ichimoku Indicator\n",
    "    3. Volume:\n",
    "        a. Accumulation/distribution index\n",
    "    4. Volatility:\n",
    "        a. Bollinger bands \n",
    "    \n",
    "Now, let us perform additional transformations. To keep this document succinct, the definition of these indicators-of-interest will be described, whereas information of the other indicators can be obtained from [1-3]. All tranformations will be employing the open-source Python package [5]."
   ]
  },
  {
   "cell_type": "markdown",
   "metadata": {},
   "source": [
    "#### 2.3.1. Money flow index (MFI)"
   ]
  },
  {
   "cell_type": "markdown",
   "metadata": {},
   "source": [
    "Money flow index is calculated based on the price and volume to indicate the strength of money in and out from a particular ticker, or in other words, if a particular stock is overbought or oversold. Typically, when MFI of above 80 indicates overbought and oversold when it is below 20.\n",
    "\n",
    "The MFI can be calculated as follows:\n",
    "\n",
    "$$\\text{MFI} = 100 - \\frac{100}{1+\\text{MFR}}$$\n",
    "where\n",
    "$$\\text{MFR} = \\frac{\\text{Positive Money Flow}}{\\text{Negative Money Flow}}$$\n",
    "\n",
    "$$\\text{Money Flow} = \\left(\\frac{\\text{High} + \\text{Low} + \\text{Close}}{3}\\right)\\text{Volume}$$\n",
    "\n",
    "and MFR denotes money flow ratio."
   ]
  },
  {
   "cell_type": "code",
   "execution_count": 244,
   "metadata": {},
   "outputs": [],
   "source": [
    "import ta # import package\n",
    "\n",
    "# mfi dataframe\n",
    "df_mfi = pd.DataFrame()\n",
    "\n",
    "# loop over all tickers\n",
    "for ticker in df_close.columns:\n",
    "    # calculate mfi\n",
    "    temp = ta.momentum.money_flow_index(high=df_high[ticker], \n",
    "                                        low=df_low[ticker], \n",
    "                                        close=df_close[ticker], \n",
    "                                        volume=df_volume[ticker],\n",
    "                                        fillna=True)\n",
    "    # concatenate with main dataframe\n",
    "    df_mfi = pd.concat([df_mfi, temp], axis=1)\n",
    "\n",
    "# rename the columns\n",
    "df_mfi.columns = df_close.columns"
   ]
  },
  {
   "cell_type": "markdown",
   "metadata": {},
   "source": [
    "#### 2.3.2. Exponential moving average (EMA)"
   ]
  },
  {
   "cell_type": "markdown",
   "metadata": {},
   "source": [
    "The exponential moving average is exponentially weighed moving average calculated by exponentially decreasing the weight of observations $x_i$ with respect to their distance from $x_t$ using weighted multiplier $\\alpha$. For example, $\\alpha = 0.1$ gets only 10% of the current value into EMA. Since only a small portion of the current value is taken, most of the old values are preserved. Essentially, EMA is defined as:\n",
    "\n",
    "$$\\text{EMA}(x_t, \\alpha) = \\alpha x_t + (1 − \\alpha) \\text{EMA}(x_{t−1}, \\alpha).$$\n",
    "\n",
    "and\n",
    "\n",
    "$$\\alpha = \\frac{2}{N+1}$$\n",
    "\n",
    "where $N$ is number of days in a period. In this study, let us use $N = 10$ to be consistent with MFI, and hence $\\alpha = 0.13333$ using the close price of day $t$ as $x_t$."
   ]
  },
  {
   "cell_type": "code",
   "execution_count": 245,
   "metadata": {},
   "outputs": [],
   "source": [
    "# ema dataframe\n",
    "df_ema = df_close.apply(ta.trend.ema_indicator, fillna=True)"
   ]
  },
  {
   "cell_type": "markdown",
   "metadata": {},
   "source": [
    "#### 2.3.3. Relative strength index (RSI)"
   ]
  },
  {
   "cell_type": "markdown",
   "metadata": {},
   "source": [
    "Just like the MFI, the relative strength index is another momentum indicator, but uses the velocity and magnitude of price momevents and also to indicate whether a stock is overbought or oversold. The RSI can be simply calculated as follows:\n",
    "\n",
    "$$\\text{RSI} = 100 - \\frac{100}{1+\\text{RS}}$$\n",
    "\n",
    "where\n",
    "\n",
    "$$\\text{RS} = \\frac{\\text{Average of up closes}}{\\text{Average of down closes}}$$\n",
    "\n",
    "is the relative strength. For consistency, let us use $N = 10$ when calculating the average."
   ]
  },
  {
   "cell_type": "code",
   "execution_count": 246,
   "metadata": {},
   "outputs": [],
   "source": [
    "# rsi dataframe\n",
    "df_rsi = df_close.apply(ta.momentum.rsi, fillna=True)"
   ]
  },
  {
   "cell_type": "markdown",
   "metadata": {},
   "source": [
    "#### 2.3.4. Stochastic oscillator (SO)"
   ]
  },
  {
   "cell_type": "markdown",
   "metadata": {},
   "source": [
    "The stochastic oscillator (or Stochastic %K) is a momentum indicator calculated using the highest high price over a period of time $N$, lowest low price over a period of time $N$, and the current close price. The calculation can be simply performed as:\n",
    "\n",
    "$$\\text{%K} = \\left(\\frac{\\text{Close} - \\text{Lowest Low}}{\\text{Highest High} - \\text{Lowest Low}} \\right)*100$$\n",
    "\n",
    "which gives the result in percentage.\n",
    "\n",
    "The fast stochastic indicator (Stochastic %D) is normally the 3-period moving average of %K. Both indicators will be calculated below."
   ]
  },
  {
   "cell_type": "code",
   "execution_count": 247,
   "metadata": {},
   "outputs": [],
   "source": [
    "# stoch_k and stoch_d dataframe\n",
    "df_stoch_k = pd.DataFrame()\n",
    "df_stoch_d = pd.DataFrame()\n",
    "\n",
    "# loop over all tickers\n",
    "for ticker in df_close.columns:\n",
    "    # calculate %k\n",
    "    temp = ta.momentum.stoch(high=df_high[ticker],\n",
    "                             low=df_low[ticker],\n",
    "                             close=df_close[ticker],\n",
    "                             fillna=True)\n",
    "    # concatenate with main dataframe\n",
    "    df_stoch_k = pd.concat([df_stoch_k, temp], axis=1)\n",
    "    \n",
    "    # calculate %d\n",
    "    temp = ta.momentum.stoch_signal(high=df_high[ticker],\n",
    "                                   low=df_low[ticker],\n",
    "                                   close=df_close[ticker],\n",
    "                                   fillna=True)\n",
    "    # concatenate with main dataframe\n",
    "    df_stoch_d = pd.concat([df_stoch_d, temp], axis=1)\n",
    "\n",
    "# rename the columns\n",
    "df_stoch_k.columns = df_close.columns\n",
    "df_stoch_d.columns = df_close.columns"
   ]
  },
  {
   "cell_type": "markdown",
   "metadata": {},
   "source": [
    "#### 2.3.5. Moving average convergence-divergence (MACD)"
   ]
  },
  {
   "cell_type": "markdown",
   "metadata": {},
   "source": [
    "The moving average convergence-divergence is an indicator that shows the relationship between 12-period EMA and 26-period EMA. This index can be used to measure the trend-following momentum of a security. Accordingly, it is calculated as:\n",
    "\n",
    "$$\\text{MACD} = \\text{12-Period EMA} - \\text{26-Period EMA}$$\n",
    "\n",
    "where EMA is the exponential moving average, as defined and programmed earlier."
   ]
  },
  {
   "cell_type": "code",
   "execution_count": 248,
   "metadata": {},
   "outputs": [],
   "source": [
    "# macd dataframe\n",
    "df_macd = df_close.apply(ta.trend.macd_diff, fillna=True)"
   ]
  },
  {
   "cell_type": "markdown",
   "metadata": {},
   "source": [
    "#### 2.3.6. William %R"
   ]
  },
  {
   "cell_type": "markdown",
   "metadata": {},
   "source": [
    "William's %R is another momentum indicator that ranges between -100 and 0 which shows the overbought and oversold of a stock price. For example, a reading above -20 is overbought and a reading below -80 is oversold. Typically, it is calculated over the period of last $N=14$ days.\n",
    "\n",
    "This indicator can be simply calculated as follows:\n",
    "\n",
    "$$\\text{%R} = \\frac{\\text{Highest High} - \\text{Close}}{\\text{Highest High} - \\text{Lowest Low}}$$"
   ]
  },
  {
   "cell_type": "code",
   "execution_count": 249,
   "metadata": {},
   "outputs": [],
   "source": [
    "# william_r dataframe\n",
    "df_will_r = pd.DataFrame()\n",
    "\n",
    "# loop over all tickers\n",
    "for ticker in df_close.columns:\n",
    "    # calculate william_r\n",
    "    temp = ta.momentum.wr(high=df_high[ticker],\n",
    "                          low=df_low[ticker],\n",
    "                          close=df_close[ticker],\n",
    "                          fillna=True)\n",
    "    # concatenate with main dataframe\n",
    "    df_will_r = pd.concat([df_will_r, temp], axis=1)\n",
    "\n",
    "# rename the columns\n",
    "df_will_r.columns = df_close.columns"
   ]
  },
  {
   "cell_type": "markdown",
   "metadata": {},
   "source": [
    "#### 2.3.7. Commodity channel index (CCI)"
   ]
  },
  {
   "cell_type": "markdown",
   "metadata": {},
   "source": [
    "The commodity channel index is another trend indicator, but the difference in this indicator is that it measures the difference between the current price and the historical average price. This indicator can be calculated as follows:\n",
    "\n",
    "$$\\text{CCI}=\\frac{1}{0.015}\\frac{\\text{Typical Price}-\\text{SMA}\\left( \\text{Typical Price}\\right)}{\\text{MD}\\left( \\text{Typical Price}\\right)}$$\n",
    "\n",
    "where $\\text{SMA}$ is the simple moving average and $\\text{MD}$ is the mead absolute deviation.\n",
    "\n",
    "When the CCI is above zero it indicates the price is above the historic average. When CCI is below zero, the price is below the historic average. Readings above 100 typically signals buy signal; and sell signal for reading below -100."
   ]
  },
  {
   "cell_type": "code",
   "execution_count": 250,
   "metadata": {},
   "outputs": [],
   "source": [
    "# cci dataframe\n",
    "df_cci = pd.DataFrame()\n",
    "\n",
    "# loop over all tickers\n",
    "for ticker in df_close.columns:\n",
    "    # calculate cci\n",
    "    temp = ta.trend.cci(high=df_high[ticker],\n",
    "                        low=df_low[ticker],\n",
    "                        close=df_close[ticker],\n",
    "                        fillna=True)\n",
    "    # concatenate with main dataframe\n",
    "    df_cci = pd.concat([df_cci, temp], axis=1)\n",
    "\n",
    "# rename the columns\n",
    "df_cci.columns = df_close.columns"
   ]
  },
  {
   "cell_type": "markdown",
   "metadata": {},
   "source": [
    "#### 2.3.8. Ichimoku indicator"
   ]
  },
  {
   "cell_type": "markdown",
   "metadata": {},
   "source": [
    "The Ichimoku Cloud is a collection of technical indicators that show support and resistance levels, as well as momentum and trend direction. To keep the indicators simple, only the two important indicators from Ichimoku Cloud are used: leading spans A and B. More information on the Ichimoku indicator can be found through online sources and literature."
   ]
  },
  {
   "cell_type": "code",
   "execution_count": 251,
   "metadata": {},
   "outputs": [],
   "source": [
    "# ichi_a and ichi_b dataframe\n",
    "df_ichi_a = pd.DataFrame()\n",
    "df_ichi_b = pd.DataFrame()\n",
    "\n",
    "# loop over all tickers\n",
    "for ticker in df_close.columns:\n",
    "    # calculate ichi_a\n",
    "    temp = ta.trend.ichimoku_a(high=df_high[ticker],\n",
    "                               low=df_low[ticker],\n",
    "                              fillna=True)\n",
    "    # concatenate with main dataframe\n",
    "    df_ichi_a = pd.concat([df_ichi_a, temp], axis=1)\n",
    "    \n",
    "    # calculate ichi_b\n",
    "    temp = ta.trend.ichimoku_b(high=df_high[ticker],\n",
    "                               low=df_low[ticker],\n",
    "                              fillna=True)\n",
    "    # concatenate with main dataframe\n",
    "    df_ichi_b = pd.concat([df_ichi_b, temp], axis=1)\n",
    "\n",
    "# rename the columns\n",
    "df_ichi_a.columns = df_close.columns\n",
    "df_ichi_b.columns = df_close.columns"
   ]
  },
  {
   "cell_type": "markdown",
   "metadata": {},
   "source": [
    "#### 2.3.9. Accumulation/distribution index"
   ]
  },
  {
   "cell_type": "markdown",
   "metadata": {},
   "source": [
    "Accumulation/distribution is a cummulative indicator that makes use of volume and price to determine if the stock is being accummulated of distributed. Typically, a rising A/D line helps confirm a rising price trend whereas a falling A/D line helps confirm a price downtrend.\n",
    "\n",
    "$$\\text{A/D} = \\text{Previous A/D} + { (\\text{Close} - \\text{Low}) - (\\text{High} - \\text{Close}) \\over \\text{High} - \\text{Low} }*\\text{Volume}$$"
   ]
  },
  {
   "cell_type": "code",
   "execution_count": 252,
   "metadata": {},
   "outputs": [],
   "source": [
    "# A/D dataframe\n",
    "df_ad = pd.DataFrame()\n",
    "\n",
    "# loop over all tickers\n",
    "for ticker in df_close.columns:\n",
    "    # calculate cci\n",
    "    temp = ta.volume.acc_dist_index(high=df_high[ticker],\n",
    "                                    low=df_low[ticker],\n",
    "                                    close=df_close[ticker],\n",
    "                                    volume=df_volume[ticker],\n",
    "                                    fillna=True\n",
    "                                   )\n",
    "    # concatenate with main dataframe\n",
    "    df_ad = pd.concat([df_ad, temp], axis=1)\n",
    "\n",
    "# rename the columns\n",
    "df_ad.columns = df_close.columns"
   ]
  },
  {
   "cell_type": "markdown",
   "metadata": {},
   "source": [
    "#### 2.3.10. Bollinger bands"
   ]
  },
  {
   "cell_type": "markdown",
   "metadata": {},
   "source": [
    "Bollinger bands are two lines that are two standard deviations away from the EMA. It is a volatility indicator. Here, it will be presented in terms of percentage as:\n",
    "\n",
    "$$\\text{BB} = \\frac{\\text{Close}-\\text{Lower Band}}{\\text{Higher Band} - \\text{Lower Band}}$$\n",
    "\n",
    "Typically, value of above 0.8 gives sell signal; and buy signal for value below 0.2."
   ]
  },
  {
   "cell_type": "code",
   "execution_count": 253,
   "metadata": {},
   "outputs": [],
   "source": [
    "# Calculate upper and lower band\n",
    "df_bb_up = df_close.apply(ta.volatility.bollinger_hband, fillna=True)\n",
    "df_bb_down = df_close.apply(ta.volatility.bollinger_lband, fillna=True)"
   ]
  },
  {
   "cell_type": "markdown",
   "metadata": {},
   "source": [
    "### 2.4. Data analysis"
   ]
  },
  {
   "cell_type": "markdown",
   "metadata": {},
   "source": [
    "Before performing some data analysis, let us first arrange all dataframes in an array. Further, let's define the training, validation, and testing sets as follows:\n",
    "\n",
    "1. datetime range: 2015-01-02 to 2018-06-29\n",
    "    - train: 2015-02-01 to 2017-06-30\n",
    "    - evaluation: 2017-07-01 to 2017-12-31\n",
    "    - test: 2018-01-01 to 2018-06-29"
   ]
  },
  {
   "cell_type": "code",
   "execution_count": 254,
   "metadata": {},
   "outputs": [],
   "source": [
    "# list all the dataframes of interest\n",
    "dfois = [df_open, df_high, df_low, df_close,df_volume, df_rtn, df_hl,\n",
    "         df_mfi, df_ema, df_rsi, df_stoch_k, df_stoch_d, df_macd, df_will_r, df_cci,\n",
    "         df_ichi_a, df_ichi_b, df_ad, df_bb_up, df_bb_down, df_ftr_rtn]\n",
    "dfois_str = ['open', 'high', 'low', 'close', 'volume', 'rtn', 'hl','mfi', 'ema', 'rsi', 'stoch_k', 'stoch_d', 'macd', \n",
    "             'will_r', 'cci', 'ichi_a', 'ichi_b', 'ad', 'bb_up', 'bb_down', 'ftr_rtn']\n",
    "\n",
    "# remove dates prior to 2015-02-01 and the date 2018-06-29\n",
    "[df.drop(df.iloc[df.index < '2015-02-01'].index, inplace=True) for df in dfois];\n",
    "[df.drop(df.iloc[df.index == '2018-06-29'].index, inplace=True) for df in dfois];"
   ]
  },
  {
   "cell_type": "markdown",
   "metadata": {},
   "source": [
    "First, let us find the correlation between all the dataframes, or in other words, between features. Because we have numerous tickers in a dataframe, it could be difficult to visualise the correlation matrix for all tickers. Therefore, here, we take the average correlation value and visualise the correlations using a heatmap."
   ]
  },
  {
   "cell_type": "code",
   "execution_count": 257,
   "metadata": {},
   "outputs": [
    {
     "data": {
      "image/png": "[encoded data removed]",
      "text/plain": [
       "<Figure size 1080x1080 with 2 Axes>"
      ]
     },
     "metadata": {},
     "output_type": "display_data"
    }
   ],
   "source": [
    "import seaborn as sns\n",
    "\n",
    "# initialise numpy array\n",
    "corr_val = np.empty([len(dfois),len(dfois)])\n",
    "\n",
    "# loop over every dataframe and find correlation\n",
    "for i, df1 in enumerate(dfois):\n",
    "    for j, df2 in enumerate(dfois):\n",
    "        corr_val[i][j] = df1.corrwith(df2).mean()\n",
    "    \n",
    "# visualise the correlation matrix using seaborn\n",
    "fig, ax = plt.subplots(figsize=(15,15))\n",
    "df_corr = pd.DataFrame(corr_val, columns=dfois_str, index=dfois_str)\n",
    "\n",
    "# draw heatmap using seaborn - better visualisation\n",
    "sns.heatmap(\n",
    "    df_corr, \n",
    "    vmin=-1, vmax=1, center=0,\n",
    "    cmap=sns.diverging_palette(20, 220, n=500),\n",
    "    square=True,\n",
    "    ax=ax)\n",
    "\n",
    "ax.set_xticklabels(\n",
    "    ax.get_xticklabels(),\n",
    "    rotation=45,\n",
    "    horizontalalignment='right');\n",
    "\n",
    "ax.set_title('Average colleration matrix heatmap');"
   ]
  },
  {
   "cell_type": "markdown",
   "metadata": {},
   "source": [
    "In additian to the correlation matrix heatmap, let us also have a look at the histogram of data to look for outliers. Before we do that, we need to normalise the data from 0 to 1 for every ticker so that they can be visualised and benchmarked appropriately."
   ]
  },
  {
   "cell_type": "code",
   "execution_count": 258,
   "metadata": {},
   "outputs": [
    {
     "data": {
      "image/png": "[encoded data removed]",
      "text/plain": [
       "<Figure size 1080x2160 with 20 Axes>"
      ]
     },
     "metadata": {},
     "output_type": "display_data"
    }
   ],
   "source": [
    "from sklearn import preprocessing\n",
    "\n",
    "# normalise and draw subplots for each feature\n",
    "fig, axs = plt.subplots(10,2, figsize=(15, 30))   \n",
    "for i, ax in enumerate(axs.flatten()):\n",
    "    if i >= 20:\n",
    "        pass\n",
    "    else:\n",
    "        nomaliser = preprocessing.MinMaxScaler(feature_range=(0,1))\n",
    "        df_val = nomaliser.fit_transform(dfois[i])\n",
    "        ax.hist(df_val.reshape(df_val.shape[0]*df_val.shape[1]), bins=50)\n",
    "        ax.set_title(dfois_str[i])\n",
    "        ax.set_ylabel('Frequency')\n",
    "        ax.grid()"
   ]
  },
  {
   "cell_type": "markdown",
   "metadata": {},
   "source": [
    "Now, let us analyse the correlation heatmap and histograms above.\n",
    "- Firstly, open, high, low and close values are highly correlated to each other. This is expected because the values are within close proximity to each other. As the technical indicators are calculated using these values and intrinsicly retain its information, open, high, and low values can be removed from feature list.\n",
    "- Most of the distributions above are either normal or uniform in shape, expect for hl and volume. This suggests that there will be a large number of outliers in those two features. Although the other features with normal distribution may have outliers in the tail section, they can be considered negligible. In addition, observing the correlation matrix, they also appear to have low correlation to future return, which is the metric we will be predicting. Therefore, it justifies to leave hl and volume out from the feature list.\n",
    "- Similarly, based on the correlation matrix heatmap, some values appear to not have much correlation to ftr_rtn. They are: mfi and ad. To keep the prediction model simple, these features can also be regarded as not useful.\n",
    "- Finally, it also appears that stoch_k is highly correlated to william_r. This is expected because the mathematical expression of both the indicators are similar. Here, william_r will be removed from the feature list.\n",
    "\n",
    "Based on the discussion above, the final feature list would be: close, rtn, ema, rsi, stoch_k, stoch_d, macd, cci, ichi_a, ichi_b, bb_up, bb_down."
   ]
  },
  {
   "cell_type": "markdown",
   "metadata": {},
   "source": [
    "Our strategy is to predict the UP and DOWN movement of a stock together. Based on experience, this is a better strategy compared to predicting the direction of future return as the performance metric based on this can be misleading. For example, if we build a model that minimises the mean-squared-error, that still doesn't mean that the direction of the movement can be correct. If the actual movement is 0.1%, then investing based on 0.5% is better compared to -0.1% prediction although the later might have a error value.\n",
    "\n",
    "Now, we first need to create a target dataframe that categorises into 1 and 0: 1 for UP and 0 for DOWN. Then, let us look at the distribution of the values."
   ]
  },
  {
   "cell_type": "code",
   "execution_count": 259,
   "metadata": {},
   "outputs": [
    {
     "data": {
      "image/png": "[encoded data removed]",
      "text/plain": [
       "<Figure size 432x288 with 1 Axes>"
      ]
     },
     "metadata": {},
     "output_type": "display_data"
    }
   ],
   "source": [
    "# Create target dataframe\n",
    "df_target = (df_ftr_rtn > 0).astype(int)\n",
    "\n",
    "# Look at the proportion\n",
    "values, counts = np.unique(df_target.values.reshape(df_target.shape[0]*df_target.shape[1]), return_counts=True)\n",
    "plt.bar(values,counts,tick_label=['DOWN','UP'])\n",
    "plt.title('Number of UPs and DOWNs')\n",
    "plt.ylabel('Total number')\n",
    "plt.xlabel('Categories')\n",
    "plt.show()"
   ]
  },
  {
   "cell_type": "markdown",
   "metadata": {},
   "source": [
    "Based on the analysis above, it appears that there are more DOWNs than UPs. Therefore, some balancing is required before sending the data for machine learning. Before going into forecasting section, the final list of dataframes should be defined based on the features list finalised earlier."
   ]
  },
  {
   "cell_type": "code",
   "execution_count": 260,
   "metadata": {},
   "outputs": [],
   "source": [
    "# list all the dataframes of interest\n",
    "dfois = [df_close, df_rtn, df_ema, df_rsi, df_stoch_k, df_stoch_d, df_macd, df_cci,\n",
    "         df_ichi_a, df_ichi_b, df_bb_up, df_bb_down, df_target]\n",
    "dfois_str = ['close', 'rtn', 'ema', 'rsi', 'stoch_k', 'stoch_d', 'macd', 'cci',\n",
    "         'ichi_a', 'ichi_b', 'bb_up', 'bb_down', 'target']"
   ]
  },
  {
   "cell_type": "markdown",
   "metadata": {},
   "source": [
    "## 3. Forecasting"
   ]
  },
  {
   "cell_type": "markdown",
   "metadata": {},
   "source": [
    "### 3.1. Long short-term memory model"
   ]
  },
  {
   "cell_type": "markdown",
   "metadata": {},
   "source": [
    "#### 3.1.1. Preprocessing"
   ]
  },
  {
   "cell_type": "markdown",
   "metadata": {},
   "source": [
    "Based on the EDA done in the previous section, this section builds an LSTM neural network model for the prediction of the next day stock price moment; whether it is going upward or downward. \n",
    "\n",
    "First, let us preprocess the data. Let us normalise all the data to be between 0 and 1. Note that the maximum and minimum is with respect to each ticker in each dataframe."
   ]
  },
  {
   "cell_type": "code",
   "execution_count": 261,
   "metadata": {},
   "outputs": [],
   "source": [
    "# list of normalisers corresponding to each dataframe\n",
    "nomalisers = []\n",
    "\n",
    "for i, df in enumerate(dfois[:-1]):\n",
    "    nomalisers.append(preprocessing.MinMaxScaler(feature_range=(0,1)))\n",
    "    columns = df.columns\n",
    "    index = df.index\n",
    "    df = nomalisers[i].fit_transform(df)\n",
    "    dfois[i] = pd.DataFrame(df, columns=columns, index=index)"
   ]
  },
  {
   "cell_type": "markdown",
   "metadata": {},
   "source": [
    "Next, let's split the data to training, validation, and test sets. The training and validation sets will be using during the LSTM network training, while the test set will be used for trading strategy implementation and additional testing of the final model."
   ]
  },
  {
   "cell_type": "code",
   "execution_count": 33,
   "metadata": {},
   "outputs": [],
   "source": [
    "# split all dataframes into test, training, and evaluation sets\n",
    "# train set\n",
    "dfois_train = []\n",
    "for df in dfois:\n",
    "    dfois_train.append(df.iloc[df.index < '2017-07-01'])\n",
    "\n",
    "# test set\n",
    "dfois_test = []\n",
    "for df in dfois:\n",
    "    dfois_test.append(df.iloc[df.index >= '2018-01-01'])\n",
    "\n",
    "# validation set\n",
    "dfois_eval = []\n",
    "for df in dfois:\n",
    "    dfois_eval.append(df.iloc[(df.index >= '2017-07-01') & (df.index < '2018-01-01')])"
   ]
  },
  {
   "cell_type": "markdown",
   "metadata": {},
   "source": [
    "Now, let us scale the data to have mean 0 and unit variance. This scaling is done by training the scaler using data of entire normalised training dataframe. This will be used to transform the training, validation, and test sets."
   ]
  },
  {
   "cell_type": "code",
   "execution_count": 262,
   "metadata": {},
   "outputs": [],
   "source": [
    "# list of scalers corresponding to each dataframe\n",
    "scalers = []\n",
    "\n",
    "# standardise the data by fitting the train set\n",
    "for i, _ in enumerate(dfois[:-1]):\n",
    "    # create the Scaler object\n",
    "    scalers.append(preprocessing.StandardScaler())\n",
    "    \n",
    "    # columns and indexes\n",
    "    columns = dfois_train[i].columns\n",
    "    index_train = dfois_train[i].index\n",
    "    index_test = dfois_test[i].index\n",
    "    index_eval = dfois_eval[i].index\n",
    "    \n",
    "    # fit scale\n",
    "    flat_arr = dfois_train[i].values.reshape(dfois_train[i].shape[0]*dfois_train[i].shape[1],1)\n",
    "    scalers[i].fit(np.tile(flat_arr, dfois_train[i].shape[1]))\n",
    "    \n",
    "    # trasform\n",
    "    train_data = scalers[i].transform(dfois_train[i])\n",
    "    eval_data = scalers[i].transform(dfois_eval[i])\n",
    "    test_data = scalers[i].transform(dfois_test[i])\n",
    "    \n",
    "    # replace list\n",
    "    dfois_train[i] = pd.DataFrame(train_data, columns=columns, index=index_train)\n",
    "    dfois_eval[i] = pd.DataFrame(eval_data, columns=columns, index=index_eval)\n",
    "    dfois_test[i] = pd.DataFrame(test_data, columns=columns, index=index_test)"
   ]
  },
  {
   "cell_type": "markdown",
   "metadata": {},
   "source": [
    "Now, let us sequence the data. As we are using the past 60 days of data for the next day prediction, we need to append the past 60 days worth data and append them in an array. We first write a function and execute onto all three sets of data."
   ]
  },
  {
   "cell_type": "code",
   "execution_count": 269,
   "metadata": {},
   "outputs": [],
   "source": [
    "# arrange sequential_data\n",
    "from collections import deque\n",
    "import random\n",
    "\n",
    "# look at the past 60 days\n",
    "SEQ_LEN = 60\n",
    "\n",
    "def sequence_data(df_list, shuffle=True):\n",
    "    # list containing the data\n",
    "    sequential_data = []\n",
    "\n",
    "    for ticker in df_close.columns:\n",
    "        # initialise dataframe\n",
    "        df_ticker = pd.DataFrame()\n",
    "\n",
    "        # concatenate the dataframes\n",
    "        for df in df_list:\n",
    "            df_ticker = pd.concat([df_ticker, df[ticker]], axis=1)\n",
    "\n",
    "        prev_days = deque(maxlen=SEQ_LEN)\n",
    "        # for values in every row\n",
    "        for i in df_ticker.values: \n",
    "            # remove the targets\n",
    "            prev_days.append([n for n in i[:-1]])  \n",
    "            # append when sequence length is reached\n",
    "            if len(prev_days) == SEQ_LEN: \n",
    "                sequential_data.append([np.array(prev_days), i[-1]])\n",
    "                \n",
    "        # shuffle - we do not need to do this for test set\n",
    "        if shuffle == True:\n",
    "            random.shuffle(sequential_data)\n",
    "\n",
    "    return sequential_data"
   ]
  },
  {
   "cell_type": "code",
   "execution_count": 263,
   "metadata": {},
   "outputs": [
    {
     "name": "stdout",
     "output_type": "stream",
     "text": [
      "Training data length: 82800\n",
      "Validation data length: 10350\n",
      "Testing data length: 9600\n"
     ]
    }
   ],
   "source": [
    "# sequence all data sets\n",
    "sequential_data_train = sequence_data(dfois_train)\n",
    "sequential_data_eval = sequence_data(dfois_eval)\n",
    "sequential_data_test = sequence_data(dfois_test, shuffle=False) # do not shuffle just this one\n",
    "\n",
    "# print the length\n",
    "print('Training data length: {}'.format(len(sequential_data_train)))\n",
    "print('Validation data length: {}'.format(len(sequential_data_eval)))\n",
    "print('Testing data length: {}'.format(len(sequential_data_test)))"
   ]
  },
  {
   "cell_type": "markdown",
   "metadata": {},
   "source": [
    "Once sequencing is complete, we need to balance the data. This is to make sure the LSTM model is not biased towards the downward trends, as observed earlier during data analysis. Let us prepare a function for that, and go on to separate sequences into X (features) and y (target)."
   ]
  },
  {
   "cell_type": "code",
   "execution_count": 264,
   "metadata": {},
   "outputs": [],
   "source": [
    "# balance train and evaluation data\n",
    "def balance_data(sequential_data):\n",
    "    ups = [] \n",
    "    downs = [] \n",
    "    \n",
    "    # separate the sequence into ups and downs\n",
    "    for seq, target in sequential_data:\n",
    "        if target == 0:\n",
    "            downs.append([seq, target])\n",
    "        elif target == 1:\n",
    "            ups.append([seq, target])\n",
    "    \n",
    "    # shuffle to randomise\n",
    "    random.shuffle(ups)\n",
    "    random.shuffle(downs)\n",
    "    \n",
    "    # get the shorter length\n",
    "    lower = min(len(ups), len(downs))\n",
    "    \n",
    "    # truncate the list to shorter length\n",
    "    ups = ups[:lower]\n",
    "    downs = downs[:lower]\n",
    "    \n",
    "    # merge and shuffle\n",
    "    sequential_data = ups+downs\n",
    "    random.shuffle(sequential_data)\n",
    "    \n",
    "    return sequential_data"
   ]
  },
  {
   "cell_type": "code",
   "execution_count": 265,
   "metadata": {},
   "outputs": [],
   "source": [
    "# separate train and target data\n",
    "def separate_data(sequential_data):\n",
    "    X = []\n",
    "    y = []\n",
    "    \n",
    "    # loop over every row in sequential data\n",
    "    for seq, target in sequential_data:\n",
    "        X.append(seq)\n",
    "        y.append(target)\n",
    "\n",
    "    return np.array(X), y"
   ]
  },
  {
   "cell_type": "code",
   "execution_count": 266,
   "metadata": {},
   "outputs": [],
   "source": [
    "# perform balancing by calling the function\n",
    "train_x, train_y = separate_data(balance_data(sequential_data_train))\n",
    "validation_x, validation_y = separate_data(balance_data(sequential_data_eval))"
   ]
  },
  {
   "cell_type": "markdown",
   "metadata": {},
   "source": [
    "#### 3.1.2. Building and training the LSTM model"
   ]
  },
  {
   "cell_type": "markdown",
   "metadata": {},
   "source": [
    "Now, let us build the LSTM models using batch size of 64 and run it for 40 epochs. The summary of the model will be printed out. \n",
    "\n",
    "Essentially, the LSTM models will have 3 LSTM layers and dense layer with activation and then finally a dense output layer with softmax activation function as this is a classification problem. The softmax activation function will output the probability of the classification.\n",
    "\n",
    "To avoid overfitting, dropout layers with are added. As additional measure, regularisation could also be added if deemed necessary so that the weights optimised during training do not get too large. However, in this case, they are not necessary.\n",
    "\n",
    "A adaptive first-order gradient-based optimization known as Adam is used for optimising the network. Another famous optimiser would be the stochastic gradient descent known as SGD. As this is a classification problem, accuracy calculated using sparse categorical crossentropy and loss functions are used as the performance metric.\n",
    "\n",
    "All the metrics specified above are hyperparameters for this model. A hyperparameter search using a grid of batch size, epochs, unit values and optimisers can be performed, but due to the hardware limitations of my laptop, I will stick with the initial hyperparameters I have chosen based on literature review and intuition from past experience."
   ]
  },
  {
   "cell_type": "code",
   "execution_count": 267,
   "metadata": {},
   "outputs": [
    {
     "name": "stdout",
     "output_type": "stream",
     "text": [
      "_________________________________________________________________\n",
      "Layer (type)                 Output Shape              Param #   \n",
      "=================================================================\n",
      "lstm_6 (LSTM)                (None, 60, 128)           72192     \n",
      "_________________________________________________________________\n",
      "dropout_8 (Dropout)          (None, 60, 128)           0         \n",
      "_________________________________________________________________\n",
      "batch_normalization_6 (Batch (None, 60, 128)           512       \n",
      "_________________________________________________________________\n",
      "lstm_7 (LSTM)                (None, 60, 128)           131584    \n",
      "_________________________________________________________________\n",
      "dropout_9 (Dropout)          (None, 60, 128)           0         \n",
      "_________________________________________________________________\n",
      "batch_normalization_7 (Batch (None, 60, 128)           512       \n",
      "_________________________________________________________________\n",
      "lstm_8 (LSTM)                (None, 128)               131584    \n",
      "_________________________________________________________________\n",
      "dropout_10 (Dropout)         (None, 128)               0         \n",
      "_________________________________________________________________\n",
      "batch_normalization_8 (Batch (None, 128)               512       \n",
      "_________________________________________________________________\n",
      "dense_4 (Dense)              (None, 32)                4128      \n",
      "_________________________________________________________________\n",
      "dropout_11 (Dropout)         (None, 32)                0         \n",
      "_________________________________________________________________\n",
      "dense_5 (Dense)              (None, 2)                 66        \n",
      "=================================================================\n",
      "Total params: 341,090\n",
      "Trainable params: 340,322\n",
      "Non-trainable params: 768\n",
      "_________________________________________________________________\n",
      "None\n"
     ]
    }
   ],
   "source": [
    "import tensorflow as tf\n",
    "from tensorflow.keras.models import Sequential, load_model\n",
    "from tensorflow.keras.layers import Dense, Dropout, LSTM, BatchNormalization\n",
    "from tensorflow.keras.callbacks import TensorBoard\n",
    "from tensorflow.keras.callbacks import ModelCheckpoint, ModelCheckpoint\n",
    "\n",
    "# batch size and epochs\n",
    "BATCH_SIZE = 64\n",
    "EPOCHS = 40\n",
    "\n",
    "# build LSTM prediction model\n",
    "model = Sequential()\n",
    "\n",
    "model.add(LSTM(128, input_shape=(train_x.shape[1:]), activation='tanh', return_sequences=True))\n",
    "model.add(Dropout(0.2))\n",
    "model.add(BatchNormalization())\n",
    "\n",
    "model.add(LSTM(128, activation='tanh', return_sequences=True))\n",
    "model.add(Dropout(0.2))\n",
    "model.add(BatchNormalization())\n",
    "\n",
    "model.add(LSTM(128, activation='tanh'))\n",
    "model.add(Dropout(0.2))\n",
    "model.add(BatchNormalization())\n",
    "\n",
    "model.add(Dense(32, activation='relu'))\n",
    "model.add(Dropout(0.2))\n",
    "\n",
    "model.add(Dense(2, activation='softmax'))\n",
    "\n",
    "# Compile model\n",
    "model.compile(loss='sparse_categorical_crossentropy', \n",
    "              optimizer=tf.keras.optimizers.Adam(lr=0.001, decay=1e-6),\n",
    "              metrics=['accuracy'])\n",
    "\n",
    "# Model summary\n",
    "print(model.summary())"
   ]
  },
  {
   "cell_type": "markdown",
   "metadata": {},
   "source": [
    "We now train the model and store the model as `model.h5` in case I need to reload the model."
   ]
  },
  {
   "cell_type": "code",
   "execution_count": 345,
   "metadata": {
    "scrolled": true
   },
   "outputs": [
    {
     "name": "stdout",
     "output_type": "stream",
     "text": [
      "Train on 63302 samples, validate on 8232 samples\n",
      "Epoch 1/40\n",
      "63302/63302 [==============================] - 982s 16ms/step - loss: 0.7080 - acc: 0.5175 - val_loss: 0.6941 - val_acc: 0.5306\n",
      "Epoch 2/40\n",
      "63302/63302 [==============================] - 873s 14ms/step - loss: 0.6925 - acc: 0.5212 - val_loss: 0.6918 - val_acc: 0.5172\n",
      "Epoch 3/40\n",
      "63302/63302 [==============================] - 880s 14ms/step - loss: 0.6911 - acc: 0.5283 - val_loss: 0.6910 - val_acc: 0.5135\n",
      "Epoch 4/40\n",
      "63302/63302 [==============================] - 878s 14ms/step - loss: 0.6890 - acc: 0.5379 - val_loss: 0.6822 - val_acc: 0.5674\n",
      "Epoch 5/40\n",
      "63302/63302 [==============================] - 882s 14ms/step - loss: 0.6864 - acc: 0.5480 - val_loss: 0.6839 - val_acc: 0.5578\n",
      "Epoch 6/40\n",
      "63302/63302 [==============================] - 880s 14ms/step - loss: 0.6846 - acc: 0.5557 - val_loss: 0.6831 - val_acc: 0.5566\n",
      "Epoch 7/40\n",
      "63302/63302 [==============================] - 882s 14ms/step - loss: 0.6836 - acc: 0.5591 - val_loss: 0.6825 - val_acc: 0.5471\n",
      "Epoch 8/40\n",
      "63302/63302 [==============================] - 883s 14ms/step - loss: 0.6825 - acc: 0.5620 - val_loss: 0.6903 - val_acc: 0.5437\n",
      "Epoch 9/40\n",
      "63302/63302 [==============================] - 881s 14ms/step - loss: 0.6816 - acc: 0.5634 - val_loss: 0.6792 - val_acc: 0.5680\n",
      "Epoch 10/40\n",
      "63302/63302 [==============================] - 881s 14ms/step - loss: 0.6816 - acc: 0.5642 - val_loss: 0.6809 - val_acc: 0.5753\n",
      "Epoch 11/40\n",
      "63302/63302 [==============================] - 885s 14ms/step - loss: 0.6808 - acc: 0.5653 - val_loss: 0.6801 - val_acc: 0.5688\n",
      "Epoch 12/40\n",
      "63302/63302 [==============================] - 887s 14ms/step - loss: 0.6800 - acc: 0.5647 - val_loss: 0.6783 - val_acc: 0.5731\n",
      "Epoch 13/40\n",
      "63302/63302 [==============================] - 888s 14ms/step - loss: 0.6790 - acc: 0.5701 - val_loss: 0.6801 - val_acc: 0.5686\n",
      "Epoch 14/40\n",
      "63302/63302 [==============================] - 908s 14ms/step - loss: 0.6785 - acc: 0.5715 - val_loss: 0.6772 - val_acc: 0.5709\n",
      "Epoch 15/40\n",
      "63302/63302 [==============================] - 896s 14ms/step - loss: 0.6790 - acc: 0.5724 - val_loss: 0.6759 - val_acc: 0.5752\n",
      "Epoch 16/40\n",
      "63302/63302 [==============================] - 880s 14ms/step - loss: 0.6787 - acc: 0.5694 - val_loss: 0.6777 - val_acc: 0.5723\n",
      "Epoch 17/40\n",
      "63302/63302 [==============================] - 884s 14ms/step - loss: 0.6775 - acc: 0.5748 - val_loss: 0.6738 - val_acc: 0.5799\n",
      "Epoch 18/40\n",
      "63302/63302 [==============================] - 882s 14ms/step - loss: 0.6765 - acc: 0.5742 - val_loss: 0.6751 - val_acc: 0.5754\n",
      "Epoch 19/40\n",
      "63302/63302 [==============================] - 883s 14ms/step - loss: 0.6759 - acc: 0.5757 - val_loss: 0.6734 - val_acc: 0.5784\n",
      "Epoch 20/40\n",
      "63302/63302 [==============================] - 883s 14ms/step - loss: 0.6760 - acc: 0.5756 - val_loss: 0.6746 - val_acc: 0.5841\n",
      "Epoch 21/40\n",
      "63302/63302 [==============================] - 883s 14ms/step - loss: 0.6761 - acc: 0.5752 - val_loss: 0.6756 - val_acc: 0.5688\n",
      "Epoch 22/40\n",
      "63302/63302 [==============================] - 881s 14ms/step - loss: 0.6760 - acc: 0.5759 - val_loss: 0.6777 - val_acc: 0.5730\n",
      "Epoch 23/40\n",
      "63302/63302 [==============================] - 893s 14ms/step - loss: 0.6787 - acc: 0.5693 - val_loss: 0.6765 - val_acc: 0.5691\n",
      "Epoch 24/40\n",
      "63302/63302 [==============================] - 879s 14ms/step - loss: 0.6765 - acc: 0.5733 - val_loss: 0.6721 - val_acc: 0.5810\n",
      "Epoch 25/40\n",
      "63302/63302 [==============================] - 888s 14ms/step - loss: 0.6759 - acc: 0.5757 - val_loss: 0.6757 - val_acc: 0.5770\n",
      "Epoch 26/40\n",
      "63302/63302 [==============================] - 882s 14ms/step - loss: 0.6753 - acc: 0.5775 - val_loss: 0.6734 - val_acc: 0.5804\n",
      "Epoch 27/40\n",
      "63302/63302 [==============================] - 880s 14ms/step - loss: 0.6752 - acc: 0.5779 - val_loss: 0.6724 - val_acc: 0.5810\n",
      "Epoch 28/40\n",
      "63302/63302 [==============================] - 884s 14ms/step - loss: 0.6743 - acc: 0.5804 - val_loss: 0.6734 - val_acc: 0.5803\n",
      "Epoch 29/40\n",
      "63302/63302 [==============================] - 908s 14ms/step - loss: 0.6736 - acc: 0.5805 - val_loss: 0.6727 - val_acc: 0.5836\n",
      "Epoch 30/40\n",
      "63302/63302 [==============================] - 884s 14ms/step - loss: 0.6744 - acc: 0.5805 - val_loss: 0.6703 - val_acc: 0.5859\n",
      "Epoch 31/40\n",
      "63302/63302 [==============================] - 881s 14ms/step - loss: 0.6736 - acc: 0.5792 - val_loss: 0.6768 - val_acc: 0.5741\n",
      "Epoch 32/40\n",
      "63302/63302 [==============================] - 881s 14ms/step - loss: 0.6736 - acc: 0.5808 - val_loss: 0.6705 - val_acc: 0.5886\n",
      "Epoch 33/40\n",
      "63302/63302 [==============================] - 881s 14ms/step - loss: 0.6728 - acc: 0.5813 - val_loss: 0.6681 - val_acc: 0.5893\n",
      "Epoch 34/40\n",
      "63302/63302 [==============================] - 879s 14ms/step - loss: 0.6731 - acc: 0.5803 - val_loss: 0.6722 - val_acc: 0.5825\n",
      "Epoch 35/40\n",
      "63302/63302 [==============================] - 881s 14ms/step - loss: 0.6732 - acc: 0.5793 - val_loss: 0.6730 - val_acc: 0.5775\n",
      "Epoch 36/40\n",
      "63302/63302 [==============================] - 907s 14ms/step - loss: 0.6732 - acc: 0.5812 - val_loss: 0.6712 - val_acc: 0.5833\n",
      "Epoch 37/40\n",
      "63302/63302 [==============================] - 883s 14ms/step - loss: 0.6727 - acc: 0.5816 - val_loss: 0.6708 - val_acc: 0.5860\n",
      "Epoch 38/40\n",
      "63302/63302 [==============================] - 886s 14ms/step - loss: 0.6720 - acc: 0.5827 - val_loss: 0.6731 - val_acc: 0.5845\n",
      "Epoch 39/40\n",
      "63302/63302 [==============================] - 1121s 18ms/step - loss: 0.6717 - acc: 0.5842 - val_loss: 0.6720 - val_acc: 0.5811\n",
      "Epoch 40/40\n",
      "63302/63302 [==============================] - 1112s 18ms/step - loss: 0.6709 - acc: 0.5838 - val_loss: 0.6731 - val_acc: 0.5858\n"
     ]
    }
   ],
   "source": [
    "# Train model\n",
    "history = model.fit(train_x, train_y,\n",
    "                    batch_size=BATCH_SIZE,\n",
    "                    epochs=EPOCHS,\n",
    "                    validation_data=(validation_x, validation_y))"
   ]
  },
  {
   "cell_type": "code",
   "execution_count": 347,
   "metadata": {},
   "outputs": [],
   "source": [
    "# save the model\n",
    "model.save(\"model.h5\")"
   ]
  },
  {
   "cell_type": "code",
   "execution_count": 271,
   "metadata": {},
   "outputs": [],
   "source": [
    "# load the model\n",
    "model = load_model(\"model.h5\")"
   ]
  },
  {
   "cell_type": "markdown",
   "metadata": {},
   "source": [
    "#### 3.1.3. Analysing model performance"
   ]
  },
  {
   "cell_type": "markdown",
   "metadata": {},
   "source": [
    "Let us look at the history of loss function that is optimised. From the graph below, we can see that the loss function from training and validation data are being minimised and they are within close proximity to each other. This shows that the model is not over- or under-fit."
   ]
  },
  {
   "cell_type": "code",
   "execution_count": 348,
   "metadata": {},
   "outputs": [
    {
     "data": {
      "image/png": "[encoded data removed]",
      "text/plain": [
       "<Figure size 432x288 with 1 Axes>"
      ]
     },
     "metadata": {},
     "output_type": "display_data"
    }
   ],
   "source": [
    "# plot the loss function\n",
    "plt.plot(history.history['loss'])\n",
    "plt.plot(history.history['val_loss'])\n",
    "plt.title('Model train vs validation loss')\n",
    "plt.ylabel('loss')\n",
    "plt.xlabel('epoch')\n",
    "plt.legend(['train', 'validation'], loc='upper right')\n",
    "plt.show()"
   ]
  },
  {
   "cell_type": "markdown",
   "metadata": {},
   "source": [
    "Now let us look at the accuracy based on the test dataset as well as the classification report based on the 2018 data which the model has never seen during training."
   ]
  },
  {
   "cell_type": "code",
   "execution_count": 273,
   "metadata": {},
   "outputs": [
    {
     "name": "stdout",
     "output_type": "stream",
     "text": [
      "Test loss: 0.678178130487601\n",
      "Test accuracy: 0.5464583333333334\n",
      "\n",
      "Classification report:\n",
      "             precision    recall  f1-score   support\n",
      "\n",
      "        0.0       0.74      0.43      0.54      6038\n",
      "        1.0       0.44      0.75      0.55      3562\n",
      "\n",
      "avg / total       0.63      0.55      0.55      9600\n",
      "\n"
     ]
    }
   ],
   "source": [
    "from sklearn.metrics import classification_report\n",
    "\n",
    "# test performance using test set\n",
    "test_x, test_y = separate_data(sequential_data_test)\n",
    "\n",
    "# get the prediction\n",
    "pred = model.predict_classes(test_x)\n",
    "\n",
    "# get prediction probability\n",
    "pred_proba = model.predict(test_x)\n",
    "\n",
    "# accuracy using test\n",
    "score = model.evaluate(test_x, test_y, verbose=0)\n",
    "print('Test loss:', score[0])\n",
    "print('Test accuracy:', score[1])\n",
    "print('')\n",
    "\n",
    "# classification report\n",
    "print('Classification report:')\n",
    "print(classification_report(test_y, pred))"
   ]
  },
  {
   "cell_type": "markdown",
   "metadata": {},
   "source": [
    "The accuracy score based on the test set shows that the results are in line with research [4] whereby the accuracy on test set is lower than that of the training and validation set. The prediction of upward movement has low precision compared to that of the downward trend, which means that there are more false positives when predicting the upward movement. Often, the recall score is inversely proportional to the precision. Therefore, the best measure is the f1-score, which is acceptable for developing a trading strategy."
   ]
  },
  {
   "cell_type": "markdown",
   "metadata": {},
   "source": [
    "#### 3.1.4. Trading strategy"
   ]
  },
  {
   "cell_type": "markdown",
   "metadata": {},
   "source": [
    "Let us define a simple trading strategy. Of all 150 tickers used, open position using \\$1 for each ticker based on the predicted movement by the LSTM network, and close position the next day. This means that everyday, an investment of \\$150 is made and position must be closed the next day.\n",
    "\n",
    "Note that, as the LSTM network requires 60 days of past data, the trading is simulated from 2018-03-27. The cumulative profit and loss (PnL) will be plotted."
   ]
  },
  {
   "cell_type": "code",
   "execution_count": 274,
   "metadata": {},
   "outputs": [],
   "source": [
    "# build index list\n",
    "pred_index = dfois_test[0].index[dfois_test[0].index >= dfois_test[0].head(60).index[-1]]\n",
    "\n",
    "# build prediction dataframe - 1 is BUY and 0 is SELL\n",
    "df_pred = pd.DataFrame(pred.reshape(dfois_test[0].shape[0]-SEQ_LEN+1,dfois_test[0].shape[1], order='F'),\n",
    "                       index = pred_index,\n",
    "                       columns = dfois_test[0].columns)"
   ]
  },
  {
   "cell_type": "code",
   "execution_count": 276,
   "metadata": {},
   "outputs": [
    {
     "data": {
      "image/png": "[encoded data removed]",
      "text/plain": [
       "<Figure size 1080x360 with 1 Axes>"
      ]
     },
     "metadata": {},
     "output_type": "display_data"
    }
   ],
   "source": [
    "# dataframe for right prediction - 1 is CORRECT and 0 is WRONG\n",
    "df_right = (df_pred.astype(bool) == df_target.loc[pred_index].astype(bool)).astype(int)\n",
    "\n",
    "# dataframe for wrong prediction - 1 is WRONG and 0 is CORRECT\n",
    "df_wrong = (~df_right.astype(bool)).astype(int)\n",
    "\n",
    "# datframe for profit\n",
    "df_profit = df_right*df_ftr_rtn.loc[pred_index].abs()\n",
    "\n",
    "# dataframe for loss\n",
    "df_loss = df_wrong*df_ftr_rtn.loc[pred_index].abs()\n",
    "\n",
    "plt.subplots(figsize=(15,5))\n",
    "plt.plot((df_profit.sum(axis=1) - df_loss.sum(axis=1)).cumsum())\n",
    "plt.grid()\n",
    "plt.xlabel('Trading dates')\n",
    "plt.ylabel('Cumulative PnL (AUD)')\n",
    "plt.title('Graph of cumulative profit and loss (PnL)')\n",
    "plt.show()"
   ]
  },
  {
   "cell_type": "markdown",
   "metadata": {},
   "source": [
    "Following the simple strategy, based on 64 days of trading and \\$150 investment per day, the total profit made is about \\$24. On average, this is a 0.25% daily return on investment (ROI). Considering the numbers and the linear trend of the cumulative PnL, I would say that this is a ***successful strategy***. "
   ]
  },
  {
   "cell_type": "markdown",
   "metadata": {},
   "source": [
    "### 3.2. Random forest model"
   ]
  },
  {
   "cell_type": "markdown",
   "metadata": {},
   "source": [
    "#### 3.2.1. Preprocessing"
   ]
  },
  {
   "cell_type": "markdown",
   "metadata": {},
   "source": [
    "Unlike the LSTM, the format of data required for the random forest, as for most of other machine learning models, is straight forward. Let us first transform the data into a unified dataframe, similar to `df_main`."
   ]
  },
  {
   "cell_type": "code",
   "execution_count": 280,
   "metadata": {},
   "outputs": [],
   "source": [
    "# initialise dataframe\n",
    "df_master_std = pd.DataFrame()\n",
    "\n",
    "# loop over every dataframe of interest for train and evaluation\n",
    "for i, df in enumerate(dfois_train):    \n",
    "    # temporary dataframe\n",
    "    df_temp = pd.concat([dfois_train[i],dfois_eval[i],dfois_test[i]])\n",
    "    df_temp.reset_index(inplace=True)\n",
    "    df_temp = df_temp.melt(id_vars='date', var_name='ticker', value_name=dfois_str[i])\n",
    "    df_temp.date = pd.to_datetime(df_temp.date)\n",
    "    \n",
    "    # set the index\n",
    "    df_temp.set_index(['date'], inplace=True)\n",
    "    \n",
    "    # concatenate on index\n",
    "    df_master_std = pd.concat([df_master_std,df_temp], axis=1).drop('ticker', axis=1)\n",
    "\n",
    "# add future return into the dataframe\n",
    "df_temp = df_ftr_rtn.copy()\n",
    "df_temp.reset_index(inplace=True)\n",
    "df_temp = df_temp.melt(id_vars='date', var_name='ticker', value_name='ftr_rtn')\n",
    "df_temp.date = pd.to_datetime(df_temp.date)\n",
    "df_temp.set_index(['date'], inplace=True)\n",
    "df_master_std = pd.concat([df_master_std,df_temp], axis=1, join='inner').drop('ticker', axis=1)"
   ]
  },
  {
   "cell_type": "markdown",
   "metadata": {},
   "source": [
    "Let us now split the dataset to training and test. All training sets are before 2018-01-01 and test datasets are from 2018-01-01, just like we did for LSTM. To keep it simple, cross validation is not performed here. Note that as this is time series data, cross validation has to be performed using the TimeSeriesSplit class from scikit learn in order to prevent look-ahead bias."
   ]
  },
  {
   "cell_type": "code",
   "execution_count": 282,
   "metadata": {},
   "outputs": [],
   "source": [
    "# train and validation datasets\n",
    "df_rf_train = df_master_std.iloc[df_master_std.index < '2018-01-01']\n",
    "df_rf_test = df_master_std.iloc[df_master_std.index >= '2018-01-01']"
   ]
  },
  {
   "cell_type": "code",
   "execution_count": 290,
   "metadata": {},
   "outputs": [],
   "source": [
    "# split dataset into training set and test set\n",
    "feat_list = dfois_str[:-1]\n",
    "targ_list = dfois_str[-1]\n",
    "\n",
    "# finalise X and y values\n",
    "X = np.array(df_rf_train[feat_list])\n",
    "y = np.array(df_rf_train[targ_list])\n",
    "\n",
    "# reshape the labels\n",
    "y = np.reshape(y, (y.shape[0],))"
   ]
  },
  {
   "cell_type": "code",
   "execution_count": 295,
   "metadata": {},
   "outputs": [],
   "source": [
    "from sklearn.model_selection import train_test_split\n",
    "\n",
    "# randomise the training data\n",
    "X_train, _, y_train, _ = train_test_split(X, y, test_size=0.0, random_state=42) "
   ]
  },
  {
   "cell_type": "markdown",
   "metadata": {},
   "source": [
    "#### 3.2.2. Building and training the random forest model"
   ]
  },
  {
   "cell_type": "markdown",
   "metadata": {},
   "source": [
    "The random forest model is built here using 100 trees. Again, as this parameter along with more parameters can be tuned using gridsearch, this is not prioritised here."
   ]
  },
  {
   "cell_type": "code",
   "execution_count": 296,
   "metadata": {},
   "outputs": [
    {
     "data": {
      "text/plain": [
       "RandomForestClassifier(bootstrap=True, class_weight=None, criterion='gini',\n",
       "            max_depth=None, max_features='auto', max_leaf_nodes=None,\n",
       "            min_impurity_decrease=0.0, min_impurity_split=None,\n",
       "            min_samples_leaf=1, min_samples_split=2,\n",
       "            min_weight_fraction_leaf=0.0, n_estimators=100, n_jobs=1,\n",
       "            oob_score=False, random_state=42, verbose=0, warm_start=False)"
      ]
     },
     "execution_count": 296,
     "metadata": {},
     "output_type": "execute_result"
    }
   ],
   "source": [
    "# import the random forest class\n",
    "from sklearn.ensemble import RandomForestClassifier\n",
    "\n",
    "# create rf classifier model\n",
    "clf = RandomForestClassifier(n_estimators=100, random_state=42)\n",
    "\n",
    "# train the model using the training sets y_pred=clf.predict(X_test)\n",
    "clf.fit(X_train,y_train)"
   ]
  },
  {
   "cell_type": "markdown",
   "metadata": {},
   "source": [
    "#### 3.2.3. Analysing model performance"
   ]
  },
  {
   "cell_type": "markdown",
   "metadata": {},
   "source": [
    "Let us look at the test accuracy and classification report generated using the test data."
   ]
  },
  {
   "cell_type": "code",
   "execution_count": 298,
   "metadata": {},
   "outputs": [
    {
     "name": "stdout",
     "output_type": "stream",
     "text": [
      "Test accuracy: 0.6197831978319783\n",
      "\n",
      "Classification report:\n",
      "             precision    recall  f1-score   support\n",
      "\n",
      "          0       0.65      0.85      0.74     11628\n",
      "          1       0.47      0.23      0.31      6822\n",
      "\n",
      "avg / total       0.59      0.62      0.58     18450\n",
      "\n"
     ]
    }
   ],
   "source": [
    "# accuracy using test\n",
    "print(\"Test accuracy:\", clf.score(df_rf_test.loc[:,feat_list], df_rf_test.loc[:,targ_list]))\n",
    "print('')\n",
    "\n",
    "# classification report\n",
    "print('Classification report:')\n",
    "print(classification_report(df_rf_test.loc[:,targ_list], clf.predict(df_rf_test.loc[:,feat_list])))"
   ]
  },
  {
   "cell_type": "markdown",
   "metadata": {},
   "source": [
    "Similar to the LSTM model, the precision of upward movement prediction is significantly lower than that of the the downward movement. The accuracy and f1-score is higher is notably higher than those of the LSTM. "
   ]
  },
  {
   "cell_type": "markdown",
   "metadata": {},
   "source": [
    "#### 3.2.4. Trading strategy"
   ]
  },
  {
   "cell_type": "markdown",
   "metadata": {},
   "source": [
    "Let us follow the same strategy that was employed for the LSTM method and overlay the PnL graph."
   ]
  },
  {
   "cell_type": "code",
   "execution_count": 310,
   "metadata": {},
   "outputs": [
    {
     "data": {
      "image/png": "[encoded data removed]",
      "text/plain": [
       "<Figure size 1080x360 with 1 Axes>"
      ]
     },
     "metadata": {},
     "output_type": "display_data"
    }
   ],
   "source": [
    "# add predict and pnl column for random forest\n",
    "df_rf_test[\"predict_RF\"] = clf.predict(np.array(df_rf_test.loc[:,feat_list]));\n",
    "df_rf_test[\"PnL_RF\"] = ((df_rf_test[\"target\"] == df_rf_test[\"predict_RF\"]).astype(int)-0.5)*2*df_rf_test[\"ftr_rtn\"].abs();\n",
    "\n",
    "# get the pnl values from the starting date in LSTM\n",
    "pnl = df_rf_test.groupby(['date'])['PnL_RF'].sum()\n",
    "pnl = pnl.iloc[pnl.index >= '2018-03-27']\n",
    "\n",
    "# plot the figure\n",
    "plt.subplots(figsize=(15, 5))\n",
    "plt.plot((df_profit.sum(axis=1) - df_loss.sum(axis=1)).cumsum(), label = \"LSTM\")\n",
    "plt.plot(pnl.index, pnl.cumsum(), label = \"Random Forest\")\n",
    "plt.xlabel('Trading dates')\n",
    "plt.ylabel('Cumulative PnL (AUD)')\n",
    "plt.title('Graph of cumulative profit and loss (PnL)')\n",
    "plt.legend()\n",
    "plt.grid()\n",
    "plt.show()"
   ]
  },
  {
   "cell_type": "markdown",
   "metadata": {},
   "source": [
    "Based on the graph above, it appears that the LSTM model performs better than the random forest model in trading (when PnL is used as the performance metric) despite having a lower accuracy, precision, and f-1 score."
   ]
  },
  {
   "cell_type": "markdown",
   "metadata": {},
   "source": [
    "### 3.3. Hybrid model"
   ]
  },
  {
   "cell_type": "markdown",
   "metadata": {},
   "source": [
    "Based on the performance of the two models above, it would be interesting to see if a hybrid model can be built. This is merely a tweak in the trading strategy rather than training a machine learning model."
   ]
  },
  {
   "cell_type": "markdown",
   "metadata": {},
   "source": [
    "#### 3.3.1. Hybrid trading strategy"
   ]
  },
  {
   "cell_type": "markdown",
   "metadata": {},
   "source": [
    "The modified strategy is as follows: the decision to long stocks with upward prediction and short stocks with downward prediction is only done if both the models agree with the same decision. This means that not all 150 stocks will be traded everyday. Let us look at the accuracy and classification report first."
   ]
  },
  {
   "cell_type": "code",
   "execution_count": 327,
   "metadata": {},
   "outputs": [
    {
     "name": "stdout",
     "output_type": "stream",
     "text": [
      "Test accuracy: 0.6737785363772135\n",
      "\n",
      "Classification report:\n",
      "             precision    recall  f1-score   support\n",
      "\n",
      "          0       0.75      0.77      0.76      3140\n",
      "          1       0.51      0.48      0.49      1547\n",
      "\n",
      "avg / total       0.67      0.67      0.67      4687\n",
      "\n"
     ]
    }
   ],
   "source": [
    "from sklearn.metrics import accuracy_score\n",
    "\n",
    "# adding results from lstm into the dataframe\n",
    "df_rf_test = df_rf_test.iloc[df_rf_test.index >= '2018-03-27']\n",
    "df_rf_test['predict_LSTM'] = pred\n",
    "\n",
    "# logic to check if they both agree with prediction, else nan\n",
    "val_hyb = df_rf_test.apply(lambda row: row['predict_LSTM'] if row['predict_LSTM'] == row['predict_RF'] else np.nan, axis=1)\n",
    "print(\"Test accuracy:\", accuracy_score(df_rf_test.loc[val_hyb.notna()]['target'],val_hyb.dropna().astype(int)))\n",
    "print('')\n",
    "\n",
    "# classification report\n",
    "print('Classification report:')\n",
    "print(classification_report(df_rf_test.loc[val_hyb.notna()]['target'],val_hyb.dropna().astype(int)))"
   ]
  },
  {
   "cell_type": "markdown",
   "metadata": {},
   "source": [
    "Compared to the former two models, the hybrid approach hields impressive accuracy, precision, and f1-score of 67%. Let us now overlay the PnL."
   ]
  },
  {
   "cell_type": "code",
   "execution_count": 330,
   "metadata": {},
   "outputs": [
    {
     "data": {
      "image/png": "[encoded data removed]",
      "text/plain": [
       "<Figure size 1080x360 with 1 Axes>"
      ]
     },
     "metadata": {},
     "output_type": "display_data"
    }
   ],
   "source": [
    "# adjust dataframe and calculate PnL\n",
    "df_rf_test['predict_hybrid'] = val_hyb\n",
    "\n",
    "df_temp = df_rf_test.dropna()\n",
    "df_temp[\"PnL_hybrid\"] = ((df_temp[\"target\"] == df_temp[\"predict_hybrid\"]).astype(int)-0.5)*2*df_temp[\"ftr_rtn\"].abs()\n",
    "\n",
    "# pnl of the hybrid approach\n",
    "pnl_hyb = df_temp.groupby(['date'])['PnL_hybrid'].sum()\n",
    "pnl_hyb = pnl_hyb.iloc[pnl_hyb.index >= '2018-03-27']\n",
    "\n",
    "# plotting the graph\n",
    "plt.subplots(figsize=(15, 5))\n",
    "plt.plot((df_profit.sum(axis=1) - df_loss.sum(axis=1)).cumsum(), label = \"LSTM\")\n",
    "plt.plot(pnl.index, pnl.cumsum(), label = \"Random Forest\")\n",
    "plt.plot(pnl_hyb.index, pnl_hyb.cumsum(), label = \"Hybrid\")\n",
    "plt.xlabel('Trading dates')\n",
    "plt.ylabel('Cumulative PnL (AUD)')\n",
    "plt.title('Graph of cumulative profit and loss (PnL)')\n",
    "plt.legend()\n",
    "plt.grid()\n",
    "plt.show()"
   ]
  },
  {
   "cell_type": "markdown",
   "metadata": {},
   "source": [
    "The PnL graph above shows that the hybrid method performs better than the random forest model, but still worse than the LSTM model. This could be misleading because the number of trades done per day following the hybrid approach is not the same as the other two methods. Let us find out what is the number of trades for the hybrid approach."
   ]
  },
  {
   "cell_type": "code",
   "execution_count": 332,
   "metadata": {},
   "outputs": [
    {
     "data": {
      "image/png": "[encoded data removed]",
      "text/plain": [
       "<Figure size 1152x144 with 1 Axes>"
      ]
     },
     "metadata": {},
     "output_type": "display_data"
    }
   ],
   "source": [
    "cnt_hybrid = df_rf_test_2.groupby(['date'])['PnL_hybrid'].count()\n",
    "cnt_rf = df_rf_test.groupby(['date'])['PnL_RF'].count()\n",
    "\n",
    "plt.subplots(figsize=(16, 2))\n",
    "plt.bar(cnt_hybrid.index, cnt_hybrid.values, label = \"Hybrid\", width=0.5, align='center')\n",
    "plt.xlabel('Trading dates')\n",
    "plt.ylabel('Number of trades')\n",
    "plt.title('Graph of number of trades for hybrid strategy')\n",
    "plt.grid()\n",
    "plt.show()"
   ]
  },
  {
   "cell_type": "markdown",
   "metadata": {},
   "source": [
    "As expected, the graph above shows the number of stocks the hybrid strategy trades on is significantly lower than 150. The hybrid method generally does not exceed more than 80 trades per day. Therefore, the more reasonable metric for comparison would be the ROI per day. Let us plot that out using a horizontal bar plot and visualise."
   ]
  },
  {
   "cell_type": "code",
   "execution_count": 335,
   "metadata": {},
   "outputs": [
    {
     "data": {
      "image/png": "[encoded data removed]",
      "text/plain": [
       "<Figure size 1152x1728 with 1 Axes>"
      ]
     },
     "metadata": {},
     "output_type": "display_data"
    }
   ],
   "source": [
    "from datetime import timedelta\n",
    "\n",
    "# pnl of lstm\n",
    "pnl_lstm = (df_profit.sum(axis=1) - df_loss.sum(axis=1))\n",
    "\n",
    "# plotting the roi per day\n",
    "plt.subplots(figsize=(16, 24))\n",
    "plt.barh((pnl_lstm/150*100).index,(pnl_lstm/150*100).values, label = \"LSTM\", align='edge', height=0.25)\n",
    "plt.barh((pnl/cnt_rf*100).index + timedelta(hours=6),(pnl/cnt_rf*100).values, label = \"Random Forest\", align='edge', height=0.25)\n",
    "plt.barh((pnl2/cnt_hybrid*100).index + timedelta(hours=12), (pnl2/cnt_hybrid*100).values, label = \"Hybrid\", align='edge', height=0.25)\n",
    "plt.xlabel('Number of trades')\n",
    "plt.ylabel('Trading dates')\n",
    "plt.title('Graph of return on investment (%) per day for different strategies')\n",
    "plt.legend()\n",
    "plt.grid()\n",
    "plt.show()"
   ]
  },
  {
   "cell_type": "markdown",
   "metadata": {},
   "source": [
    "The bar plot above shows that the hybrid approach often achieves a higher ROI compared to the other two methods. Many days, the ROI has exceeded 1% and in most cases. \n",
    "\n",
    "Now, to cap is off, let us add some statistical significance to all three approaches from the distribution of ROIs."
   ]
  },
  {
   "cell_type": "code",
   "execution_count": 336,
   "metadata": {},
   "outputs": [
    {
     "data": {
      "image/png": "[encoded data removed]",
      "text/plain": [
       "<Figure size 1080x360 with 3 Axes>"
      ]
     },
     "metadata": {},
     "output_type": "display_data"
    }
   ],
   "source": [
    "# distribution of ROI\n",
    "fig, (ax1, ax2, ax3) = plt.subplots(1,3, figsize=(15, 5), sharey=True)   \n",
    "\n",
    "ax1.hist((pnl_lstm/150*100).values, bins=10)\n",
    "ax1.set_title(\"LSTM\")\n",
    "ax1.set_ylabel('Frequency')\n",
    "ax1.set_xlabel('ROI (%)')\n",
    "ax1.grid()\n",
    "\n",
    "ax2.hist((pnl/cnt_rf*100).values, bins=10)\n",
    "ax2.set_title(\"Random Forest\")\n",
    "ax2.set_xlabel('ROI (%)')\n",
    "ax2.grid()\n",
    "\n",
    "ax3.hist((pnl2/cnt_hybrid*100).values, bins=10)\n",
    "ax3.set_title(\"Hybrid\")\n",
    "ax3.set_xlabel('ROI (%)')\n",
    "ax3.grid()"
   ]
  },
  {
   "cell_type": "markdown",
   "metadata": {},
   "source": [
    "The above histograms show that the random forest ROI is positively skewed, which means that most of the ROI values are towards the left hand side tail. This is in line with the performance of cumulative PnL exhibited by the random forest. The hybrid and LSTM models are closer to normal distribution. The only diffence is that the mode of the hybrid is higher (closer to 0.5%) and the right tail extends all the way to 1.5%."
   ]
  },
  {
   "cell_type": "code",
   "execution_count": 227,
   "metadata": {},
   "outputs": [
    {
     "name": "stdout",
     "output_type": "stream",
     "text": [
      "Confidence of employed approaches in making positive ROI based on test set:\n",
      "LSTM: 75.0%\n",
      "Random Forest: 71.875%\n",
      "Hybrid: 81.25%\n"
     ]
    }
   ],
   "source": [
    "from scipy import stats\n",
    "\n",
    "# calculating the confidence\n",
    "conf_lstm = stats.percentileofscore((pnl_lstm/150*100).values, 2) - stats.percentileofscore((pnl_lstm/150*100).values, 0)\n",
    "conf_rf = stats.percentileofscore((pnl/cnt_rf*100).values, 2) - stats.percentileofscore((pnl/cnt_rf*100).values, 0)\n",
    "conf_hybrid = stats.percentileofscore((pnl2/cnt_hybrid*100).values, 2) - stats.percentileofscore((pnl2/cnt_hybrid*100).values, 0)\n",
    "\n",
    "print('Confidence of employed approaches in making positive ROI based on test set:')\n",
    "print('LSTM: {}%'.format(conf_lstm))\n",
    "print('Random Forest: {}%'.format(conf_rf))\n",
    "print('Hybrid: {}%'.format(conf_hybrid))"
   ]
  },
  {
   "cell_type": "markdown",
   "metadata": {},
   "source": [
    "Finally, based on all three models and the 64 days of testing, I can with 81% confidence say that the hybrid approach will provide a positive ROI per day, whereas the confidence for LSTM and random forest are 75% and 71% respectively. Based on this statistics, the hybrid approach is the best trading strategy utilising the best of both LSTM and random forest."
   ]
  },
  {
   "cell_type": "markdown",
   "metadata": {},
   "source": [
    "## Conclusion"
   ]
  },
  {
   "cell_type": "markdown",
   "metadata": {},
   "source": [
    "A historical data of all companies in the Australian Securities Exchange (ASX) was given for the task of predicting the next day movement of the securities and subsequently coming up with a trading strategy.\n",
    "\n",
    "The data was first extracted, analysed, cleaned and features were engineered. Following that, a long short-term memory network and random forest models were built for securities with good predictability. With these two models, a hybrid trading strategy was also proposed.\n",
    "\n",
    "The results shows that the hybrid approach built based of the two models outperforms both the models in terms of accuracy, precision as well as daily return on investment. It promises a positive investment return with 81% confidence based on testing data."
   ]
  },
  {
   "cell_type": "markdown",
   "metadata": {},
   "source": [
    "## Future improvements"
   ]
  },
  {
   "cell_type": "markdown",
   "metadata": {},
   "source": [
    "Based on this attempt, there are several improvements that can be done to further improve the prediction or trading performance. They are:\n",
    "- *More refined categorisation*. The label for the currency movemement can be separated into three categories. For example, in the current version, the ones with future return of 0.00, are categorised as 0 which is a downward movement. Perhaps they can be classified into -1, 0, and 1 and build a trading strategy based on these categories.\n",
    "- *Attempt to tackle hypothesis 2*. The second hypothesis is that the composite indexes are dependent on its constituent securities. Therefore, these securities can be used to predict the movement of composite indexes.\n",
    "- *Using probabilities from LSTM model*. The softmax activation function from the LSTM model built actually ouputs a probability of the categories. Further investigation is required to include the probailities into the trading strategy.\n",
    "- *Using convolutional neural network (CNN)*. Research [6-7] and [4], respectively, show that using CNN and a hybrid method of CNN-LSTM can improve the prediction accuracy. This could be an interesting improvement.\n",
    "- *Hyperparameter search*. With more computing power available, a hyperparameter search can be deployed to find the best parameters for the LSTM and random forest models.\n",
    "- *News data*. Other types of data, such as news related to the securities, can be added as one of the features, as shown by studies [2, 8]. For example, [2] shows that adding the news information (e.g., sentiment) could boost the prediction accuracy by 10% (~58% to ~70%). \n"
   ]
  },
  {
   "cell_type": "markdown",
   "metadata": {},
   "source": [
    "## References"
   ]
  },
  {
   "cell_type": "markdown",
   "metadata": {},
   "source": [
    "[1] Borovkova S, Tsiamas I. An ensemble of LSTM neural networks for high-frequency stock market classification. Journal of Forecasting. 2019;1–20. https://doi.org/10.1002/for.2585\n",
    "\n",
    "[2] Zhai Y, Hsu A, Halgamuge SK. Combining News and Technical Indicators in Daily Stock Price Trends Prediction. Lecture Notes in Computer Science. 2007; https://link.springer.com/chapter/10.1007/978-3-540-72395-0_132\n",
    "\n",
    "[3] Hegazy O, Soliman OS, Salam MA. A Machine Learning Model for Stock Market Prediction. International Journal of Computer Science and Telecommunications. 2013; 17-23. https://www.ijcst.org/Volume4/Issue12/p4_4_12.pdf\n",
    "\n",
    "[4] Vargas MR, dos-Anjos CEM, Bichara GLG, Evsukoff AG. Deep Learning for Stock Market Prediction Using Technical Indicators and Financial News Articles. 2018; https://doi.org/10.1109/IJCNN.2018.8489208\n",
    "\n",
    "[5] Padial DL. Technical Analysis Library in Python. 2019; https://github.com/bukosabino/ta\n",
    "\n",
    "[6] Selvin S, Vinayakumar R, Gopalakrishnan E.A, Menon VK, Soman K.P. Stock price prediction using LSTM, RNN and CNN-sliding window model. 2017 International Conference on Advances in Computing, Communications and Informatics (ICACCI). 2017; https://doi.org/10.1109/ICACCI.2017.8126078\n",
    "\n",
    "[7] Chen S, He H. Stock Prediction Using Convolutional Neural Network. IOP Conference Series: Materials Science and Engineering. 2018; https://doi.org/10.1088/1757-899X/435/1/012026\n",
    "\n",
    "[8] Weng B, Lu L, Wang X, Megahed FM, Martinez W. Predicting Short-Term Stock Prices Using Ensemble Methods and Online Data Sources. Expert Systems with Applications. 2018; https://doi.org/10.1016/j.eswa.2018.06.016"
   ]
  }
 ],
 "metadata": {
  "kernelspec": {
   "display_name": "Python 3",
   "language": "python",
   "name": "python3"
  },
  "language_info": {
   "codemirror_mode": {
    "name": "ipython",
    "version": 3
   },
   "file_extension": ".py",
   "mimetype": "text/x-python",
   "name": "python",
   "nbconvert_exporter": "python",
   "pygments_lexer": "ipython3",
   "version": "3.6.5"
  }
 },
 "nbformat": 4,
 "nbformat_minor": 2
}
